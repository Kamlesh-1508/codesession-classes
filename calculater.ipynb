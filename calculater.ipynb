{
 "cells": [
  {
   "cell_type": "code",
   "execution_count": 1,
   "metadata": {},
   "outputs": [
    {
     "name": "stdout",
     "output_type": "stream",
     "text": [
      "Enter your frist number: 45\n",
      "Enter your second number: 65\n",
      "plese select any operation :+,-,*,/,%,**,// : +\n",
      "addition =  110\n",
      "'thank you using for calculater made by kamlesh kumar prajapat'\n"
     ]
    }
   ],
   "source": [
    "    a= int(input(\"Enter your frist number: \"))\n",
    "    b=int(input(\"Enter your second number: \"))\n",
    "    km=input(\"plese select any operation :+,-,*,/,%,**,// : \")\n",
    "\n",
    "    if km == '+':\n",
    "        print(\"addition = \",a+b)\n",
    "    elif km=='-':\n",
    "        print(\"subtraction = \",a-b)\n",
    "    elif km=='*': \n",
    "        print(\"product = \",a*b)\n",
    "    elif km=='/':\n",
    "        print(\"division = \",a/b)\n",
    "    elif km == '%':\n",
    "        print(\"modules = \",a%b)\n",
    "    elif km=='**':\n",
    "        print(\"expotente. = \",a**b)\n",
    "    elif km=='//':\n",
    "        print(\"floor devision = \",a//b)\n",
    "    else:\n",
    "        \n",
    "        \n",
    "        \n",
    "        print(\"Error,sorry this operation is not proform here.\")\n",
    "print(\"'thank you using for calculater made by kamlesh kumar prajapat'\")"
   ]
  }
 ],
 "metadata": {
  "kernelspec": {
   "display_name": "Python 3",
   "language": "python",
   "name": "python3"
  },
  "language_info": {
   "codemirror_mode": {
    "name": "ipython",
    "version": 3
   },
   "file_extension": ".py",
   "mimetype": "text/x-python",
   "name": "python",
   "nbconvert_exporter": "python",
   "pygments_lexer": "ipython3",
   "version": "3.7.3"
  }
 },
 "nbformat": 4,
 "nbformat_minor": 2
}
