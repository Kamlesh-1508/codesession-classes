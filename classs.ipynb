{
 "cells": [
  {
   "cell_type": "code",
   "execution_count": 77,
   "metadata": {},
   "outputs": [
    {
     "name": "stdout",
     "output_type": "stream",
     "text": [
      "kamlesh\n",
      "prajapat\n",
      "20\n",
      "{'f_name': 'kamlesh', 'l_name': 'prajapat', 'age': 20}\n"
     ]
    }
   ],
   "source": [
    "# how to create class\n",
    "class Persion:\n",
    "    def __init__(self,frist_name,last_name,age):\n",
    "        self.f_name=frist_name\n",
    "        self.l_name=last_name\n",
    "        self.age=age\n",
    "    \n",
    "p1=Persion('kamlesh','prajapat',20)\n",
    "print(p1.f_name)\n",
    "print(p1.l_name)\n",
    "print(p1.age)\n",
    "print(p1.__dict__)"
   ]
  },
  {
   "cell_type": "code",
   "execution_count": 76,
   "metadata": {},
   "outputs": [
    {
     "name": "stdout",
     "output_type": "stream",
     "text": [
      "hp\n",
      "probook6470b\n",
      "20000\n",
      "{'bname': 'hp', 'mname': 'probook6470b', 'p': 20000}\n"
     ]
    }
   ],
   "source": [
    "class Laptop:\n",
    "    def __init__(self,brandname,modelname,prize):\n",
    "        self.bname=brandname \n",
    "        self.mname=modelname\n",
    "        self.p=prize\n",
    "        \n",
    "l=Laptop('hp','probook6470b',20000)\n",
    "print(l.bname)\n",
    "print(l.mname)\n",
    "print(l.p)\n",
    "print(l.__dict__)"
   ]
  },
  {
   "cell_type": "code",
   "execution_count": 78,
   "metadata": {},
   "outputs": [
    {
     "name": "stdout",
     "output_type": "stream",
     "text": [
      "kamlesh kumar 20\n",
      "teena prajapat 17\n",
      "False\n",
      "{'fname': 'teena', 'lname': 'prajapat', 'age': 17}\n"
     ]
    }
   ],
   "source": [
    "# instance variable:\n",
    "class Persion:\n",
    "    def __init__(self,f_name,l_name,age):\n",
    "        self.fname=f_name\n",
    "        self.lname=l_name\n",
    "        self.age=age\n",
    "    def fullname(self):\n",
    "        return f\"{self.fname} {self.lname} {self.age}\"\n",
    "    def is_above_18(self):\n",
    "        return self.age>18\n",
    "        \n",
    "        \n",
    "p1=Persion('kamlesh','kumar',20)\n",
    "p2=Persion('teena','prajapat',17)\n",
    "print(p1.fullname())\n",
    "print(Persion.fullname(p2))\n",
    "print(p2.is_above_18())\n",
    "print(p2.__dict__)"
   ]
  },
  {
   "cell_type": "code",
   "execution_count": 79,
   "metadata": {},
   "outputs": [
    {
     "name": "stdout",
     "output_type": "stream",
     "text": [
      "90.0\n"
     ]
    }
   ],
   "source": [
    "class laptop:\n",
    "    discount=10\n",
    "    def __init__(self,brand_name,model_name,price):\n",
    "        self.bname=brand_name\n",
    "        self.mname=model_name\n",
    "        self.p=price\n",
    "        self.laptop_name=brand_name+' '+model_name\n",
    "    def apply_discount(self):\n",
    "        off_prize=(laptop.discount/100)*self.p\n",
    "        return self.p-off_prize\n",
    "l1=laptop('hp','probook6470b',100)\n",
    "print(l1.apply_discount())\n"
   ]
  },
  {
   "cell_type": "code",
   "execution_count": 3,
   "metadata": {},
   "outputs": [
    {
     "name": "stdout",
     "output_type": "stream",
     "text": [
      "enter your number::4\n",
      "25.12\n"
     ]
    }
   ],
   "source": [
    "# class varaiable:class variable value are shered with every object\n",
    "class circle:\n",
    "    pi=3.14\n",
    "    def __init__(self,redius):\n",
    "        self.redius=redius\n",
    "\n",
    "    def calc_circumferece(self):\n",
    "        return 2*circle.pi*self.redius\n",
    "a=int(input(\"enter your number::\"))    \n",
    "c=circle(a)\n",
    "print(c.calc_circumferece())\n",
    "    \n",
    " "
   ]
  },
  {
   "cell_type": "code",
   "execution_count": 20,
   "metadata": {},
   "outputs": [
    {
     "name": "stdout",
     "output_type": "stream",
     "text": [
      "2\n",
      "kamlesh teena 20\n",
      "teena kamlesh 17\n",
      "{'fname': 'kamlesh', 'lname': 'teena', 'age': 20}\n",
      "{'fname': 'teena', 'lname': 'kamlesh', 'age': 17}\n"
     ]
    }
   ],
   "source": [
    "# class variable\n",
    "class kamlesh:\n",
    "    count = 0\n",
    "    def __init__(self,fname,lname,age):\n",
    "        kamlesh.count +=1\n",
    "        self.fname=fname\n",
    "        self.lname=lname\n",
    "        self.age=age\n",
    "    \n",
    "    def fullname(self):\n",
    "        return f\"{self.fname} {self.lname} {self.age}\"\n",
    "        \n",
    "p1=kamlesh('kamlesh','teena',20)\n",
    "p2=kamlesh('teena','kamlesh',17)\n",
    "print(kamlesh.count)\n",
    "print(p1.fullname())\n",
    "print(p2.fullname())\n",
    "print(p1.__dict__)\n",
    "print(p2.__dict__)"
   ]
  },
  {
   "cell_type": "code",
   "execution_count": 8,
   "metadata": {},
   "outputs": [
    {
     "name": "stdout",
     "output_type": "stream",
     "text": [
      "kamlesh prajapat 20\n",
      "you have created instance  of persion class\n"
     ]
    }
   ],
   "source": [
    "# classmethod\n",
    "class persion:\n",
    "    def __init__(self,fname,lname,age):\n",
    "        self.fname=fname\n",
    "        self.lname=lname\n",
    "        self.age=age\n",
    "    @classmethod\n",
    "    def count_instance(cls):\n",
    "        return f\"you have created instance  of persion class\"\n",
    "    \n",
    "    def fullname(self):\n",
    "        return f\"{self.fname} {self.lname} {self.age}\"\n",
    "        \n",
    "p=persion('kamlesh','prajapat',20)\n",
    "print(p.fullname())\n",
    "print(persion.count_instance())"
   ]
  },
  {
   "cell_type": "code",
   "execution_count": 13,
   "metadata": {},
   "outputs": [
    {
     "name": "stdout",
     "output_type": "stream",
     "text": [
      "kamlesh prajapat 20\n",
      "kamlesh teena  20\n",
      "hello,static method called\n"
     ]
    }
   ],
   "source": [
    "# static method\n",
    "class persion:\n",
    "    def __init__(self,fname,lname,age):\n",
    "        self.fname=fname\n",
    "        self.lname=lname\n",
    "        self.age=age\n",
    "    @classmethod\n",
    "    def from_string(cls,string):\n",
    "        fname,lname,age=string.split(',')\n",
    "        return cls(fname,lname,age)\n",
    "    @staticmethod\n",
    "    def hello():\n",
    "        print('hello,static method called')\n",
    "        \n",
    "        \n",
    "        \n",
    "    def fullname(self):\n",
    "        return f\"{self.fname} {self.lname} {self.age}\"\n",
    "        \n",
    "        \n",
    "p=persion('kamlesh','prajapat',20)\n",
    "print(p.fullname())\n",
    "p1=persion.from_string('kamlesh,teena ,20')\n",
    "print(p1.fullname())\n",
    "persion.hello()"
   ]
  },
  {
   "cell_type": "code",
   "execution_count": 21,
   "metadata": {},
   "outputs": [
    {
     "name": "stdout",
     "output_type": "stream",
     "text": [
      "realme 3pro 14000\n",
      "hello,this static method is called\n"
     ]
    }
   ],
   "source": [
    "# staticmethod\n",
    "class phone:\n",
    "    def __init__(self,phonename,modelname,price):\n",
    "        self.phonename=phonename\n",
    "        self.modelname=modelname\n",
    "        self.price=price\n",
    "    def fullname(self):\n",
    "        return f\"{self.phonename} {self.modelname} {self.price}\"\n",
    "    @staticmethod\n",
    "    def hello():\n",
    "        print('hello,this static method is called')\n",
    "p=phone('realme','3pro',14000)\n",
    "print(p.fullname())\n",
    "phone.hello()"
   ]
  },
  {
   "cell_type": "code",
   "execution_count": 9,
   "metadata": {},
   "outputs": [
    {
     "name": "stdout",
     "output_type": "stream",
     "text": [
      "realme 3pro 14000\n",
      "5000\n",
      "calling 9587439122....\n",
      "realme 3pro and price is 14000\n"
     ]
    }
   ],
   "source": [
    "# encapsulation\n",
    "class phone:\n",
    "    def __init__(self,brandname,modelname,price):\n",
    "        self.brandname=brandname\n",
    "        self.modelname=modelname\n",
    "        self.price=price\n",
    "        self.complite_specition = f\"{self.brandname} {self.modelname} and price is {self.price}\"\n",
    "    def make_a_call(phone_number):\n",
    "        print(f\"calling {phone_number}....\")\n",
    "    def fullname(self):\n",
    "        return f\"{self.brandname} {self.modelname} {self.price}\"\n",
    "    \n",
    "p=phone('realme','3pro',14000)\n",
    "print(p.fullname())\n",
    "p.price=5000\n",
    "print(p.price)\n",
    "phone.make_a_call(9587439122)\n",
    "print(p.complite_specition)\n",
    "        "
   ]
  }
 ],
 "metadata": {
  "kernelspec": {
   "display_name": "Python 3",
   "language": "python",
   "name": "python3"
  },
  "language_info": {
   "codemirror_mode": {
    "name": "ipython",
    "version": 3
   },
   "file_extension": ".py",
   "mimetype": "text/x-python",
   "name": "python",
   "nbconvert_exporter": "python",
   "pygments_lexer": "ipython3",
   "version": "3.7.3"
  }
 },
 "nbformat": 4,
 "nbformat_minor": 2
}
