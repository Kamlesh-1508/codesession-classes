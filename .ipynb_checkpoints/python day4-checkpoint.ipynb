{
 "cells": [
  {
   "cell_type": "code",
   "execution_count": 1,
   "metadata": {},
   "outputs": [
    {
     "name": "stdout",
     "output_type": "stream",
     "text": [
      "hi everyone\n",
      "good morning \n",
      "\"my name is kamlesh kumar prajapat\"\n",
      "\"i have done diploma in computer sicence engg. in 2019\"\n"
     ]
    }
   ],
   "source": [
    "#\\n=for new line in programe.\n",
    "a = 'hi everyone\\ngood morning \\n\"my name is kamlesh kumar prajapat\"\\n\"i have done diploma in computer sicence engg. in 2019\"'\n",
    "print(a)"
   ]
  },
  {
   "cell_type": "code",
   "execution_count": 1,
   "metadata": {},
   "outputs": [
    {
     "name": "stdout",
     "output_type": "stream",
     "text": [
      "26\n",
      "m\n",
      "m\n"
     ]
    }
   ],
   "source": [
    "#indexing in string = represent of string value.\n",
    "# start index in python language=0123456789.\n",
    "a=\"i am kamlesh kumar prajpat\"\n",
    "print(len(a))\n",
    "print(a[15])\n",
    "print(a[7])"
   ]
  },
  {
   "cell_type": "code",
   "execution_count": 8,
   "metadata": {},
   "outputs": [
    {
     "name": "stdout",
     "output_type": "stream",
     "text": [
      "22\n",
      "range= ksmra\n"
     ]
    }
   ],
   "source": [
    "# string sub list\n",
    "a=\"kamlesh kumar prajapat\"\n",
    "print(len(a))\n",
    "print(\"range=\",a[0:22:5])"
   ]
  },
  {
   "cell_type": "code",
   "execution_count": 27,
   "metadata": {},
   "outputs": [
    {
     "name": "stdout",
     "output_type": "stream",
     "text": [
      "27\n"
     ]
    }
   ],
   "source": [
    "# lenth count fumction\n",
    "a = 'i am kamlesh kumar prajapat'\n",
    "print(len(a))"
   ]
  },
  {
   "cell_type": "code",
   "execution_count": 5,
   "metadata": {},
   "outputs": [
    {
     "name": "stdout",
     "output_type": "stream",
     "text": [
      "\"i am kamlesh kumar prajajpat\"\n"
     ]
    }
   ],
   "source": [
    "#double quoits  represnt in program.\n",
    "a = '\"i am kamlesh kumar prajajpat\"'\n",
    "print(a)"
   ]
  },
  {
   "cell_type": "code",
   "execution_count": 4,
   "metadata": {},
   "outputs": [
    {
     "name": "stdout",
     "output_type": "stream",
     "text": [
      "'i am kamlesh kumar prajapat'\n"
     ]
    }
   ],
   "source": [
    "# single quoits represnt in program.\n",
    "a = \"'i am kamlesh kumar prajapat'\"\n",
    "print(a)"
   ]
  },
  {
   "cell_type": "code",
   "execution_count": 21,
   "metadata": {},
   "outputs": [
    {
     "name": "stdout",
     "output_type": "stream",
     "text": [
      "Helo good morining\n",
      "i am kamlesh kumar prajapat\n",
      "i live jaipur in rajasthan \n",
      " i have done diploma in computer science engg.in 2019\n",
      " and B.A clear in 2019\n",
      "my father a farmer  and we are five brother$sister\n",
      "me learn python language in present time \n",
      "my hooby singing song and watch movies.\n"
     ]
    }
   ],
   "source": [
    "# use for triple quiots(''' ''')\n",
    "a ='''Helo good morining\n",
    "i am kamlesh kumar prajapat\n",
    "i live jaipur in rajasthan \n",
    " i have done diploma in computer science engg.in 2019\n",
    " and B.A clear in 2019\n",
    "my father a farmer  and we are five brother$sister\n",
    "me learn python language in present time \n",
    "my hooby singing song and watch movies.'''\n",
    "print(a)"
   ]
  },
  {
   "cell_type": "code",
   "execution_count": 25,
   "metadata": {},
   "outputs": [
    {
     "name": "stdout",
     "output_type": "stream",
     "text": [
      "Hello gyu`s \n",
      "good moring everyone \n",
      "I am kamlesh kumar prajapat\n",
      "I live jaipur in rajathan\n",
      "I have done diploma in computer science engg. in 2019\n",
      "           and with clear B.A in 2019 form rajasthan university for non colllage \n",
      "we are seven member in my family! my father is a farmer amd we are five brother $ sister.\n",
      "my hobby singing song and watch movies,love story and read the book.\n",
      "me learn python programe language in present time.\n",
      "i am very happy fell with you do work in python language\n",
      "so fillinly very haapy.\n",
      "\n",
      "Thank you everyone                                                    \n",
      "                                                                           \n",
      "                                                                                      \n",
      "                                                                                       sing\n",
      "                                                                                       \n",
      "                    Made by kamlesh kumar prajapat mo.9587439122\n",
      "                     programmer in python language\n"
     ]
    }
   ],
   "source": [
    "# use for triple quiots(\"\"\" \"\"\") \n",
    "x = \"\"\"Hello gyu`s \n",
    "good moring everyone \n",
    "I am kamlesh kumar prajapat\n",
    "I live jaipur in rajathan\n",
    "I have done diploma in computer science engg. in 2019\n",
    "           and with clear B.A in 2019 form rajasthan university for non colllage \n",
    "we are seven member in my family! my father is a farmer amd we are five brother $ sister.\n",
    "my hobby singing song and watch movies,love story and read the book.\n",
    "me learn python programe language in present time.\n",
    "i am very happy fell with you do work in python language\n",
    "so fillinly very haapy.\n",
    "\n",
    "Thank you everyone                                                    \n",
    "                                                                           \n",
    "                                                                                      \n",
    "                                                                                       sing\n",
    "                                                                                       \n",
    "                    Made by kamlesh kumar prajapat mo.9587439122\n",
    "                     programmer in python language\"\"\"\n",
    "print(x)"
   ]
  },
  {
   "cell_type": "code",
   "execution_count": 29,
   "metadata": {},
   "outputs": [
    {
     "name": "stdout",
     "output_type": "stream",
     "text": [
      "i am kamlesh kumar prjapat \n"
     ]
    }
   ],
   "source": [
    "# lower function in prgram.\n",
    "a = 'I AM KAMLESH KUMAR PRJAPAT '\n",
    "print(a.lower())"
   ]
  },
  {
   "cell_type": "code",
   "execution_count": 31,
   "metadata": {},
   "outputs": [
    {
     "name": "stdout",
     "output_type": "stream",
     "text": [
      "I AM KAMLESH KUMAR PRAJAPAT\n"
     ]
    }
   ],
   "source": [
    "#upper function in program.\n",
    "a = 'i am kamlesh kumar prajapat'\n",
    "print(a.upper())"
   ]
  },
  {
   "cell_type": "code",
   "execution_count": 35,
   "metadata": {},
   "outputs": [
    {
     "name": "stdout",
     "output_type": "stream",
     "text": [
      "my name is kamlesh kumar prajapat\n"
     ]
    }
   ],
   "source": [
    "#strip function in program.\n",
    "a=\"my name is kamlesh kumar prajapat\"\n",
    "print(a.strip())"
   ]
  },
  {
   "cell_type": "code",
   "execution_count": 37,
   "metadata": {},
   "outputs": [
    {
     "name": "stdout",
     "output_type": "stream",
     "text": [
      "i am kamlesh kumar prajapat\n"
     ]
    }
   ],
   "source": [
    "#lstrip in program.\n",
    "a='i am kamlesh '\n",
    "b='kumar prajapat'\n",
    "print(a.lstrip()+b)"
   ]
  },
  {
   "cell_type": "code",
   "execution_count": 60,
   "metadata": {},
   "outputs": [
    {
     "name": "stdout",
     "output_type": "stream",
     "text": [
      "good morning kamlesh,good morning prajapat ji\n"
     ]
    }
   ],
   "source": [
    "#Replace is work to replace in string.\n",
    "text= \"hello kamlesh,hello prajapat ji\"\n",
    "print(text.replace(\"hello\",\"good morning\"))\n"
   ]
  },
  {
   "cell_type": "code",
   "execution_count": 3,
   "metadata": {},
   "outputs": [
    {
     "name": "stdout",
     "output_type": "stream",
     "text": [
      "['', 'kamlesh ', 'kumar ', 'prajapat']\n"
     ]
    }
   ],
   "source": [
    "#split=remove the word in string.\n",
    "#use the split function.\n",
    "string='qkamlesh qkumar qprajapat'\n",
    "x=string.split(\"q\")\n",
    "print(x)"
   ]
  },
  {
   "cell_type": "code",
   "execution_count": 2,
   "metadata": {},
   "outputs": [
    {
     "data": {
      "text/plain": [
       "'Kamlesh kumar prajapat'"
      ]
     },
     "execution_count": 2,
     "metadata": {},
     "output_type": "execute_result"
    }
   ],
   "source": [
    "#use for capitalize\n",
    "a=\"kamlesh kumar prajapat\"\n",
    "a.capitalize()"
   ]
  },
  {
   "cell_type": "code",
   "execution_count": 12,
   "metadata": {},
   "outputs": [
    {
     "name": "stdout",
     "output_type": "stream",
     "text": [
      "enter your age:35\n",
      "enter your age:65\n",
      "my age is -30\n",
      "my age is 100\n"
     ]
    }
   ],
   "source": [
    "# string formating \n",
    "a=int(input(\"enter your age:\"))\n",
    "b=int(input(\"enter your age:\"))\n",
    "print(\"my age is\",a-b)\n",
    "print(\"my age is\",a+b)"
   ]
  },
  {
   "cell_type": "code",
   "execution_count": 40,
   "metadata": {},
   "outputs": [
    {
     "name": "stdout",
     "output_type": "stream",
     "text": [
      "this artical is  writen by kamleshkumar\n"
     ]
    }
   ],
   "source": [
    "# x Format string\n",
    "x = \"this artical {0}  writen by {1}{2}\"\n",
    "print(x.format(\"is\",\"kamlesh\",\"kumar\"))"
   ]
  },
  {
   "cell_type": "code",
   "execution_count": 50,
   "metadata": {},
   "outputs": [
    {
     "name": "stdout",
     "output_type": "stream",
     "text": [
      "hii welcome to 'india' thanks\n",
      "hii {'welcome to'} {\"'india'\"} thanks\n"
     ]
    }
   ],
   "source": [
    "a=\"welcome to\"\n",
    "b=\"'india'\"\n",
    "print(\"hii\",a,b,\"thanks\")\n",
    "print(F\"hii\", {a},{b},\"thanks\")"
   ]
  },
  {
   "cell_type": "code",
   "execution_count": 56,
   "metadata": {},
   "outputs": [
    {
     "name": "stdout",
     "output_type": "stream",
     "text": [
      "codeasession is live instagram and facebook \n"
     ]
    }
   ],
   "source": [
    "#f.formating\n",
    "print(\"codeasession is live {0} {1} {2} \".format(\"instagram\",\"and\",\"facebook\",))"
   ]
  },
  {
   "cell_type": "code",
   "execution_count": 85,
   "metadata": {},
   "outputs": [
    {
     "name": "stdout",
     "output_type": "stream",
     "text": [
      "i`m kamlesh kumar form jaipur rajasthan\n",
      "i`m kamlesh live in facebook instagram toady 5pm.\n",
      "hii i`m kamlesh\n"
     ]
    }
   ],
   "source": [
    "a = 'kamlesh'\n",
    "print(\"i`m %s %s form jaipur rajasthan\"%(\"kamlesh\",\"kumar\"))\n",
    "print(\"i`m %s live in %s toady 5pm.\"%(\"kamlesh\",\"facebook instagram\"))\n",
    "print(\"hii i`m\",a)"
   ]
  },
  {
   "cell_type": "code",
   "execution_count": 2,
   "metadata": {},
   "outputs": [
    {
     "name": "stdout",
     "output_type": "stream",
     "text": [
      "enter you no:65\n",
      "i`m wrote 65 programe today.\n",
      "i`m wrote 585.000000 programe today .\n",
      "i`m wrote 25.000000 programe today.\n"
     ]
    }
   ],
   "source": [
    "a=int(input('enter you no:'))\n",
    "print(\"i`m wrote %i programe today.\"%a)\n",
    "print(\"i`m wrote %f programe today .\"%585)\n",
    "print(\"i`m wrote %5f programe today.\"%25)"
   ]
  },
  {
   "cell_type": "code",
   "execution_count": 6,
   "metadata": {},
   "outputs": [
    {
     "name": "stdout",
     "output_type": "stream",
     "text": [
      "45\n",
      "20\n",
      "2\n",
      "<class 'int'> \n",
      " <class 'int'> \n",
      " <class 'int'>\n"
     ]
    }
   ],
   "source": [
    "# casting = change formate  use for casting\n",
    "# integer casting\n",
    "x=int(45)\n",
    "y=int(20.5)\n",
    "z=int(\"2\")\n",
    "print(x)\n",
    "print(y)\n",
    "print(z)\n",
    "print(type(z),'\\n',type(y),'\\n',type(y))"
   ]
  },
  {
   "cell_type": "code",
   "execution_count": 1,
   "metadata": {},
   "outputs": [
    {
     "name": "stdout",
     "output_type": "stream",
     "text": [
      "1.0 \n",
      " 552120.0 \n",
      " 254.0\n",
      "<class 'float'> \n",
      " <class 'float'> \n",
      " <class 'float'>\n"
     ]
    }
   ],
   "source": [
    "# float casting \n",
    "x=float(1)\n",
    "y=float(552120.)\n",
    "z=float(\"254\")\n",
    "print(x,'\\n',y,'\\n',z)\n",
    "print(type(x),'\\n',type(y),'\\n',type(z))"
   ]
  },
  {
   "cell_type": "code",
   "execution_count": 2,
   "metadata": {},
   "outputs": [
    {
     "name": "stdout",
     "output_type": "stream",
     "text": [
      "11\n"
     ]
    }
   ],
   "source": [
    "x=10\n",
    "x +=1\n",
    "print(x)"
   ]
  },
  {
   "cell_type": "code",
   "execution_count": 9,
   "metadata": {},
   "outputs": [
    {
     "name": "stdout",
     "output_type": "stream",
     "text": [
      "Please enter the first number: 25\n",
      "Please enter the second number: 21\n",
      "addition 46\n",
      "subtraction 4\n",
      "multiplacation 525\n",
      "devision 1.1904761904761905\n",
      "floor devision 1\n",
      "Exponentiation 227373675443232059478759765625\n",
      "modual 4\n"
     ]
    }
   ],
   "source": [
    "#operator\n",
    "# Airthmatic operator\n",
    "'''\n",
    "+     addition        x+y\n",
    "-     subtraction     x-y\n",
    "*     multiplication  x*y\n",
    "/     division        x/y\n",
    "**    Exponentiation  x**y\n",
    "//    floor devision  x//y\n",
    "%     modul           x%y\n",
    "'''\n",
    "\n",
    "number_1 = int(input('Please enter the first number: '))\n",
    "number_2 = int(input('Please enter the second number: '))\n",
    "a=number_1\n",
    "b=number_2\n",
    "c=a+b\n",
    "d=a-b\n",
    "e=a*b\n",
    "f=a/b\n",
    "g=a//b\n",
    "h=a**b\n",
    "i=a%b\n",
    "print(F\"addition {c}\")\n",
    "print(f\"subtraction {d}\")\n",
    "print(f\"multiplacation {e}\")\n",
    "print(f\"devision {f}\")\n",
    "print(f\"floor devision {g}\")\n",
    "print(f\"Exponentiation {h}\")\n",
    "print(f\"modual {i}\")"
   ]
  },
  {
   "cell_type": "code",
   "execution_count": 13,
   "metadata": {},
   "outputs": [
    {
     "name": "stdout",
     "output_type": "stream",
     "text": [
      "kamlesh 544\n"
     ]
    }
   ],
   "source": [
    "# Assignment operator\n",
    "''' 1.       =       x = 5       x = 5\n",
    "    2.      +=      x += 5      x = x + 5\n",
    "    3.      -=      x -= 3      x = x - 3\n",
    "    4.      *=      x *= 3      x = x * 3\n",
    "    5.      /=      x /= 3      x = x / 3\n",
    "    6.      %=      x %= 3      x = x % 3\n",
    "    7.      //=     x //= 3     x = x // 3\n",
    "    8.      **=     x **= 3     x = x ** 3\n",
    "'''\n",
    "a=\"kamlesh\"\n",
    "b=544\n",
    "print(a,b)"
   ]
  },
  {
   "cell_type": "code",
   "execution_count": 51,
   "metadata": {},
   "outputs": [
    {
     "name": "stdout",
     "output_type": "stream",
     "text": [
      "50\n"
     ]
    }
   ],
   "source": [
    "x=5\n",
    "y=45\n",
    "x += y\n",
    "print(x)"
   ]
  },
  {
   "cell_type": "code",
   "execution_count": 53,
   "metadata": {},
   "outputs": [
    {
     "name": "stdout",
     "output_type": "stream",
     "text": [
      "True\n"
     ]
    }
   ],
   "source": [
    "# comparision operator\n",
    "'''==   \tEqual                       \tx == y\n",
    "\n",
    "   !=   \tNot equal                   \tx != y\n",
    "   \n",
    "   >    \tGreater than                \tx > y\n",
    "   \n",
    "   <    \tLess than                   \tx < y\n",
    "   \n",
    "   >=   \tGreater than or equal to    \tx >= y\n",
    "   \n",
    "   <=   \tLess than or equal to       \tx <= y\n",
    "    '''\n",
    "# equal\n",
    "a=5\n",
    "b=5\n",
    "print(a==b)"
   ]
  },
  {
   "cell_type": "code",
   "execution_count": 58,
   "metadata": {},
   "outputs": [
    {
     "name": "stdout",
     "output_type": "stream",
     "text": [
      "False\n"
     ]
    }
   ],
   "source": [
    "# not equal\n",
    "a=5\n",
    "b=5\n",
    "print(a!=b)"
   ]
  },
  {
   "cell_type": "code",
   "execution_count": 61,
   "metadata": {},
   "outputs": [
    {
     "name": "stdout",
     "output_type": "stream",
     "text": [
      "True\n"
     ]
    }
   ],
   "source": [
    "# equal less than\n",
    "a=10\n",
    "b=10\n",
    "print(a<=b)"
   ]
  },
  {
   "cell_type": "code",
   "execution_count": 64,
   "metadata": {},
   "outputs": [
    {
     "name": "stdout",
     "output_type": "stream",
     "text": [
      "False\n"
     ]
    }
   ],
   "source": [
    "# equal grater than\n",
    "a=2\n",
    "b=5\n",
    "print(a>=b)"
   ]
  },
  {
   "cell_type": "code",
   "execution_count": null,
   "metadata": {},
   "outputs": [],
   "source": []
  },
  {
   "cell_type": "code",
   "execution_count": 26,
   "metadata": {},
   "outputs": [
    {
     "name": "stdout",
     "output_type": "stream",
     "text": [
      "True\n"
     ]
    }
   ],
   "source": [
    "# logical operator [and,or,not]\n",
    "# And\n",
    "a=10\n",
    "b=21\n",
    "c=35\n",
    "print(a<b and a<c)"
   ]
  },
  {
   "cell_type": "code",
   "execution_count": 36,
   "metadata": {},
   "outputs": [
    {
     "name": "stdout",
     "output_type": "stream",
     "text": [
      "True\n"
     ]
    }
   ],
   "source": [
    "# Or\n",
    "a=52\n",
    "b=25\n",
    "c=45\n",
    "print(a<b or a>c)"
   ]
  },
  {
   "cell_type": "code",
   "execution_count": 65,
   "metadata": {},
   "outputs": [
    {
     "name": "stdout",
     "output_type": "stream",
     "text": [
      "True\n"
     ]
    }
   ],
   "source": [
    "# Not\n",
    "a=5\n",
    "b=7\n",
    "c=21\n",
    "print( not a>b )"
   ]
  },
  {
   "cell_type": "code",
   "execution_count": 76,
   "metadata": {},
   "outputs": [
    {
     "name": "stdout",
     "output_type": "stream",
     "text": [
      "140053187433728\n",
      "140053119479472\n",
      "False\n"
     ]
    }
   ],
   "source": [
    "# identity operator \n",
    "# thay are two type\n",
    "# 1=is and 2=is not\n",
    "a='kamlesh'\n",
    "b='kamlesh kumar' \n",
    "print(id (a))\n",
    "print(id (b))\n",
    "print(a is b)"
   ]
  },
  {
   "cell_type": "code",
   "execution_count": 1,
   "metadata": {},
   "outputs": [
    {
     "name": "stdout",
     "output_type": "stream",
     "text": [
      "94637468239648\n",
      "94637468239648\n",
      "False\n"
     ]
    }
   ],
   "source": [
    "a=25\n",
    "b=25\n",
    "print(id(a))\n",
    "print(id(a))\n",
    "print(a is not  b)"
   ]
  },
  {
   "cell_type": "code",
   "execution_count": 6,
   "metadata": {},
   "outputs": [
    {
     "name": "stdout",
     "output_type": "stream",
     "text": [
      "True\n",
      "\n",
      "\n"
     ]
    }
   ],
   "source": [
    "# member function\n",
    "l = [1, 2, 3, 4]  \n",
    "e = 5\n",
    "print(e  not in l)\n",
    "print('\\n')\n"
   ]
  },
  {
   "cell_type": "code",
   "execution_count": 3,
   "metadata": {},
   "outputs": [
    {
     "name": "stdout",
     "output_type": "stream",
     "text": [
      "True\n"
     ]
    }
   ],
   "source": [
    "k='kamlesh'\n",
    "p='ka'\n",
    "print(p in k )"
   ]
  },
  {
   "cell_type": "code",
   "execution_count": 25,
   "metadata": {},
   "outputs": [
    {
     "name": "stdout",
     "output_type": "stream",
     "text": [
      "(['apple', 'book', 'iam', 12, 12, 58], ('kamlesh', 'kumar', 'prajapat'), {'brand': 'car', 'class': 6}, {1, 2, 3, 5, 6, 'kamlesh'})\n",
      "element at position : prajapat\n",
      "140233638914952\n",
      "{'brand': 'car', 'class': 6}\n"
     ]
    }
   ],
   "source": [
    "# collection data type\n",
    "this_list =[\"apple\",\"book\",\"iam\",12,12,58],(\"kamlesh\",\"kumar\",\"prajapat\"),{'brand':'car',\"class\":6},{\"kamlesh\",5,5,1,2,5,3,6,5,3}\n",
    "print(this_list)\n",
    "#print(this_list [0][4])\n",
    "#print(this_list[-1]['class'])\n",
    "# print(this_list[2])\n",
    "# print(this_list[-1])\n",
    "# Accessing an element\n",
    "print('element at position :',this_list[1][2])\n",
    "# print('before:',this_list)\n",
    "# this_list[3] = \"bhudla\"\n",
    "# print('after:',this_list)\n",
    "print(id (this_list))\n",
    "# Geeting a sub list\n",
    "print(this_list[2])\n",
    "\n"
   ]
  },
  {
   "cell_type": "code",
   "execution_count": 4,
   "metadata": {},
   "outputs": [
    {
     "name": "stdout",
     "output_type": "stream",
     "text": [
      "['kamlesh', 25.02, 52, 'kumar', 'kumar', 'prajapat']\n",
      "m\n",
      "p\n",
      "<class 'list'>\n",
      "140663490543944\n",
      "before: ['kamlesh', 25.02, 52, 'kumar', 'kumar', 'prajapat']\n",
      "after: ['bhudla', 25.02, 52, 'kumar', 'kumar', 'prajapat']\n",
      "52\n",
      "6\n",
      "['bhudla', 52, 'kumar']\n",
      "[25.02]\n"
     ]
    }
   ],
   "source": [
    "# list data type\n",
    "k=[\"kamlesh\",25.02,52,'kumar','kumar','prajapat',]\n",
    "print(k)\n",
    "print(k [3][2])\n",
    "print(k[-1] [5])\n",
    "print(type(k))\n",
    "print(id(k))\n",
    "print('before:',k)\n",
    "k[0]=\"bhudla\"\n",
    "print('after:',k)\n",
    "print(k [2])\n",
    "# sublist\n",
    "print(len(k))\n",
    "print(k[0:6:2])\n",
    "print(k[1:2:1])"
   ]
  },
  {
   "cell_type": "code",
   "execution_count": 20,
   "metadata": {},
   "outputs": [
    {
     "name": "stdout",
     "output_type": "stream",
     "text": [
      "('kamlesh', 4, 2, 6, 6, 'bhudla', 32.32)\n",
      "7\n",
      "140663490571384\n",
      "32.32\n",
      "<class 'tuple'>\n"
     ]
    }
   ],
   "source": [
    "# tuple data type\n",
    "k=(\"kamlesh\",4,2,6,6,'bhudla',32.32 )\n",
    "print(k)\n",
    "print(len(k))\n",
    "print(id(k))\n",
    "# k[3]=\"kumar\"\n",
    "# print('after=',k)\n",
    "print(k[-1])\n",
    "print(type(k))"
   ]
  },
  {
   "cell_type": "code",
   "execution_count": 36,
   "metadata": {},
   "outputs": [
    {
     "name": "stdout",
     "output_type": "stream",
     "text": [
      "{'kumar', 'kamlesh', 45, 25}\n",
      "<class 'set'>\n",
      "before: {'kumar', 'kamlesh', 45, 25}\n"
     ]
    },
    {
     "ename": "TypeError",
     "evalue": "'set' object does not support item assignment",
     "output_type": "error",
     "traceback": [
      "\u001b[0;31m---------------------------------------------------------------------------\u001b[0m",
      "\u001b[0;31mTypeError\u001b[0m                                 Traceback (most recent call last)",
      "\u001b[0;32m<ipython-input-36-f4e1db269a31>\u001b[0m in \u001b[0;36m<module>\u001b[0;34m\u001b[0m\n\u001b[1;32m      4\u001b[0m \u001b[0mprint\u001b[0m\u001b[0;34m(\u001b[0m\u001b[0mtype\u001b[0m\u001b[0;34m(\u001b[0m\u001b[0mk\u001b[0m\u001b[0;34m)\u001b[0m\u001b[0;34m)\u001b[0m\u001b[0;34m\u001b[0m\u001b[0;34m\u001b[0m\u001b[0m\n\u001b[1;32m      5\u001b[0m \u001b[0mprint\u001b[0m\u001b[0;34m(\u001b[0m\u001b[0;34m'before:'\u001b[0m\u001b[0;34m,\u001b[0m\u001b[0mk\u001b[0m\u001b[0;34m)\u001b[0m\u001b[0;34m\u001b[0m\u001b[0;34m\u001b[0m\u001b[0m\n\u001b[0;32m----> 6\u001b[0;31m \u001b[0mk\u001b[0m\u001b[0;34m[\u001b[0m\u001b[0;36m3\u001b[0m\u001b[0;34m]\u001b[0m\u001b[0;34m=\u001b[0m\u001b[0;34m\"prajapat\"\u001b[0m\u001b[0;34m\u001b[0m\u001b[0;34m\u001b[0m\u001b[0m\n\u001b[0m\u001b[1;32m      7\u001b[0m \u001b[0mprint\u001b[0m\u001b[0;34m(\u001b[0m\u001b[0;34m'after:'\u001b[0m\u001b[0;34m,\u001b[0m\u001b[0mk\u001b[0m\u001b[0;34m)\u001b[0m\u001b[0;34m\u001b[0m\u001b[0;34m\u001b[0m\u001b[0m\n",
      "\u001b[0;31mTypeError\u001b[0m: 'set' object does not support item assignment"
     ]
    }
   ],
   "source": [
    "# set data type\n",
    "k={\"kamlesh\",\"kumar\",45,45,25}\n",
    "print(k)\n",
    "print(type(k))\n",
    "print('before:',k)\n",
    "k[3]=\"prajapat\"\n",
    "print('after:',k)"
   ]
  },
  {
   "cell_type": "code",
   "execution_count": 30,
   "metadata": {},
   "outputs": [
    {
     "name": "stdout",
     "output_type": "stream",
     "text": [
      "{'car': 'honda', 'number': 25, 'name': 'kamlesh'}\n",
      "<class 'dict'>\n",
      "3\n"
     ]
    }
   ],
   "source": [
    "# dictionary data type\n",
    "k={'car':'honda','number':25,'name':'kamlesh','name':'kamlesh'}\n",
    "print(k)\n",
    "print(type(k))\n",
    "print(len(k))"
   ]
  },
  {
   "cell_type": "code",
   "execution_count": 15,
   "metadata": {},
   "outputs": [
    {
     "name": "stdout",
     "output_type": "stream",
     "text": [
      "3\n"
     ]
    }
   ],
   "source": [
    "# list method\n",
    "# len method\n",
    "name=[\"kamlesh\",\"kumar\",\"prajapat\"]\n",
    "print(len(name))"
   ]
  },
  {
   "cell_type": "code",
   "execution_count": 18,
   "metadata": {},
   "outputs": [
    {
     "name": "stdout",
     "output_type": "stream",
     "text": [
      "['kamlesh', 'kumar', 'prajapat']\n"
     ]
    }
   ],
   "source": [
    "# Add.item of the list -> ending position\n",
    "name=[\"kamlesh\",\"kumar\"]\n",
    "name.append('prajapat')\n",
    "print(name)"
   ]
  },
  {
   "cell_type": "code",
   "execution_count": 22,
   "metadata": {},
   "outputs": [
    {
     "name": "stdout",
     "output_type": "stream",
     "text": [
      "['kamlesh', 'kumar', 'prajapat', 'bhudla']\n"
     ]
    }
   ],
   "source": [
    "# TO add an item at the specified index use  the insert() method\n",
    "name=[\"kamlesh\",\"prajapat\",\"bhudla\"]\n",
    "name.insert(1,\"kumar\")\n",
    "print(name)"
   ]
  },
  {
   "cell_type": "code",
   "execution_count": 5,
   "metadata": {},
   "outputs": [
    {
     "name": "stdout",
     "output_type": "stream",
     "text": [
      "['kamlesh', 'kumar', 'prajapat']\n"
     ]
    }
   ],
   "source": [
    "# Remove item from a list\n",
    "name=[\"kamlesh\",\"kumar\",\"prajapat\",\"bhudla\"]\n",
    "name.remove(\"bhudla\")\n",
    "print(name)"
   ]
  },
  {
   "cell_type": "code",
   "execution_count": 29,
   "metadata": {},
   "outputs": [
    {
     "name": "stdout",
     "output_type": "stream",
     "text": [
      "['kamlesh', 'kumar', 'bhudla']\n"
     ]
    }
   ],
   "source": [
    "# pop()- remove the spicified index (or the last item if index is not specified)\n",
    "name=[\"kamlesh\",\"kumar\",\"prjapat\",\"bhudla\"]\n",
    "name.pop(2)\n",
    "print(name)"
   ]
  },
  {
   "cell_type": "code",
   "execution_count": 32,
   "metadata": {},
   "outputs": [
    {
     "name": "stdout",
     "output_type": "stream",
     "text": [
      "['kumar', 'prajapat', 'bhudla']\n"
     ]
    }
   ],
   "source": [
    "# the del keyword remove the spicified index\n",
    "name=[\"kamlesh\",\"kumar\",\"prajapat\",\"bhudla\"]\n",
    "del name[0]\n",
    "print(name)"
   ]
  },
  {
   "cell_type": "code",
   "execution_count": 37,
   "metadata": {},
   "outputs": [
    {
     "name": "stdout",
     "output_type": "stream",
     "text": [
      "[]\n"
     ]
    }
   ],
   "source": [
    "# the clear() method empties the list \n",
    "name=[\"kamlesh\",\"kumar\",\"prajapat\",\"bhudla\"]\n",
    "name.clear()\n",
    "print(name)"
   ]
  },
  {
   "cell_type": "code",
   "execution_count": 42,
   "metadata": {},
   "outputs": [
    {
     "name": "stdout",
     "output_type": "stream",
     "text": [
      "['kamlesh', 'kumar', 'prajapat', 'bhudla']\n",
      "['kamlesh', 'kumar', 'prajapat', 'bhudla']\n"
     ]
    }
   ],
   "source": [
    "# copy a list\n",
    "name=[\"kamlesh\",\"kumar\",\"prajapat\",\"bhudla\"]\n",
    "mylist = name.copy()\n",
    "print(mylist)\n",
    "print(name)"
   ]
  },
  {
   "cell_type": "code",
   "execution_count": 44,
   "metadata": {},
   "outputs": [
    {
     "name": "stdout",
     "output_type": "stream",
     "text": [
      "['kamlesh', 'kumar', 'prajpat', 'bhudla']\n"
     ]
    }
   ],
   "source": [
    "# another way to make a copy is to use the bulit in method list[]\n",
    "name=[\"kamlesh\",\"kumar\",\"prajpat\",\"bhudla\"]\n",
    "mylist=list(name)\n",
    "print(mylist)"
   ]
  },
  {
   "cell_type": "code",
   "execution_count": 37,
   "metadata": {},
   "outputs": [
    {
     "name": "stdout",
     "output_type": "stream",
     "text": [
      "2\n"
     ]
    }
   ],
   "source": [
    "# count method()\n",
    "name=[\"kamlesh\",\"kumar\",\"prajapat\",\"bhudla\",5487,2525,2525]\n",
    "x=name.count(2525)\n",
    "print(x)"
   ]
  },
  {
   "cell_type": "code",
   "execution_count": 24,
   "metadata": {},
   "outputs": [
    {
     "name": "stdout",
     "output_type": "stream",
     "text": [
      "4\n"
     ]
    }
   ],
   "source": [
    "# index method()\n",
    "name=[\"kamlesh\",\"kumar\",\"prajapat\",\"bhudla\",2,5,1.2,54,78]\n",
    "x=name.index(2)\n",
    "print(x)"
   ]
  },
  {
   "cell_type": "code",
   "execution_count": 27,
   "metadata": {},
   "outputs": [
    {
     "name": "stdout",
     "output_type": "stream",
     "text": [
      "['kamlesh', 'kumar', 'prajapat', 'bhudla', 9587439122, 9529320009, 9694553075]\n"
     ]
    }
   ],
   "source": [
    "# extend()-add element of one list to another\n",
    "name=[\"kamlesh\",\"kumar\",\"prajapat\",\"bhudla\"]\n",
    "number=[9587439122,9529320009,9694553075]\n",
    "name.extend(number)\n",
    "print(name)"
   ]
  },
  {
   "cell_type": "code",
   "execution_count": 15,
   "metadata": {},
   "outputs": [
    {
     "name": "stdout",
     "output_type": "stream",
     "text": [
      "['kumar', 'kamlesh', 'g', 'f', 'a', 'b', 'c', 'd']\n"
     ]
    }
   ],
   "source": [
    "# reverse()-reverse the element in list\n",
    "name=['d','c','b','a','f','g',\"kamlesh\",\"kumar\"]\n",
    "# name.reverse()\n",
    "# print(name)\n",
    "list_1=name[::-1]\n",
    "print(list_1)"
   ]
  },
  {
   "cell_type": "code",
   "execution_count": 21,
   "metadata": {},
   "outputs": [
    {
     "name": "stdout",
     "output_type": "stream",
     "text": [
      "['bhudla', 'kamlesh', 'kumar', 'prajapat']\n",
      "['prajapat', 'kumar', 'kamlesh', 'bhudla']\n"
     ]
    }
   ],
   "source": [
    "# sort()-sorts the element in list\n",
    "name=[\"kamlesh\",\"kumar\",\"prajapat\",'bhudla']\n",
    "name.sort()\n",
    "print(name)\n",
    "k=name[::-1]\n",
    "print(k)"
   ]
  },
  {
   "cell_type": "code",
   "execution_count": 39,
   "metadata": {},
   "outputs": [
    {
     "name": "stdout",
     "output_type": "stream",
     "text": [
      "('kamlesh', 'kumar', 'prajapat')\n",
      "<class 'tuple'>\n",
      "3\n",
      "kamlesh\n",
      "('prajapat', 'kumar', 'kamlesh')\n",
      "('kamlesh', 'kumar', 'prajapat')\n"
     ]
    }
   ],
   "source": [
    "# tuple- tuple is a collection data type and represent in ().this is oraderd,indexed and unchangeable ,allow duplicate members.\n",
    "k=(\"kamlesh\",\"kumar\",\"prajapat\")\n",
    "print(k)\n",
    "print(type(k))\n",
    "print(len(k))\n",
    "print(k[0])\n",
    "print(k[::-1])\n",
    "print(k[::1])"
   ]
  },
  {
   "cell_type": "code",
   "execution_count": 41,
   "metadata": {},
   "outputs": [
    {
     "name": "stdout",
     "output_type": "stream",
     "text": [
      "3\n"
     ]
    }
   ],
   "source": [
    "# tuple method - tuple data type in for method\n",
    "# 1.len method()- print the number of item in the value\n",
    "name=(\"kamlesh\",\"kumar\",\"prajapat\")\n",
    "print(len(name))"
   ]
  },
  {
   "cell_type": "code",
   "execution_count": 50,
   "metadata": {},
   "outputs": [
    {
     "name": "stdout",
     "output_type": "stream",
     "text": [
      "1\n"
     ]
    }
   ],
   "source": [
    "# count method()-returen the number of occurences of value\n",
    "name=(\"kamlesh\",\"kumar\",\"prjajpat\",264,68,35,35,4,35,8,7,25,2,4,3,6,66,35,9,5,95)\n",
    "x=name.count(\"kamlesh\")\n",
    "print(x)"
   ]
  },
  {
   "cell_type": "code",
   "execution_count": null,
   "metadata": {},
   "outputs": [],
   "source": [
    "# index - Retrun frist index a value.\n"
   ]
  }
 ],
 "metadata": {
  "kernelspec": {
   "display_name": "Python 3",
   "language": "python",
   "name": "python3"
  },
  "language_info": {
   "codemirror_mode": {
    "name": "ipython",
    "version": 3
   },
   "file_extension": ".py",
   "mimetype": "text/x-python",
   "name": "python",
   "nbconvert_exporter": "python",
   "pygments_lexer": "ipython3",
   "version": "3.7.3"
  }
 },
 "nbformat": 4,
 "nbformat_minor": 2
}
