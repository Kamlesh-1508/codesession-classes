{
 "cells": [
  {
   "cell_type": "code",
   "execution_count": 1,
   "metadata": {},
   "outputs": [
    {
     "name": "stdout",
     "output_type": "stream",
     "text": [
      "hi everyone\n",
      "good morning \n",
      "\"my name is kamlesh kumar prajapat\"\n",
      "\"i have done diploma in computer sicence engg. in 2019\"\n"
     ]
    }
   ],
   "source": [
    "#\\n=for new line in programe.\n",
    "a = 'hi everyone\\ngood morning \\n\"my name is kamlesh kumar prajapat\"\\n\"i have done diploma in computer sicence engg. in 2019\"'\n",
    "print(a)"
   ]
  },
  {
   "cell_type": "code",
   "execution_count": 6,
   "metadata": {},
   "outputs": [
    {
     "name": "stdout",
     "output_type": "stream",
     "text": [
      "26\n",
      "m\n",
      "m\n"
     ]
    }
   ],
   "source": [
    "#idexing in string = represent of string value.\n",
    "# start index in python language=0123456789.\n",
    "a=\"i am kamlesh kumar prajpat\"\n",
    "print(len(a))\n",
    "print(a[15])\n",
    "print(a[7])"
   ]
  },
  {
   "cell_type": "code",
   "execution_count": 27,
   "metadata": {},
   "outputs": [
    {
     "name": "stdout",
     "output_type": "stream",
     "text": [
      "27\n"
     ]
    }
   ],
   "source": [
    "# lenth count fumction\n",
    "a = 'i am kamlesh kumar prajapat'\n",
    "print(len(a))"
   ]
  },
  {
   "cell_type": "code",
   "execution_count": 5,
   "metadata": {},
   "outputs": [
    {
     "name": "stdout",
     "output_type": "stream",
     "text": [
      "\"i am kamlesh kumar prajajpat\"\n"
     ]
    }
   ],
   "source": [
    "#double quoits  represnt in program.\n",
    "a = '\"i am kamlesh kumar prajajpat\"'\n",
    "print(a)"
   ]
  },
  {
   "cell_type": "code",
   "execution_count": 4,
   "metadata": {},
   "outputs": [
    {
     "name": "stdout",
     "output_type": "stream",
     "text": [
      "'i am kamlesh kumar prajapat'\n"
     ]
    }
   ],
   "source": [
    "# single quoits represnt in program.\n",
    "a = \"'i am kamlesh kumar prajapat'\"\n",
    "print(a)"
   ]
  },
  {
   "cell_type": "code",
   "execution_count": 21,
   "metadata": {},
   "outputs": [
    {
     "name": "stdout",
     "output_type": "stream",
     "text": [
      "Helo good morining\n",
      "i am kamlesh kumar prajapat\n",
      "i live jaipur in rajasthan \n",
      " i have done diploma in computer science engg.in 2019\n",
      " and B.A clear in 2019\n",
      "my father a farmer  and we are five brother$sister\n",
      "me learn python language in present time \n",
      "my hooby singing song and watch movies.\n"
     ]
    }
   ],
   "source": [
    "# use for triple quiots(''' ''')\n",
    "a ='''Helo good morining\n",
    "i am kamlesh kumar prajapat\n",
    "i live jaipur in rajasthan \n",
    " i have done diploma in computer science engg.in 2019\n",
    " and B.A clear in 2019\n",
    "my father a farmer  and we are five brother$sister\n",
    "me learn python language in present time \n",
    "my hooby singing song and watch movies.'''\n",
    "print(a)"
   ]
  },
  {
   "cell_type": "code",
   "execution_count": 25,
   "metadata": {},
   "outputs": [
    {
     "name": "stdout",
     "output_type": "stream",
     "text": [
      "Hello gyu`s \n",
      "good moring everyone \n",
      "I am kamlesh kumar prajapat\n",
      "I live jaipur in rajathan\n",
      "I have done diploma in computer science engg. in 2019\n",
      "           and with clear B.A in 2019 form rajasthan university for non colllage \n",
      "we are seven member in my family! my father is a farmer amd we are five brother $ sister.\n",
      "my hobby singing song and watch movies,love story and read the book.\n",
      "me learn python programe language in present time.\n",
      "i am very happy fell with you do work in python language\n",
      "so fillinly very haapy.\n",
      "\n",
      "Thank you everyone                                                    \n",
      "                                                                           \n",
      "                                                                                      \n",
      "                                                                                       sing\n",
      "                                                                                       \n",
      "                    Made by kamlesh kumar prajapat mo.9587439122\n",
      "                     programmer in python language\n"
     ]
    }
   ],
   "source": [
    "# use for triple quiots(\"\"\" \"\"\") \n",
    "x = \"\"\"Hello gyu`s \n",
    "good moring everyone \n",
    "I am kamlesh kumar prajapat\n",
    "I live jaipur in rajathan\n",
    "I have done diploma in computer science engg. in 2019\n",
    "           and with clear B.A in 2019 form rajasthan university for non colllage \n",
    "we are seven member in my family! my father is a farmer amd we are five brother $ sister.\n",
    "my hobby singing song and watch movies,love story and read the book.\n",
    "me learn python programe language in present time.\n",
    "i am very happy fell with you do work in python language\n",
    "so fillinly very haapy.\n",
    "\n",
    "Thank you everyone                                                    \n",
    "                                                                           \n",
    "                                                                                      \n",
    "                                                                                       sing\n",
    "                                                                                       \n",
    "                    Made by kamlesh kumar prajapat mo.9587439122\n",
    "                     programmer in python language\"\"\"\n",
    "print(x)"
   ]
  },
  {
   "cell_type": "code",
   "execution_count": 29,
   "metadata": {},
   "outputs": [
    {
     "name": "stdout",
     "output_type": "stream",
     "text": [
      "i am kamlesh kumar prjapat \n"
     ]
    }
   ],
   "source": [
    "# lower function in prgram.\n",
    "a = 'I AM KAMLESH KUMAR PRJAPAT '\n",
    "print(a.lower())"
   ]
  },
  {
   "cell_type": "code",
   "execution_count": 31,
   "metadata": {},
   "outputs": [
    {
     "name": "stdout",
     "output_type": "stream",
     "text": [
      "I AM KAMLESH KUMAR PRAJAPAT\n"
     ]
    }
   ],
   "source": [
    "#upper function in program.\n",
    "a = 'i am kamlesh kumar prajapat'\n",
    "print(a.upper())"
   ]
  },
  {
   "cell_type": "code",
   "execution_count": 35,
   "metadata": {},
   "outputs": [
    {
     "name": "stdout",
     "output_type": "stream",
     "text": [
      "my name is kamlesh kumar prajapat\n"
     ]
    }
   ],
   "source": [
    "#strip function in program.\n",
    "a=\"my name is kamlesh kumar prajapat\"\n",
    "print(a.strip())"
   ]
  },
  {
   "cell_type": "code",
   "execution_count": 37,
   "metadata": {},
   "outputs": [
    {
     "name": "stdout",
     "output_type": "stream",
     "text": [
      "i am kamlesh kumar prajapat\n"
     ]
    }
   ],
   "source": [
    "#lstrip in program.\n",
    "a='i am kamlesh '\n",
    "b='kumar prajapat'\n",
    "print(a.lstrip()+b)"
   ]
  },
  {
   "cell_type": "code",
   "execution_count": 60,
   "metadata": {},
   "outputs": [
    {
     "name": "stdout",
     "output_type": "stream",
     "text": [
      "good morning kamlesh,good morning prajapat ji\n"
     ]
    }
   ],
   "source": [
    "#Replace is work to replace in string.\n",
    "text= \"hello kamlesh,hello prajapat ji\"\n",
    "print(text.replace(\"hello\",\"good morning\"))\n"
   ]
  },
  {
   "cell_type": "code",
   "execution_count": 3,
   "metadata": {},
   "outputs": [
    {
     "name": "stdout",
     "output_type": "stream",
     "text": [
      "['', 'kamlesh ', 'kumar ', 'prajapat']\n"
     ]
    }
   ],
   "source": [
    "#split=remove the word in string.\n",
    "#use the split function.\n",
    "string='qkamlesh qkumar qprajapat'\n",
    "x=string.split(\"q\")\n",
    "print(x)"
   ]
  },
  {
   "cell_type": "code",
   "execution_count": 2,
   "metadata": {},
   "outputs": [
    {
     "data": {
      "text/plain": [
       "'Kamlesh kumar prajapat'"
      ]
     },
     "execution_count": 2,
     "metadata": {},
     "output_type": "execute_result"
    }
   ],
   "source": [
    "#use for capitalize\n",
    "a=\"kamlesh kumar prajapat\"\n",
    "a.capitalize()"
   ]
  },
  {
   "cell_type": "code",
   "execution_count": 12,
   "metadata": {},
   "outputs": [
    {
     "name": "stdout",
     "output_type": "stream",
     "text": [
      "enter your age:35\n",
      "enter your age:65\n",
      "my age is -30\n",
      "my age is 100\n"
     ]
    }
   ],
   "source": [
    "# string formating \n",
    "a=int(input(\"enter your age:\"))\n",
    "b=int(input(\"enter your age:\"))\n",
    "print(\"my age is\",a-b)\n",
    "print(\"my age is\",a+b)"
   ]
  },
  {
   "cell_type": "code",
   "execution_count": 40,
   "metadata": {},
   "outputs": [
    {
     "name": "stdout",
     "output_type": "stream",
     "text": [
      "this artical is  writen by kamleshkumar\n"
     ]
    }
   ],
   "source": [
    "# x Format string\n",
    "x = \"this artical {0}  writen by {1}{2}\"\n",
    "print(x.format(\"is\",\"kamlesh\",\"kumar\"))"
   ]
  },
  {
   "cell_type": "code",
   "execution_count": 50,
   "metadata": {},
   "outputs": [
    {
     "name": "stdout",
     "output_type": "stream",
     "text": [
      "hii welcome to 'india' thanks\n",
      "hii {'welcome to'} {\"'india'\"} thanks\n"
     ]
    }
   ],
   "source": [
    "a=\"welcome to\"\n",
    "b=\"'india'\"\n",
    "print(\"hii\",a,b,\"thanks\")\n",
    "print(F\"hii\", {a},{b},\"thanks\")"
   ]
  },
  {
   "cell_type": "code",
   "execution_count": 56,
   "metadata": {},
   "outputs": [
    {
     "name": "stdout",
     "output_type": "stream",
     "text": [
      "codeasession is live instagram and facebook \n"
     ]
    }
   ],
   "source": [
    "#f.formating\n",
    "print(\"codeasession is live {0} {1} {2} \".format(\"instagram\",\"and\",\"facebook\",))"
   ]
  },
  {
   "cell_type": "code",
   "execution_count": 85,
   "metadata": {},
   "outputs": [
    {
     "name": "stdout",
     "output_type": "stream",
     "text": [
      "i`m kamlesh kumar form jaipur rajasthan\n",
      "i`m kamlesh live in facebook instagram toady 5pm.\n",
      "hii i`m kamlesh\n"
     ]
    }
   ],
   "source": [
    "a = 'kamlesh'\n",
    "print(\"i`m %s %s form jaipur rajasthan\"%(\"kamlesh\",\"kumar\"))\n",
    "print(\"i`m %s live in %s toady 5pm.\"%(\"kamlesh\",\"facebook instagram\"))\n",
    "print(\"hii i`m\",a)"
   ]
  },
  {
   "cell_type": "code",
   "execution_count": 2,
   "metadata": {},
   "outputs": [
    {
     "name": "stdout",
     "output_type": "stream",
     "text": [
      "enter you no:65\n",
      "i`m wrote 65 programe today.\n",
      "i`m wrote 585.000000 programe today .\n",
      "i`m wrote 25.000000 programe today.\n"
     ]
    }
   ],
   "source": [
    "a=int(input('enter you no:'))\n",
    "print(\"i`m wrote %i programe today.\"%a)\n",
    "print(\"i`m wrote %f programe today .\"%585)\n",
    "print(\"i`m wrote %5f programe today.\"%25)"
   ]
  },
  {
   "cell_type": "code",
   "execution_count": 6,
   "metadata": {},
   "outputs": [
    {
     "name": "stdout",
     "output_type": "stream",
     "text": [
      "45\n",
      "20\n",
      "2\n",
      "<class 'int'> \n",
      " <class 'int'> \n",
      " <class 'int'>\n"
     ]
    }
   ],
   "source": [
    "# casting = change formate  use for casting\n",
    "# integer casting\n",
    "x=int(45)\n",
    "y=int(20.5)\n",
    "z=int(\"2\")\n",
    "print(x)\n",
    "print(y)\n",
    "print(z)\n",
    "print(type(z),'\\n',type(y),'\\n',type(y))"
   ]
  },
  {
   "cell_type": "code",
   "execution_count": 1,
   "metadata": {},
   "outputs": [
    {
     "name": "stdout",
     "output_type": "stream",
     "text": [
      "1.0 \n",
      " 552120.0 \n",
      " 254.0\n",
      "<class 'float'> \n",
      " <class 'float'> \n",
      " <class 'float'>\n"
     ]
    }
   ],
   "source": [
    "# float casting \n",
    "x=float(1)\n",
    "y=float(552120.)\n",
    "z=float(\"254\")\n",
    "print(x,'\\n',y,'\\n',z)\n",
    "print(type(x),'\\n',type(y),'\\n',type(z))"
   ]
  },
  {
   "cell_type": "code",
   "execution_count": 2,
   "metadata": {},
   "outputs": [
    {
     "name": "stdout",
     "output_type": "stream",
     "text": [
      "11\n"
     ]
    }
   ],
   "source": [
    "x=10\n",
    "x +=1\n",
    "print(x)"
   ]
  },
  {
   "cell_type": "code",
   "execution_count": 34,
   "metadata": {},
   "outputs": [
    {
     "name": "stdout",
     "output_type": "stream",
     "text": [
      "plese enter your number :-3\n",
      "plese enter your number :-3\n",
      "3 + 3= \n"
     ]
    },
    {
     "ename": "NameError",
     "evalue": "name 'prnit' is not defined",
     "output_type": "error",
     "traceback": [
      "\u001b[0;31m---------------------------------------------------------------------------\u001b[0m",
      "\u001b[0;31mNameError\u001b[0m                                 Traceback (most recent call last)",
      "\u001b[0;32m<ipython-input-34-d90357481dc2>\u001b[0m in \u001b[0;36m<module>\u001b[0;34m\u001b[0m\n\u001b[1;32m      4\u001b[0m \u001b[0mnumber_2\u001b[0m\u001b[0;34m=\u001b[0m\u001b[0minput\u001b[0m\u001b[0;34m(\u001b[0m\u001b[0;34m'plese enter your number :-'\u001b[0m\u001b[0;34m)\u001b[0m\u001b[0;34m\u001b[0m\u001b[0;34m\u001b[0m\u001b[0m\n\u001b[1;32m      5\u001b[0m \u001b[0mprint\u001b[0m\u001b[0;34m(\u001b[0m\u001b[0;34m'{} + {}= '\u001b[0m\u001b[0;34m.\u001b[0m\u001b[0mformat\u001b[0m\u001b[0;34m(\u001b[0m\u001b[0mnumber_1\u001b[0m\u001b[0;34m,\u001b[0m\u001b[0mnumber_2\u001b[0m\u001b[0;34m)\u001b[0m\u001b[0;34m)\u001b[0m\u001b[0;34m\u001b[0m\u001b[0;34m\u001b[0m\u001b[0m\n\u001b[0;32m----> 6\u001b[0;31m \u001b[0mprnit\u001b[0m\u001b[0;34m(\u001b[0m\u001b[0mnumber_1\u001b[0m\u001b[0;34m+\u001b[0m\u001b[0mnumber_2\u001b[0m\u001b[0;34m)\u001b[0m\u001b[0;34m\u001b[0m\u001b[0;34m\u001b[0m\u001b[0m\n\u001b[0m",
      "\u001b[0;31mNameError\u001b[0m: name 'prnit' is not defined"
     ]
    }
   ],
   "source": [
    "#operator\n",
    "#Airthmatic operator\n",
    "number_1=input('plese enter your number :-')\n",
    "number_2=input('plese enter your number :-')\n",
    "print('{} + {}= '.format(number_1,number_2))\n",
    "prnit(number_1+number_2)"
   ]
  }
 ],
 "metadata": {
  "kernelspec": {
   "display_name": "Python 3",
   "language": "python",
   "name": "python3"
  },
  "language_info": {
   "codemirror_mode": {
    "name": "ipython",
    "version": 3
   },
   "file_extension": ".py",
   "mimetype": "text/x-python",
   "name": "python",
   "nbconvert_exporter": "python",
   "pygments_lexer": "ipython3",
   "version": "3.7.3"
  }
 },
 "nbformat": 4,
 "nbformat_minor": 2
}
