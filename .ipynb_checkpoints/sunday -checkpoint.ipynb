{
 "cells": [
  {
   "cell_type": "code",
   "execution_count": 1,
   "metadata": {},
   "outputs": [
    {
     "name": "stdout",
     "output_type": "stream",
     "text": [
      "hello good morning everyone\n"
     ]
    }
   ],
   "source": [
    "print(\"hello good morning everyone\")"
   ]
  },
  {
   "cell_type": "code",
   "execution_count": 4,
   "metadata": {},
   "outputs": [
    {
     "name": "stdout",
     "output_type": "stream",
     "text": [
      "kamlesh\n"
     ]
    }
   ],
   "source": [
    "a=\"kamlesh\"\n",
    "print(a)"
   ]
  },
  {
   "cell_type": "code",
   "execution_count": 6,
   "metadata": {},
   "outputs": [
    {
     "name": "stdout",
     "output_type": "stream",
     "text": [
      "kamlesh kumar\n"
     ]
    }
   ],
   "source": [
    "q=\"kamlesh\"\n",
    "p=\"kumar\"\n",
    "print(q,p)"
   ]
  },
  {
   "cell_type": "code",
   "execution_count": 8,
   "metadata": {},
   "outputs": [
    {
     "name": "stdout",
     "output_type": "stream",
     "text": [
      "kamleshkumar\n"
     ]
    }
   ],
   "source": [
    "x=\"kamlesh\"\n",
    "y='kumar'\n",
    "z=x+y\n",
    "print(z)"
   ]
  },
  {
   "cell_type": "code",
   "execution_count": 11,
   "metadata": {},
   "outputs": [
    {
     "name": "stdout",
     "output_type": "stream",
     "text": [
      "10 kamlesh\n"
     ]
    }
   ],
   "source": [
    "a=10\n",
    "b='kamlesh'\n",
    "print(a,b)"
   ]
  },
  {
   "cell_type": "code",
   "execution_count": 13,
   "metadata": {},
   "outputs": [
    {
     "name": "stdout",
     "output_type": "stream",
     "text": [
      "15\n"
     ]
    }
   ],
   "source": [
    "a=5\n",
    "b=10\n",
    "c=a+b\n",
    "print(c)"
   ]
  },
  {
   "cell_type": "code",
   "execution_count": 26,
   "metadata": {},
   "outputs": [
    {
     "name": "stdout",
     "output_type": "stream",
     "text": [
      "kamlesh\n",
      "kumar\n",
      "prajapat\n",
      "bassi\n"
     ]
    }
   ],
   "source": [
    "a,b,c,d='kamlesh','kumar','prajapat','bhudla'\n",
    "print(a)\n",
    "# print(d)\n",
    "print(b)\n",
    "print(c)\n",
    "d=\"bassi\"\n",
    "print(d)"
   ]
  },
  {
   "cell_type": "code",
   "execution_count": 27,
   "metadata": {},
   "outputs": [
    {
     "name": "stdout",
     "output_type": "stream",
     "text": [
      "bassi\n"
     ]
    }
   ],
   "source": [
    "a=\"kamlesh\"\n",
    "a=\"bassi\"\n",
    "print(a)"
   ]
  },
  {
   "cell_type": "code",
   "execution_count": 29,
   "metadata": {},
   "outputs": [
    {
     "name": "stdout",
     "output_type": "stream",
     "text": [
      "enter your namekamlesh\n",
      "your name is  kamlesh\n"
     ]
    }
   ],
   "source": [
    "# input\n",
    "a=input(\"enter your name\")\n",
    "print(\"your name is \",a)"
   ]
  },
  {
   "cell_type": "code",
   "execution_count": 32,
   "metadata": {},
   "outputs": [
    {
     "name": "stdout",
     "output_type": "stream",
     "text": [
      "enter your frist name kamlesh\n",
      "enter your second name kumar\n",
      "your name is  kamleshkumar\n"
     ]
    }
   ],
   "source": [
    "a=input(\"enter your frist name \")\n",
    "b=input(\"enter your second name \")\n",
    "print(\"your name is \", a+b)"
   ]
  },
  {
   "cell_type": "code",
   "execution_count": 34,
   "metadata": {},
   "outputs": [
    {
     "name": "stdout",
     "output_type": "stream",
     "text": [
      "enter your no 6569+\n",
      "enter your second no 3\n",
      "your no is  6569+3\n"
     ]
    }
   ],
   "source": [
    "a=input(\"enter your no \")\n",
    "b=input(\"enter your second no \")\n",
    "print(\"your no is \",a+b)"
   ]
  },
  {
   "cell_type": "code",
   "execution_count": 36,
   "metadata": {},
   "outputs": [
    {
     "name": "stdout",
     "output_type": "stream",
     "text": [
      "enter your frist no 36\n",
      "enter your second no 36\n",
      "your no is  72\n"
     ]
    }
   ],
   "source": [
    "a=int(input(\"enter your frist no \"))\n",
    "b=int(input (\"enter your second no \"))\n",
    "print(\"your no is \" ,a+b)"
   ]
  },
  {
   "cell_type": "code",
   "execution_count": 38,
   "metadata": {},
   "outputs": [
    {
     "name": "stdout",
     "output_type": "stream",
     "text": [
      "'kamlesh kumar'\n"
     ]
    }
   ],
   "source": [
    "k=\"'kamlesh kumar'\"\n",
    "print(k)"
   ]
  },
  {
   "cell_type": "code",
   "execution_count": 40,
   "metadata": {},
   "outputs": [
    {
     "name": "stdout",
     "output_type": "stream",
     "text": [
      "\"kamlesh kumar\"\n"
     ]
    }
   ],
   "source": [
    "k='\"kamlesh kumar\"'\n",
    "print(k)"
   ]
  },
  {
   "cell_type": "code",
   "execution_count": 44,
   "metadata": {},
   "outputs": [
    {
     "name": "stdout",
     "output_type": "stream",
     "text": [
      "\n",
      "kamlesh\n",
      "kumar \n",
      "prajapat\n",
      "\n"
     ]
    }
   ],
   "source": [
    "k='''\n",
    "kamlesh\n",
    "kumar \n",
    "prajapat\n",
    "'''\n",
    "print(k)"
   ]
  },
  {
   "cell_type": "code",
   "execution_count": 46,
   "metadata": {},
   "outputs": [
    {
     "name": "stdout",
     "output_type": "stream",
     "text": [
      "kamlesh\n",
      "kumar\n",
      "prajapat\n",
      "\n"
     ]
    }
   ],
   "source": [
    "k=\"\"\"kamlesh\n",
    "kumar\n",
    "prajapat\n",
    "\"\"\"\n",
    "print(k)"
   ]
  },
  {
   "cell_type": "code",
   "execution_count": 48,
   "metadata": {},
   "outputs": [
    {
     "name": "stdout",
     "output_type": "stream",
     "text": [
      "kamlesh\n",
      " kumar\n"
     ]
    }
   ],
   "source": [
    "k=\"kamlesh\\n kumar\"\n",
    "print(k)"
   ]
  },
  {
   "cell_type": "code",
   "execution_count": 50,
   "metadata": {},
   "outputs": [
    {
     "name": "stdout",
     "output_type": "stream",
     "text": [
      "kamlesh\n",
      "\tkumar\n"
     ]
    }
   ],
   "source": [
    "k=\"kamlesh\\n\\tkumar\"\n",
    "print(k)"
   ]
  },
  {
   "cell_type": "code",
   "execution_count": 52,
   "metadata": {},
   "outputs": [
    {
     "name": "stdout",
     "output_type": "stream",
     "text": [
      "kamlesf\\n\n"
     ]
    }
   ],
   "source": [
    "k=R\"kamlesf\\n\"\n",
    "print(k)"
   ]
  },
  {
   "cell_type": "code",
   "execution_count": 54,
   "metadata": {},
   "outputs": [
    {
     "name": "stdout",
     "output_type": "stream",
     "text": [
      "22\n"
     ]
    }
   ],
   "source": [
    "# indexing in string\n",
    "k=\"kamlesh kumar prajapat\"\n",
    "print(len(k))"
   ]
  },
  {
   "cell_type": "code",
   "execution_count": 60,
   "metadata": {},
   "outputs": [
    {
     "name": "stdout",
     "output_type": "stream",
     "text": [
      "k\n",
      "t\n",
      " \n",
      "a\n"
     ]
    }
   ],
   "source": [
    "a=\"kamlesh kumar prajapat\"\n",
    "print(a[0])\n",
    "print(a[-1])\n",
    "print(a[7])\n",
    "print(a[11])"
   ]
  },
  {
   "cell_type": "code",
   "execution_count": 62,
   "metadata": {},
   "outputs": [
    {
     "name": "stdout",
     "output_type": "stream",
     "text": [
      "kamlesh kumar prajapat\n"
     ]
    }
   ],
   "source": [
    "a=\"KAMLESH KUMAR PRAJAPAT\"\n",
    "print(a.lower())\n"
   ]
  },
  {
   "cell_type": "code",
   "execution_count": 64,
   "metadata": {},
   "outputs": [
    {
     "name": "stdout",
     "output_type": "stream",
     "text": [
      "KAMLESH KUMAR PRAJAPAT\n"
     ]
    }
   ],
   "source": [
    "a=\"kamlesh kumar prajapat\"\n",
    "print(a.upper())"
   ]
  },
  {
   "cell_type": "code",
   "execution_count": 67,
   "metadata": {},
   "outputs": [
    {
     "name": "stdout",
     "output_type": "stream",
     "text": [
      "kamlesh kumar prajapat\n"
     ]
    }
   ],
   "source": [
    "a=\"  kamlesh kumar prajapat    \"\n",
    "print(a.strip())\n"
   ]
  },
  {
   "cell_type": "code",
   "execution_count": 70,
   "metadata": {},
   "outputs": [
    {
     "name": "stdout",
     "output_type": "stream",
     "text": [
      "kamlesh kumar prajapat\n"
     ]
    }
   ],
   "source": [
    "a=\"kamlesh kumar \"\n",
    "b=\"prajapat\"\n",
    "print(a.lstrip()+b)"
   ]
  },
  {
   "cell_type": "code",
   "execution_count": 73,
   "metadata": {},
   "outputs": [
    {
     "name": "stdout",
     "output_type": "stream",
     "text": [
      "hii kamlesh\n"
     ]
    }
   ],
   "source": [
    "a=\"helo kamlesh\"\n",
    "print(a.replace(\"helo\",\"hii\"))"
   ]
  },
  {
   "cell_type": "code",
   "execution_count": 78,
   "metadata": {},
   "outputs": [
    {
     "name": "stdout",
     "output_type": "stream",
     "text": [
      "['ka', 'lesh']\n"
     ]
    }
   ],
   "source": [
    "a=\"kamlesh\"\n",
    "x=a.split(\"m\")\n",
    "print(x)"
   ]
  },
  {
   "cell_type": "code",
   "execution_count": 80,
   "metadata": {},
   "outputs": [
    {
     "data": {
      "text/plain": [
       "'Kamlesh'"
      ]
     },
     "execution_count": 80,
     "metadata": {},
     "output_type": "execute_result"
    }
   ],
   "source": [
    "a=\"kamlesh\"\n",
    "a.capitalize()"
   ]
  },
  {
   "cell_type": "code",
   "execution_count": 87,
   "metadata": {},
   "outputs": [
    {
     "data": {
      "text/plain": [
       "'a=int((input(\\'enter your age\\')))\\nb=int(input(\\'enter your dob\\'))\\nprint(\"my age is\",a)\\nprint(\"my age is \"a+b(a))\\n'"
      ]
     },
     "execution_count": 87,
     "metadata": {},
     "output_type": "execute_result"
    }
   ],
   "source": [
    "# string format\n",
    "'''a=int((input('enter your age')))\n",
    "b=int(input('enter your dob'))\n",
    "print(\"my age is\",a)\n",
    "print(\"my age is \"a+b(a))\n",
    "'''"
   ]
  },
  {
   "cell_type": "code",
   "execution_count": 90,
   "metadata": {},
   "outputs": [
    {
     "name": "stdout",
     "output_type": "stream",
     "text": [
      "hello kamlesh how are you fine \n"
     ]
    }
   ],
   "source": [
    "x=\"hello {0} how are you {1} \"\n",
    "print(x.format(\"kamlesh\",\"fine\"))"
   ]
  },
  {
   "cell_type": "code",
   "execution_count": 95,
   "metadata": {},
   "outputs": [
    {
     "name": "stdout",
     "output_type": "stream",
     "text": [
      "hii {'hello'} {'kamlesh'}\n"
     ]
    }
   ],
   "source": [
    "a=\"hello\"\n",
    "b=\"kamlesh\"\n",
    "print(F\"hii\",{a},{b})"
   ]
  },
  {
   "cell_type": "code",
   "execution_count": 97,
   "metadata": {},
   "outputs": [
    {
     "name": "stdout",
     "output_type": "stream",
     "text": [
      "the kamlesh live on instagram and facebook\n"
     ]
    }
   ],
   "source": [
    "print(\"the kamlesh live on {} {} {}\".format(\"instagram\",\"and\",\"facebook\"))"
   ]
  },
  {
   "cell_type": "code",
   "execution_count": 103,
   "metadata": {},
   "outputs": [
    {
     "name": "stdout",
     "output_type": "stream",
     "text": [
      "i`m kamlesh kumar form bhudla\n"
     ]
    }
   ],
   "source": [
    "print(\"i`m %s %s form bhudla\" %(\"kamlesh\",\"kumar\"))"
   ]
  },
  {
   "cell_type": "code",
   "execution_count": 106,
   "metadata": {},
   "outputs": [
    {
     "name": "stdout",
     "output_type": "stream",
     "text": [
      "i`m kamlesh my class codesession form bhudla jaipur\n"
     ]
    }
   ],
   "source": [
    "x,y,z,w=\"kamlesh\",\"codesession\",\"bhudla\",\"jaipur\"\n",
    "print(\"i`m %s my class %s form %s %s\"%(x,y,z,w))"
   ]
  },
  {
   "cell_type": "code",
   "execution_count": 2,
   "metadata": {},
   "outputs": [
    {
     "name": "stdout",
     "output_type": "stream",
     "text": [
      "my name is kamlesh \n"
     ]
    }
   ],
   "source": [
    "print('my name is %s '%'kamlesh')"
   ]
  },
  {
   "cell_type": "code",
   "execution_count": 40,
   "metadata": {},
   "outputs": [
    {
     "name": "stdout",
     "output_type": "stream",
     "text": [
      "enter your frist number:5\n",
      "ente your scond number: 5\n",
      "add10 \n",
      " sub 0 \n",
      " mul 25 \n",
      " div 1.0 \n",
      " exponentation 3125 \n",
      " floor dev 1 \n",
      " moudls 0\n"
     ]
    }
   ],
   "source": [
    "# opterators\n",
    "# opterators are youed to perform operation on variable and value\n",
    "num_1=int(input(\"enter your frist number:\"))\n",
    "num_2=int(input(\"ente your scond number: \"))\n",
    "a=num_1\n",
    "b=num_2\n",
    "c=a+b\n",
    "d=a-b\n",
    "e=a*b\n",
    "f=a/b\n",
    "g=a**b\n",
    "h=a//b\n",
    "i=a%b\n",
    "print(f\"add{c}\",\"\\n\",\"sub\",d,\"\\n\",\"mul\",e,\"\\n\",\"div\",f,\"\\n\",\"exponentation\",g,\"\\n\",\"floor dev\",h,\"\\n\",\"moudls\",i)"
   ]
  },
  {
   "cell_type": "code",
   "execution_count": 21,
   "metadata": {},
   "outputs": [
    {
     "name": "stdout",
     "output_type": "stream",
     "text": [
      "100000000000000000000\n"
     ]
    }
   ],
   "source": [
    "a=10\n",
    "a **=20\n",
    "print(a)"
   ]
  },
  {
   "cell_type": "code",
   "execution_count": 34,
   "metadata": {},
   "outputs": [
    {
     "name": "stdout",
     "output_type": "stream",
     "text": [
      "True\n"
     ]
    }
   ],
   "source": [
    "a=20\n",
    "b=20\n",
    "print(a<=b)"
   ]
  },
  {
   "cell_type": "code",
   "execution_count": 45,
   "metadata": {},
   "outputs": [
    {
     "name": "stdout",
     "output_type": "stream",
     "text": [
      "True\n"
     ]
    }
   ],
   "source": [
    "a=10\n",
    "b=2\n",
    "c=10\n",
    "print(b<c and a>b)"
   ]
  },
  {
   "cell_type": "code",
   "execution_count": 49,
   "metadata": {},
   "outputs": [
    {
     "name": "stdout",
     "output_type": "stream",
     "text": [
      "False\n"
     ]
    }
   ],
   "source": [
    "a=3\n",
    "b=4\n",
    "c=1\n",
    "print(a<c or b<c)"
   ]
  },
  {
   "cell_type": "code",
   "execution_count": 54,
   "metadata": {},
   "outputs": [
    {
     "name": "stdout",
     "output_type": "stream",
     "text": [
      "True\n"
     ]
    }
   ],
   "source": [
    "a=10\n",
    "b=20\n",
    "n=5\n",
    "print( not a<n)"
   ]
  },
  {
   "cell_type": "code",
   "execution_count": 60,
   "metadata": {},
   "outputs": [
    {
     "name": "stdout",
     "output_type": "stream",
     "text": [
      "94141861980800\n",
      "94141861980800\n",
      "False\n"
     ]
    }
   ],
   "source": [
    "a=52\n",
    "b=52\n",
    "print(id(a))\n",
    "print(id(b))\n",
    "print(a is not  b)"
   ]
  },
  {
   "cell_type": "code",
   "execution_count": 63,
   "metadata": {},
   "outputs": [
    {
     "name": "stdout",
     "output_type": "stream",
     "text": [
      "False\n"
     ]
    }
   ],
   "source": [
    "k=\"kamlesh\"\n",
    "b=\"ka\"\n",
    "print(b not in k)"
   ]
  }
 ],
 "metadata": {
  "kernelspec": {
   "display_name": "Python 3",
   "language": "python",
   "name": "python3"
  },
  "language_info": {
   "codemirror_mode": {
    "name": "ipython",
    "version": 3
   },
   "file_extension": ".py",
   "mimetype": "text/x-python",
   "name": "python",
   "nbconvert_exporter": "python",
   "pygments_lexer": "ipython3",
   "version": "3.7.3"
  }
 },
 "nbformat": 4,
 "nbformat_minor": 2
}
