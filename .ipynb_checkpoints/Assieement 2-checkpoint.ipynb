{
 "cells": [
  {
   "cell_type": "code",
   "execution_count": 8,
   "metadata": {},
   "outputs": [
    {
     "name": "stdout",
     "output_type": "stream",
     "text": [
      "Enter your choice::yes\n",
      "shutting down\n"
     ]
    }
   ],
   "source": [
    "# Exercise 1\n",
    "# Write a shutting down program:\n",
    "# First, def a function, shut_down, that takes one argument s.\n",
    "# Then, if the shut_down function receives an s equal to \"yes\",\n",
    "# it should return \"Shutting down\" Alternatively, elif s is equal to \"no\",\n",
    "# then the function should return \"Shutdown aborted\".\n",
    "# Finally, if shut_down gets anything other than those inputs,\n",
    "# the function should return \"Sorry\".\n",
    "def shut_down(*s):\n",
    "    s=input(\"Enter your choice::\")\n",
    "    if s==\"yes\":\n",
    "        print(\"shutting down\")\n",
    "    elif s==\"no\":\n",
    "        print(\"shutdown abrted\")\n",
    "    else:\n",
    "        print(\"sorry\")\n",
    "shut_down()"
   ]
  },
  {
   "cell_type": "code",
   "execution_count": 9,
   "metadata": {},
   "outputs": [
    {
     "ename": "SyntaxError",
     "evalue": "invalid syntax (<ipython-input-9-a301d8eae1c7>, line 1)",
     "output_type": "error",
     "traceback": [
      "\u001b[0;36m  File \u001b[0;32m\"<ipython-input-9-a301d8eae1c7>\"\u001b[0;36m, line \u001b[0;32m1\u001b[0m\n\u001b[0;31m    Exercise 2\u001b[0m\n\u001b[0m             ^\u001b[0m\n\u001b[0;31mSyntaxError\u001b[0m\u001b[0;31m:\u001b[0m invalid syntax\n"
     ]
    }
   ],
   "source": [
    "Exercise 2\n",
    "First, def a function called distance_from_zero,\n",
    "with one argument (choose any argument name you like).\n",
    "If the type of the argument is either int or float, the function should return\n",
    "the absolute value of the function input. Otherwise, the function should return \"Nope\".\n",
    "Check if it works calling the function with -5.6 and \"what?\".\n",
    "    "
   ]
  },
  {
   "cell_type": "code",
   "execution_count": 10,
   "metadata": {},
   "outputs": [],
   "source": [
    "# Exercise 3\n",
    "# Let's use functions to calculate your trip's costs:\n",
    "\n",
    "# Define a function called hotel_cost with one argument nights as input.\n",
    "# The hotel costs $140 per night. So, the function hotel_cost should return 140 * nights.\n",
    "# Define a function called plane_ride_cost that takes a string, city, as input.\n",
    "# The function should return a different price depending on the location.\n",
    "# Below are the valid destinations and their corresponding round-trip prices.\n",
    "\n",
    "# \"Charlotte\": 183\n",
    "# \"Tampa\": 220\n",
    "# \"Pittsburgh\": 222\n",
    "# \"Los Angeles\": 475\n",
    "# -Below your existing code, define a function called rental_car_cost with an argument called days. Calculate the cost of renting the car: Every day you rent the car costs $40.(cost=40*days) if you rent the car for 7 or more days, you get $50 off your total(cost-=50). Alternatively (elif), if you rent the car for 3 or more days, you get $20 off your total. You cannot get both of the above discounts. Return that cost. -Then, define a function called trip_cost that takes two arguments, city and days. Like the example above, have your function return the sum of calling the rental_car_cost(days), hotel_cost(days), and plane_ride_cost(city) functions.\n",
    "# Modify your trip_cost function definion. Add a third argument, spending_money. Modify what the trip_cost function does. Add the variable `spending_money to the sum that it returns.\n"
   ]
  },
  {
   "cell_type": "code",
   "execution_count": null,
   "metadata": {},
   "outputs": [],
   "source": [
    "Exercise 4\n",
    "Follow the steps:\n",
    "\n",
    "First, def a function called cube that takes an argument called number.\n",
    "Make that function return the cube of that number (i.e. that number multiplied by itself and multiplied by itself once again).\n",
    "Define a second function called by_three that takes an argument called number.\n",
    "if that number is divisible by 3,by_threeshould call cube(number) and return its result.\n",
    "Otherwise, by_three should return False. -Check if it works."
   ]
  }
 ],
 "metadata": {
  "kernelspec": {
   "display_name": "Python 3",
   "language": "python",
   "name": "python3"
  },
  "language_info": {
   "codemirror_mode": {
    "name": "ipython",
    "version": 3
   },
   "file_extension": ".py",
   "mimetype": "text/x-python",
   "name": "python",
   "nbconvert_exporter": "python",
   "pygments_lexer": "ipython3",
   "version": "3.7.3"
  }
 },
 "nbformat": 4,
 "nbformat_minor": 2
}
