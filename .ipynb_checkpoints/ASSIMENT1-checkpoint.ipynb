{
 "cells": [
  {
   "cell_type": "code",
   "execution_count": 1,
   "metadata": {},
   "outputs": [
    {
     "name": "stdout",
     "output_type": "stream",
     "text": [
      "Enter your email addd.:kkp15082000@gmail.com\n",
      "Form :delhi\n",
      "To :jaipur\n",
      "Date :15/08/2020\n",
      "Subject :for fess\n",
      "Malied by :kkp\n",
      "Singed bysanju\n",
      "Securty :58758859\n",
      " Your name is : kkp15082000@gmail.com\n",
      "Form: delhi \n",
      " To jaipur \n",
      " Date : 15/08/2020 \n",
      " Subject :  for fess \n",
      " Mailed by : kkp \n",
      " Singed by : sanju \n",
      " Securty : 58758859\n"
     ]
    }
   ],
   "source": [
    "# 1.Create a program that inputs and displays the name and complete mailing address formatted in the manner that you\n",
    "#  would usually see on the outside of an envelope.\n",
    "a=input(\"Enter your email addd.:\")\n",
    "b=input(\"Form :\")\n",
    "c=input(\"To :\")\n",
    "d=input(\"Date :\")\n",
    "e=input(\"Subject :\")\n",
    "f=input(\"Malied by :\")\n",
    "g=input(\"Singed by\")\n",
    "h=input(\"Securty :\")\n",
    "print(\" Your name is :\",a)\n",
    "print(\"Form:\",b,'\\n',\"To\",c,'\\n',\"Date :\",d,'\\n',\"Subject : \",e,'\\n',\"Mailed by :\",f,'\\n',\"Singed by :\",g,'\\n',\"Securty :\",h)"
   ]
  },
  {
   "cell_type": "code",
   "execution_count": 2,
   "metadata": {},
   "outputs": [
    {
     "name": "stdout",
     "output_type": "stream",
     "text": [
      "Enter your name : kamlesh\n",
      "your name is :: kamlesh\n"
     ]
    }
   ],
   "source": [
    "# 2.Write a program that asks the user to enter his or her name. The program should respond with a message that says\n",
    "#    hello to the user, using his or her name.\n",
    "k=input(\"Enter your name : \")\n",
    "print(\"your name is ::\",k)"
   ]
  },
  {
   "cell_type": "code",
   "execution_count": 3,
   "metadata": {},
   "outputs": [
    {
     "name": "stdout",
     "output_type": "stream",
     "text": [
      "Enter your Room width in feet : 32\n",
      "Enter your Room length in feet :25\n",
      "The Room area metres : 240.0\n"
     ]
    }
   ],
   "source": [
    "# 3.Write a program that asks the user to enter the width and length of a room. Once the values have been read,\n",
    "#    your program should compute and display the area of the room. The length and the width will be entered as floating point numbers.\n",
    "#    Include units in your prompt and output message; either feet or meters, depending on which unit you are more comfortable working with.\n",
    "num_1=float(input('Enter your Room width in feet : '))\n",
    "num_2=float(input('Enter your Room length in feet :'))\n",
    "# metres = num_1*0.3048 \n",
    "# metres = num_2*0.3048 \n",
    "c=num_1*num_2\n",
    "metres=c*0.30\n",
    "print(\"The Room area metres :\",metres)\n"
   ]
  },
  {
   "cell_type": "code",
   "execution_count": 3,
   "metadata": {},
   "outputs": [
    {
     "name": "stdout",
     "output_type": "stream",
     "text": [
      "Enter your width in feet:5\n",
      "Enter your lenght in feet:3\n",
      "Your field areas in acres: 653400.0\n"
     ]
    }
   ],
   "source": [
    "# 4.Create a program that reads the length and width of a farmer�s field from the user in feet. Display the area of the\n",
    "#    field in acres.\n",
    "num_1=int(input(\"Enter your width in feet:\"))\n",
    "num_2=int(input(\"Enter your lenght in feet:\"))\n",
    "c=num_1*num_2\n",
    "acers=c*43560.0\n",
    "print(\"Your field areas in acres:\",acers)"
   ]
  },
  {
   "cell_type": "code",
   "execution_count": 3,
   "metadata": {},
   "outputs": [],
   "source": [
    "# .5In many jurisdictions a small deposit is added to drink containers to encourage people to recycle them.\n",
    "#    In one particular jurisdiction, drink containers holding one liter or less have a $0.10 deposit, and drink containers\n",
    "#    holding more than one liter have a $0.25 deposit.\n",
    "#    Write a program that reads the number of containers of each size from the user.\n",
    "#    Your program should continue by computing and displaying the refund that will be received for returning those containers.\n",
    "#    Format the output so that it includes a dollar sign and always displays exactly two decimal places.\n"
   ]
  },
  {
   "cell_type": "code",
   "execution_count": 1,
   "metadata": {},
   "outputs": [
    {
     "name": "stdout",
     "output_type": "stream",
     "text": [
      "Plase enter your meal prize :500\n",
      "plase enter your tip amount :10\n",
      "plase enter your tax rate  :15\n",
      "the total amount of meal  585.0\n"
     ]
    }
   ],
   "source": [
    "# .6 The program that you create for this exercise will begin by reading the cost of a meal ordered at a restaurant from the user.\n",
    "#    Then your program will compute the tax and tip for the meal. Use your local tax rate when computing the amount of tax owing.\n",
    "#    Compute the tip as 18 percent of the meal amount (without the tax).\n",
    "#    The output from your program should include the tax amount, the tip amount, and the grand total for the meal including both \n",
    "#    the tax and the tip. Format the output so that all of the values are displayed using two decimal places.\n",
    "a=int(input(\"Plase enter your meal prize :\"))\n",
    "b=int(input(\"plase enter your tip amount :\"))\n",
    "c=int(input(\"plase enter your tax rate  :\"))\n",
    "d=c*(a/100)\n",
    "e=d+b+a\n",
    "print(\"the total amount of meal \",e)\n"
   ]
  },
  {
   "cell_type": "code",
   "execution_count": 5,
   "metadata": {},
   "outputs": [
    {
     "name": "stdout",
     "output_type": "stream",
     "text": [
      "Enter your positive no :10\n",
      "read no 10 positive integer 55.0\n"
     ]
    }
   ],
   "source": [
    "# .7 Write a program that reads a positive integer, n, from 1from the user and then displays the sum of all of the integers  to n.\n",
    "#    The sum of the first n positive integers can be computed using the formula:\n",
    "#   sum = [(n)(n + 1)]/2\n",
    "n=int(input(\"Enter your positive no :\"))\n",
    "sum=n*(n + 1)/2\n",
    "print(\"read no\",n,\"positive integer\",sum)"
   ]
  },
  {
   "cell_type": "code",
   "execution_count": 8,
   "metadata": {},
   "outputs": [
    {
     "name": "stdout",
     "output_type": "stream",
     "text": [
      "Enter your widgets in grams :2\n",
      "Enter your gizmos in grams :2\n",
      "the total weight is : 374 grams\n"
     ]
    }
   ],
   "source": [
    "# 8. An online retailer sells two products: widgets and gizmos. Each widget weighs 75 grams. Each gizmo weighs 112 grams.\n",
    "#    Write a program that reads the number of widgets and the number of gizmos in an order from the user. Then your program\n",
    "#    should compute and display the total weight of the order.\n",
    "a=int(input(\"Enter your widgets in grams :\"))\n",
    "b=int(input(\"Enter your gizmos in grams :\"))\n",
    "c=a*75\n",
    "d=b*112\n",
    "e=c+d\n",
    "print(\"the total weight is :\",e,\"grams\")"
   ]
  },
  {
   "cell_type": "code",
   "execution_count": 2,
   "metadata": {},
   "outputs": [
    {
     "name": "stdout",
     "output_type": "stream",
     "text": [
      "Enter  miles-per- gallon (MPG). :=58\n",
      "liters-per-hundred kilometers (L/100 km):= 13642.18\n"
     ]
    }
   ],
   "source": [
    "# 9.In the United States, fuel efficiency for vehicles is normally expressed in miles-per- gallon (MPG).\n",
    "#    In Canada, fuel efficiency is normally expressed in liters-per-hundred kilometers (L/100 km).\n",
    "#    Use your research skills to determine how to convert from MPG to L/100 km. Then create a program that reads\n",
    "#    a value from the user in American units and displays the equivalent fuel efficiency in Canadian units.\n",
    "a=int(input(\"Enter  miles-per- gallon (MPG). :=\"))\n",
    "# b=int(input(\"Enter your litter-per-100kilometer :\"))\n",
    "c=a*235.21\n",
    "print(\"liters-per-hundred kilometers (L/100 km):=\",c)"
   ]
  },
  {
   "cell_type": "code",
   "execution_count": 16,
   "metadata": {},
   "outputs": [
    {
     "name": "stdout",
     "output_type": "stream",
     "text": [
      "Enter your frist number :12\n",
      "Enter your second number :6\n",
      "sum of a&b: 18\n",
      "diffrence when b is subtracted form a: 6\n",
      "the product of a and b : 72\n",
      "quotient when a is divided by b : 2.0\n",
      "the remainder when a is diviede by b : 0\n"
     ]
    }
   ],
   "source": [
    "# 10.Create a program that reads two integers, a and b, from the user. Your program should compute and display:\n",
    "\n",
    "# \tThe sum of a and b\n",
    "# \tThe difference when b is subtracted from a\n",
    "# \tThe product of a and b\n",
    "# \tThe quotient when a is divided by b\n",
    "# \tThe remainder when a is divided by b\n",
    "num_1=input(\"Enter your frist number :\")\n",
    "num_2=input(\"Enter your second number :\")\n",
    "a=int(num_1)\n",
    "b=int(num_2)\n",
    "c=a+b\n",
    "d=a-b\n",
    "e=a*b\n",
    "f=a/b\n",
    "g=a%b\n",
    "print(\"sum of a&b:\",c)\n",
    "print(\"diffrence when b is subtracted form a:\",d)\n",
    "print(\"the product of a and b :\",e)\n",
    "print(\"quotient when a is divided by b :\",f)\n",
    "print(\"the remainder when a is diviede by b :\",g)"
   ]
  }
 ],
 "metadata": {
  "kernelspec": {
   "display_name": "Python 3",
   "language": "python",
   "name": "python3"
  },
  "language_info": {
   "codemirror_mode": {
    "name": "ipython",
    "version": 3
   },
   "file_extension": ".py",
   "mimetype": "text/x-python",
   "name": "python",
   "nbconvert_exporter": "python",
   "pygments_lexer": "ipython3",
   "version": "3.7.3"
  }
 },
 "nbformat": 4,
 "nbformat_minor": 2
}
