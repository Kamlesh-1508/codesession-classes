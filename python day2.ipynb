{
 "cells": [
  {
   "cell_type": "code",
   "execution_count": 2,
   "metadata": {},
   "outputs": [
    {
     "name": "stdout",
     "output_type": "stream",
     "text": [
      "hello\n"
     ]
    }
   ],
   "source": [
    "print('hello')"
   ]
  },
  {
   "cell_type": "code",
   "execution_count": 4,
   "metadata": {},
   "outputs": [
    {
     "name": "stdout",
     "output_type": "stream",
     "text": [
      "this is number 242\n"
     ]
    }
   ],
   "source": [
    "number_1=21\n",
    "number_2=221\n",
    "number_3=216\n",
    "number_4=128\n",
    "x=number_1+number_2\n",
    "print(\"this is number\",x)"
   ]
  },
  {
   "cell_type": "code",
   "execution_count": 1,
   "metadata": {},
   "outputs": [
    {
     "name": "stdout",
     "output_type": "stream",
     "text": [
      "enter youer no :5\n",
      "enter your second no :5\n",
      "your no is : 10\n"
     ]
    }
   ],
   "source": [
    "# variable\n",
    "a= int(input('enter youer no :'))\n",
    "b= int(input('enter your second no :'))\n",
    "c=a+b\n",
    "print(\"your no is :\",c)"
   ]
  },
  {
   "cell_type": "code",
   "execution_count": 22,
   "metadata": {},
   "outputs": [
    {
     "name": "stdout",
     "output_type": "stream",
     "text": [
      "('ramradha', 'shyam') shyam\n"
     ]
    }
   ],
   "source": [
    "#variable\n",
    "name = 'ram'  'radha','shyam'\n",
    "b ='shyam'\n",
    "print(name,b)"
   ]
  }
 ],
 "metadata": {
  "kernelspec": {
   "display_name": "Python 3",
   "language": "python",
   "name": "python3"
  },
  "language_info": {
   "codemirror_mode": {
    "name": "ipython",
    "version": 3
   },
   "file_extension": ".py",
   "mimetype": "text/x-python",
   "name": "python",
   "nbconvert_exporter": "python",
   "pygments_lexer": "ipython3",
   "version": "3.7.3"
  }
 },
 "nbformat": 4,
 "nbformat_minor": 2
}
