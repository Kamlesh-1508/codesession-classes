{
 "cells": [
  {
   "cell_type": "code",
   "execution_count": 1,
   "metadata": {},
   "outputs": [
    {
     "name": "stdout",
     "output_type": "stream",
     "text": [
      "hi everyone\n",
      "good morning \n",
      "\"my name is kamlesh kumar prajapat\"\n",
      "\"i have done diploma in computer sicence engg. in 2019\"\n"
     ]
    }
   ],
   "source": [
    "#\\n=for new line in programe.\n",
    "a = 'hi everyone\\ngood morning \\n\"my name is kamlesh kumar prajapat\"\\n\"i have done diploma in computer sicence engg. in 2019\"'\n",
    "print(a)"
   ]
  },
  {
   "cell_type": "code",
   "execution_count": 6,
   "metadata": {},
   "outputs": [
    {
     "name": "stdout",
     "output_type": "stream",
     "text": [
      "26\n",
      "m\n",
      "m\n"
     ]
    }
   ],
   "source": [
    "#idexing in string = represent of string value.\n",
    "# start index in python language=0123456789.\n",
    "a=\"i am kamlesh kumar prajpat\"\n",
    "print(len(a))\n",
    "print(a[15])\n",
    "print(a[7])"
   ]
  },
  {
   "cell_type": "code",
   "execution_count": 27,
   "metadata": {},
   "outputs": [
    {
     "name": "stdout",
     "output_type": "stream",
     "text": [
      "27\n"
     ]
    }
   ],
   "source": [
    "# lenth count fumction\n",
    "a = 'i am kamlesh kumar prajapat'\n",
    "print(len(a))"
   ]
  },
  {
   "cell_type": "code",
   "execution_count": 5,
   "metadata": {},
   "outputs": [
    {
     "name": "stdout",
     "output_type": "stream",
     "text": [
      "\"i am kamlesh kumar prajajpat\"\n"
     ]
    }
   ],
   "source": [
    "#double quoits  represnt in program.\n",
    "a = '\"i am kamlesh kumar prajajpat\"'\n",
    "print(a)"
   ]
  },
  {
   "cell_type": "code",
   "execution_count": 4,
   "metadata": {},
   "outputs": [
    {
     "name": "stdout",
     "output_type": "stream",
     "text": [
      "'i am kamlesh kumar prajapat'\n"
     ]
    }
   ],
   "source": [
    "# single quoits represnt in program.\n",
    "a = \"'i am kamlesh kumar prajapat'\"\n",
    "print(a)"
   ]
  },
  {
   "cell_type": "code",
   "execution_count": 21,
   "metadata": {},
   "outputs": [
    {
     "name": "stdout",
     "output_type": "stream",
     "text": [
      "Helo good morining\n",
      "i am kamlesh kumar prajapat\n",
      "i live jaipur in rajasthan \n",
      " i have done diploma in computer science engg.in 2019\n",
      " and B.A clear in 2019\n",
      "my father a farmer  and we are five brother$sister\n",
      "me learn python language in present time \n",
      "my hooby singing song and watch movies.\n"
     ]
    }
   ],
   "source": [
    "# use for triple quiots(''' ''')\n",
    "a ='''Helo good morining\n",
    "i am kamlesh kumar prajapat\n",
    "i live jaipur in rajasthan \n",
    " i have done diploma in computer science engg.in 2019\n",
    " and B.A clear in 2019\n",
    "my father a farmer  and we are five brother$sister\n",
    "me learn python language in present time \n",
    "my hooby singing song and watch movies.'''\n",
    "print(a)"
   ]
  },
  {
   "cell_type": "code",
   "execution_count": 25,
   "metadata": {},
   "outputs": [
    {
     "name": "stdout",
     "output_type": "stream",
     "text": [
      "Hello gyu`s \n",
      "good moring everyone \n",
      "I am kamlesh kumar prajapat\n",
      "I live jaipur in rajathan\n",
      "I have done diploma in computer science engg. in 2019\n",
      "           and with clear B.A in 2019 form rajasthan university for non colllage \n",
      "we are seven member in my family! my father is a farmer amd we are five brother $ sister.\n",
      "my hobby singing song and watch movies,love story and read the book.\n",
      "me learn python programe language in present time.\n",
      "i am very happy fell with you do work in python language\n",
      "so fillinly very haapy.\n",
      "\n",
      "Thank you everyone                                                    \n",
      "                                                                           \n",
      "                                                                                      \n",
      "                                                                                       sing\n",
      "                                                                                       \n",
      "                    Made by kamlesh kumar prajapat mo.9587439122\n",
      "                     programmer in python language\n"
     ]
    }
   ],
   "source": [
    "# use for triple quiots(\"\"\" \"\"\") \n",
    "x = \"\"\"Hello gyu`s \n",
    "good moring everyone \n",
    "I am kamlesh kumar prajapat\n",
    "I live jaipur in rajathan\n",
    "I have done diploma in computer science engg. in 2019\n",
    "           and with clear B.A in 2019 form rajasthan university for non colllage \n",
    "we are seven member in my family! my father is a farmer amd we are five brother $ sister.\n",
    "my hobby singing song and watch movies,love story and read the book.\n",
    "me learn python programe language in present time.\n",
    "i am very happy fell with you do work in python language\n",
    "so fillinly very haapy.\n",
    "\n",
    "Thank you everyone                                                    \n",
    "                                                                           \n",
    "                                                                                      \n",
    "                                                                                       sing\n",
    "                                                                                       \n",
    "                    Made by kamlesh kumar prajapat mo.9587439122\n",
    "                     programmer in python language\"\"\"\n",
    "print(x)"
   ]
  },
  {
   "cell_type": "code",
   "execution_count": 29,
   "metadata": {},
   "outputs": [
    {
     "name": "stdout",
     "output_type": "stream",
     "text": [
      "i am kamlesh kumar prjapat \n"
     ]
    }
   ],
   "source": [
    "# lower function in prgram.\n",
    "a = 'I AM KAMLESH KUMAR PRJAPAT '\n",
    "print(a.lower())"
   ]
  },
  {
   "cell_type": "code",
   "execution_count": 31,
   "metadata": {},
   "outputs": [
    {
     "name": "stdout",
     "output_type": "stream",
     "text": [
      "I AM KAMLESH KUMAR PRAJAPAT\n"
     ]
    }
   ],
   "source": [
    "#upper function in program.\n",
    "a = 'i am kamlesh kumar prajapat'\n",
    "print(a.upper())"
   ]
  },
  {
   "cell_type": "code",
   "execution_count": 35,
   "metadata": {},
   "outputs": [
    {
     "name": "stdout",
     "output_type": "stream",
     "text": [
      "my name is kamlesh kumar prajapat\n"
     ]
    }
   ],
   "source": [
    "#strip function in program.\n",
    "a=\"my name is kamlesh kumar prajapat\"\n",
    "print(a.strip())"
   ]
  },
  {
   "cell_type": "code",
   "execution_count": 37,
   "metadata": {},
   "outputs": [
    {
     "name": "stdout",
     "output_type": "stream",
     "text": [
      "i am kamlesh kumar prajapat\n"
     ]
    }
   ],
   "source": [
    "#lstrip in program.\n",
    "a='i am kamlesh '\n",
    "b='kumar prajapat'\n",
    "print(a.lstrip()+b)"
   ]
  },
  {
   "cell_type": "code",
   "execution_count": 60,
   "metadata": {},
   "outputs": [
    {
     "name": "stdout",
     "output_type": "stream",
     "text": [
      "good morning kamlesh,good morning prajapat ji\n"
     ]
    }
   ],
   "source": [
    "#Replace is work to replace in string.\n",
    "text= \"hello kamlesh,hello prajapat ji\"\n",
    "print(text.replace(\"hello\",\"good morning\"))\n"
   ]
  },
  {
   "cell_type": "code",
   "execution_count": 3,
   "metadata": {},
   "outputs": [
    {
     "name": "stdout",
     "output_type": "stream",
     "text": [
      "['', 'kamlesh ', 'kumar ', 'prajapat']\n"
     ]
    }
   ],
   "source": [
    "#split=remove the word in string.\n",
    "#use the split function.\n",
    "string='qkamlesh qkumar qprajapat'\n",
    "x=string.split(\"q\")\n",
    "print(x)"
   ]
  },
  {
   "cell_type": "code",
   "execution_count": 2,
   "metadata": {},
   "outputs": [
    {
     "data": {
      "text/plain": [
       "'Kamlesh kumar prajapat'"
      ]
     },
     "execution_count": 2,
     "metadata": {},
     "output_type": "execute_result"
    }
   ],
   "source": [
    "#use for capitalize\n",
    "a=\"kamlesh kumar prajapat\"\n",
    "a.capitalize()"
   ]
  },
  {
   "cell_type": "code",
   "execution_count": 12,
   "metadata": {},
   "outputs": [
    {
     "name": "stdout",
     "output_type": "stream",
     "text": [
      "enter your age:35\n",
      "enter your age:65\n",
      "my age is -30\n",
      "my age is 100\n"
     ]
    }
   ],
   "source": [
    "# string formating \n",
    "a=int(input(\"enter your age:\"))\n",
    "b=int(input(\"enter your age:\"))\n",
    "print(\"my age is\",a-b)\n",
    "print(\"my age is\",a+b)"
   ]
  },
  {
   "cell_type": "code",
   "execution_count": 40,
   "metadata": {},
   "outputs": [
    {
     "name": "stdout",
     "output_type": "stream",
     "text": [
      "this artical is  writen by kamleshkumar\n"
     ]
    }
   ],
   "source": [
    "# x Format string\n",
    "x = \"this artical {0}  writen by {1}{2}\"\n",
    "print(x.format(\"is\",\"kamlesh\",\"kumar\"))"
   ]
  },
  {
   "cell_type": "code",
   "execution_count": 50,
   "metadata": {},
   "outputs": [
    {
     "name": "stdout",
     "output_type": "stream",
     "text": [
      "hii welcome to 'india' thanks\n",
      "hii {'welcome to'} {\"'india'\"} thanks\n"
     ]
    }
   ],
   "source": [
    "a=\"welcome to\"\n",
    "b=\"'india'\"\n",
    "print(\"hii\",a,b,\"thanks\")\n",
    "print(F\"hii\", {a},{b},\"thanks\")"
   ]
  },
  {
   "cell_type": "code",
   "execution_count": 56,
   "metadata": {},
   "outputs": [
    {
     "name": "stdout",
     "output_type": "stream",
     "text": [
      "codeasession is live instagram and facebook \n"
     ]
    }
   ],
   "source": [
    "#f.formating\n",
    "print(\"codeasession is live {0} {1} {2} \".format(\"instagram\",\"and\",\"facebook\",))"
   ]
  },
  {
   "cell_type": "code",
   "execution_count": 85,
   "metadata": {},
   "outputs": [
    {
     "name": "stdout",
     "output_type": "stream",
     "text": [
      "i`m kamlesh kumar form jaipur rajasthan\n",
      "i`m kamlesh live in facebook instagram toady 5pm.\n",
      "hii i`m kamlesh\n"
     ]
    }
   ],
   "source": [
    "a = 'kamlesh'\n",
    "print(\"i`m %s %s form jaipur rajasthan\"%(\"kamlesh\",\"kumar\"))\n",
    "print(\"i`m %s live in %s toady 5pm.\"%(\"kamlesh\",\"facebook instagram\"))\n",
    "print(\"hii i`m\",a)"
   ]
  },
  {
   "cell_type": "code",
   "execution_count": 2,
   "metadata": {},
   "outputs": [
    {
     "name": "stdout",
     "output_type": "stream",
     "text": [
      "enter you no:65\n",
      "i`m wrote 65 programe today.\n",
      "i`m wrote 585.000000 programe today .\n",
      "i`m wrote 25.000000 programe today.\n"
     ]
    }
   ],
   "source": [
    "a=int(input('enter you no:'))\n",
    "print(\"i`m wrote %i programe today.\"%a)\n",
    "print(\"i`m wrote %f programe today .\"%585)\n",
    "print(\"i`m wrote %5f programe today.\"%25)"
   ]
  },
  {
   "cell_type": "code",
   "execution_count": 6,
   "metadata": {},
   "outputs": [
    {
     "name": "stdout",
     "output_type": "stream",
     "text": [
      "45\n",
      "20\n",
      "2\n",
      "<class 'int'> \n",
      " <class 'int'> \n",
      " <class 'int'>\n"
     ]
    }
   ],
   "source": [
    "# casting = change formate  use for casting\n",
    "# integer casting\n",
    "x=int(45)\n",
    "y=int(20.5)\n",
    "z=int(\"2\")\n",
    "print(x)\n",
    "print(y)\n",
    "print(z)\n",
    "print(type(z),'\\n',type(y),'\\n',type(y))"
   ]
  },
  {
   "cell_type": "code",
   "execution_count": 1,
   "metadata": {},
   "outputs": [
    {
     "name": "stdout",
     "output_type": "stream",
     "text": [
      "1.0 \n",
      " 552120.0 \n",
      " 254.0\n",
      "<class 'float'> \n",
      " <class 'float'> \n",
      " <class 'float'>\n"
     ]
    }
   ],
   "source": [
    "# float casting \n",
    "x=float(1)\n",
    "y=float(552120.)\n",
    "z=float(\"254\")\n",
    "print(x,'\\n',y,'\\n',z)\n",
    "print(type(x),'\\n',type(y),'\\n',type(z))"
   ]
  },
  {
   "cell_type": "code",
   "execution_count": 2,
   "metadata": {},
   "outputs": [
    {
     "name": "stdout",
     "output_type": "stream",
     "text": [
      "11\n"
     ]
    }
   ],
   "source": [
    "x=10\n",
    "x +=1\n",
    "print(x)"
   ]
  },
  {
   "cell_type": "code",
   "execution_count": 9,
   "metadata": {},
   "outputs": [
    {
     "name": "stdout",
     "output_type": "stream",
     "text": [
      "Please enter the first number: 25\n",
      "Please enter the second number: 21\n",
      "addition 46\n",
      "subtraction 4\n",
      "multiplacation 525\n",
      "devision 1.1904761904761905\n",
      "floor devision 1\n",
      "Exponentiation 227373675443232059478759765625\n",
      "modual 4\n"
     ]
    }
   ],
   "source": [
    "#operator\n",
    "# Airthmatic operator\n",
    "'''\n",
    "+     addition        x+y\n",
    "-     subtraction     x-y\n",
    "*     multiplication  x*y\n",
    "/     division        x/y\n",
    "**    Exponentiation  x**y\n",
    "//    floor devision  x//y\n",
    "%     modul           x%y\n",
    "'''\n",
    "\n",
    "number_1 = int(input('Please enter the first number: '))\n",
    "number_2 = int(input('Please enter the second number: '))\n",
    "a=number_1\n",
    "b=number_2\n",
    "c=a+b\n",
    "d=a-b\n",
    "e=a*b\n",
    "f=a/b\n",
    "g=a//b\n",
    "h=a**b\n",
    "i=a%b\n",
    "print(F\"addition {c}\")\n",
    "print(f\"subtraction {d}\")\n",
    "print(f\"multiplacation {e}\")\n",
    "print(f\"devision {f}\")\n",
    "print(f\"floor devision {g}\")\n",
    "print(f\"Exponentiation {h}\")\n",
    "print(f\"modual {i}\")"
   ]
  },
  {
   "cell_type": "code",
   "execution_count": 13,
   "metadata": {},
   "outputs": [
    {
     "name": "stdout",
     "output_type": "stream",
     "text": [
      "kamlesh 544\n"
     ]
    }
   ],
   "source": [
    "# Assignment operator\n",
    "''' 1.       =       x = 5       x = 5\n",
    "    2.      +=      x += 5      x = x + 5\n",
    "    3.      -=      x -= 3      x = x - 3\n",
    "    4.      *=      x *= 3      x = x * 3\n",
    "    5.      /=      x /= 3      x = x / 3\n",
    "    6.      %=      x %= 3      x = x % 3\n",
    "    7.      //=     x //= 3     x = x // 3\n",
    "    8.      **=     x **= 3     x = x ** 3\n",
    "'''\n",
    "a=\"kamlesh\"\n",
    "b=544\n",
    "print(a,b)"
   ]
  },
  {
   "cell_type": "code",
   "execution_count": 51,
   "metadata": {},
   "outputs": [
    {
     "name": "stdout",
     "output_type": "stream",
     "text": [
      "50\n"
     ]
    }
   ],
   "source": [
    "x=5\n",
    "y=45\n",
    "x += y\n",
    "print(x)"
   ]
  },
  {
   "cell_type": "code",
   "execution_count": 53,
   "metadata": {},
   "outputs": [
    {
     "name": "stdout",
     "output_type": "stream",
     "text": [
      "True\n"
     ]
    }
   ],
   "source": [
    "# comparision operator\n",
    "'''==   \tEqual                       \tx == y\n",
    "\n",
    "   !=   \tNot equal                   \tx != y\n",
    "   \n",
    "   >    \tGreater than                \tx > y\n",
    "   \n",
    "   <    \tLess than                   \tx < y\n",
    "   \n",
    "   >=   \tGreater than or equal to    \tx >= y\n",
    "   \n",
    "   <=   \tLess than or equal to       \tx <= y\n",
    "    '''\n",
    "# equal\n",
    "a=5\n",
    "b=5\n",
    "print(a==b)"
   ]
  },
  {
   "cell_type": "code",
   "execution_count": 58,
   "metadata": {},
   "outputs": [
    {
     "name": "stdout",
     "output_type": "stream",
     "text": [
      "False\n"
     ]
    }
   ],
   "source": [
    "# not equal\n",
    "a=5\n",
    "b=5\n",
    "print(a!=b)"
   ]
  },
  {
   "cell_type": "code",
   "execution_count": 61,
   "metadata": {},
   "outputs": [
    {
     "name": "stdout",
     "output_type": "stream",
     "text": [
      "True\n"
     ]
    }
   ],
   "source": [
    "# equal less than\n",
    "a=10\n",
    "b=10\n",
    "print(a<=b)"
   ]
  },
  {
   "cell_type": "code",
   "execution_count": 64,
   "metadata": {},
   "outputs": [
    {
     "name": "stdout",
     "output_type": "stream",
     "text": [
      "False\n"
     ]
    }
   ],
   "source": [
    "# equal grater than\n",
    "a=2\n",
    "b=5\n",
    "print(a>=b)"
   ]
  },
  {
   "cell_type": "code",
   "execution_count": null,
   "metadata": {},
   "outputs": [],
   "source": []
  },
  {
   "cell_type": "code",
   "execution_count": 26,
   "metadata": {},
   "outputs": [
    {
     "name": "stdout",
     "output_type": "stream",
     "text": [
      "True\n"
     ]
    }
   ],
   "source": [
    "# logical operator [and,or,not]\n",
    "# And\n",
    "a=10\n",
    "b=21\n",
    "c=35\n",
    "print(a<b and a<c)"
   ]
  },
  {
   "cell_type": "code",
   "execution_count": 36,
   "metadata": {},
   "outputs": [
    {
     "name": "stdout",
     "output_type": "stream",
     "text": [
      "True\n"
     ]
    }
   ],
   "source": [
    "# Or\n",
    "a=52\n",
    "b=25\n",
    "c=45\n",
    "print(a<b or a>c)"
   ]
  },
  {
   "cell_type": "code",
   "execution_count": 65,
   "metadata": {},
   "outputs": [
    {
     "name": "stdout",
     "output_type": "stream",
     "text": [
      "True\n"
     ]
    }
   ],
   "source": [
    "# Not\n",
    "a=5\n",
    "b=7\n",
    "c=21\n",
    "print( not a>b )"
   ]
  },
  {
   "cell_type": "code",
   "execution_count": 76,
   "metadata": {},
   "outputs": [
    {
     "name": "stdout",
     "output_type": "stream",
     "text": [
      "140053187433728\n",
      "140053119479472\n",
      "False\n"
     ]
    }
   ],
   "source": [
    "# identity operator \n",
    "# thay are two type\n",
    "# 1=is and 2=is not\n",
    "a='kamlesh'\n",
    "b='kamlesh kumar' \n",
    "print(id (a))\n",
    "print(id (b))\n",
    "print(a is b)"
   ]
  },
  {
   "cell_type": "code",
   "execution_count": 81,
   "metadata": {},
   "outputs": [
    {
     "name": "stdout",
     "output_type": "stream",
     "text": [
      "94626963564320\n",
      "94626963564320\n",
      "False\n"
     ]
    }
   ],
   "source": [
    "a=25\n",
    "b=25\n",
    "print(id(a))\n",
    "print(id(a))\n",
    "print(a is not  b)"
   ]
  }
 ],
 "metadata": {
  "kernelspec": {
   "display_name": "Python 3",
   "language": "python",
   "name": "python3"
  },
  "language_info": {
   "codemirror_mode": {
    "name": "ipython",
    "version": 3
   },
   "file_extension": ".py",
   "mimetype": "text/x-python",
   "name": "python",
   "nbconvert_exporter": "python",
   "pygments_lexer": "ipython3",
   "version": "3.7.3"
  }
 },
 "nbformat": 4,
 "nbformat_minor": 2
}
