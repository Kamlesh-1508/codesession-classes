{
 "cells": [
  {
   "cell_type": "code",
   "execution_count": 1,
   "metadata": {},
   "outputs": [
    {
     "name": "stdout",
     "output_type": "stream",
     "text": [
      "hi everyone\n",
      "good morning \n",
      "\"my name is kamlesh kumar prajapat\"\n",
      "\"i have done diploma in computer sicence engg. in 2019\"\n"
     ]
    }
   ],
   "source": [
    "#\\n=for new line in programe.\n",
    "a = 'hi everyone\\ngood morning \\n\"my name is kamlesh kumar prajapat\"\\n\"i have done diploma in computer sicence engg. in 2019\"'\n",
    "print(a)"
   ]
  },
  {
   "cell_type": "code",
   "execution_count": 1,
   "metadata": {},
   "outputs": [
    {
     "name": "stdout",
     "output_type": "stream",
     "text": [
      "26\n",
      "m\n",
      "m\n"
     ]
    }
   ],
   "source": [
    "#indexing in string = represent of string value.\n",
    "# start index in python language=0123456789.\n",
    "a=\"i am kamlesh kumar prajpat\"\n",
    "print(len(a))\n",
    "print(a[15])\n",
    "print(a[7])"
   ]
  },
  {
   "cell_type": "code",
   "execution_count": 8,
   "metadata": {},
   "outputs": [
    {
     "name": "stdout",
     "output_type": "stream",
     "text": [
      "22\n",
      "range= ksmra\n"
     ]
    }
   ],
   "source": [
    "# string sub list\n",
    "a=\"kamlesh kumar prajapat\"\n",
    "print(len(a))\n",
    "print(\"range=\",a[0:22:5])"
   ]
  },
  {
   "cell_type": "code",
   "execution_count": 27,
   "metadata": {},
   "outputs": [
    {
     "name": "stdout",
     "output_type": "stream",
     "text": [
      "27\n"
     ]
    }
   ],
   "source": [
    "# lenth count fumction\n",
    "a = 'i am kamlesh kumar prajapat'\n",
    "print(len(a))"
   ]
  },
  {
   "cell_type": "code",
   "execution_count": 5,
   "metadata": {},
   "outputs": [
    {
     "name": "stdout",
     "output_type": "stream",
     "text": [
      "\"i am kamlesh kumar prajajpat\"\n"
     ]
    }
   ],
   "source": [
    "#double quoits  represnt in program.\n",
    "a = '\"i am kamlesh kumar prajajpat\"'\n",
    "print(a)"
   ]
  },
  {
   "cell_type": "code",
   "execution_count": 4,
   "metadata": {},
   "outputs": [
    {
     "name": "stdout",
     "output_type": "stream",
     "text": [
      "'i am kamlesh kumar prajapat'\n"
     ]
    }
   ],
   "source": [
    "# single quoits represnt in program.\n",
    "a = \"'i am kamlesh kumar prajapat'\"\n",
    "print(a)"
   ]
  },
  {
   "cell_type": "code",
   "execution_count": 21,
   "metadata": {},
   "outputs": [
    {
     "name": "stdout",
     "output_type": "stream",
     "text": [
      "Helo good morining\n",
      "i am kamlesh kumar prajapat\n",
      "i live jaipur in rajasthan \n",
      " i have done diploma in computer science engg.in 2019\n",
      " and B.A clear in 2019\n",
      "my father a farmer  and we are five brother$sister\n",
      "me learn python language in present time \n",
      "my hooby singing song and watch movies.\n"
     ]
    }
   ],
   "source": [
    "# use for triple quiots(''' ''')\n",
    "a ='''Helo good morining\n",
    "i am kamlesh kumar prajapat\n",
    "i live jaipur in rajasthan \n",
    " i have done diploma in computer science engg.in 2019\n",
    " and B.A clear in 2019\n",
    "my father a farmer  and we are five brother$sister\n",
    "me learn python language in present time \n",
    "my hooby singing song and watch movies.'''\n",
    "print(a)"
   ]
  },
  {
   "cell_type": "code",
   "execution_count": 25,
   "metadata": {},
   "outputs": [
    {
     "name": "stdout",
     "output_type": "stream",
     "text": [
      "Hello gyu`s \n",
      "good moring everyone \n",
      "I am kamlesh kumar prajapat\n",
      "I live jaipur in rajathan\n",
      "I have done diploma in computer science engg. in 2019\n",
      "           and with clear B.A in 2019 form rajasthan university for non colllage \n",
      "we are seven member in my family! my father is a farmer amd we are five brother $ sister.\n",
      "my hobby singing song and watch movies,love story and read the book.\n",
      "me learn python programe language in present time.\n",
      "i am very happy fell with you do work in python language\n",
      "so fillinly very haapy.\n",
      "\n",
      "Thank you everyone                                                    \n",
      "                                                                           \n",
      "                                                                                      \n",
      "                                                                                       sing\n",
      "                                                                                       \n",
      "                    Made by kamlesh kumar prajapat mo.9587439122\n",
      "                     programmer in python language\n"
     ]
    }
   ],
   "source": [
    "# use for triple quiots(\"\"\" \"\"\") \n",
    "x = \"\"\"Hello gyu`s \n",
    "good moring everyone \n",
    "I am kamlesh kumar prajapat\n",
    "I live jaipur in rajathan\n",
    "I have done diploma in computer science engg. in 2019\n",
    "           and with clear B.A in 2019 form rajasthan university for non colllage \n",
    "we are seven member in my family! my father is a farmer amd we are five brother $ sister.\n",
    "my hobby singing song and watch movies,love story and read the book.\n",
    "me learn python programe language in present time.\n",
    "i am very happy fell with you do work in python language\n",
    "so fillinly very haapy.\n",
    "\n",
    "Thank you everyone                                                    \n",
    "                                                                           \n",
    "                                                                                      \n",
    "                                                                                       sing\n",
    "                                                                                       \n",
    "                    Made by kamlesh kumar prajapat mo.9587439122\n",
    "                     programmer in python language\"\"\"\n",
    "print(x)"
   ]
  },
  {
   "cell_type": "code",
   "execution_count": 29,
   "metadata": {},
   "outputs": [
    {
     "name": "stdout",
     "output_type": "stream",
     "text": [
      "i am kamlesh kumar prjapat \n"
     ]
    }
   ],
   "source": [
    "# lower function in prgram.\n",
    "a = 'I AM KAMLESH KUMAR PRJAPAT '\n",
    "print(a.lower())"
   ]
  },
  {
   "cell_type": "code",
   "execution_count": 31,
   "metadata": {},
   "outputs": [
    {
     "name": "stdout",
     "output_type": "stream",
     "text": [
      "I AM KAMLESH KUMAR PRAJAPAT\n"
     ]
    }
   ],
   "source": [
    "#upper function in program.\n",
    "a = 'i am kamlesh kumar prajapat'\n",
    "print(a.upper())"
   ]
  },
  {
   "cell_type": "code",
   "execution_count": 35,
   "metadata": {},
   "outputs": [
    {
     "name": "stdout",
     "output_type": "stream",
     "text": [
      "my name is kamlesh kumar prajapat\n"
     ]
    }
   ],
   "source": [
    "#strip function in program.\n",
    "a=\"my name is kamlesh kumar prajapat\"\n",
    "print(a.strip())"
   ]
  },
  {
   "cell_type": "code",
   "execution_count": 37,
   "metadata": {},
   "outputs": [
    {
     "name": "stdout",
     "output_type": "stream",
     "text": [
      "i am kamlesh kumar prajapat\n"
     ]
    }
   ],
   "source": [
    "#lstrip in program.\n",
    "a='i am kamlesh '\n",
    "b='kumar prajapat'\n",
    "print(a.lstrip()+b)"
   ]
  },
  {
   "cell_type": "code",
   "execution_count": 60,
   "metadata": {},
   "outputs": [
    {
     "name": "stdout",
     "output_type": "stream",
     "text": [
      "good morning kamlesh,good morning prajapat ji\n"
     ]
    }
   ],
   "source": [
    "#Replace is work to replace in string.\n",
    "text= \"hello kamlesh,hello prajapat ji\"\n",
    "print(text.replace(\"hello\",\"good morning\"))\n"
   ]
  },
  {
   "cell_type": "code",
   "execution_count": 3,
   "metadata": {},
   "outputs": [
    {
     "name": "stdout",
     "output_type": "stream",
     "text": [
      "['', 'kamlesh ', 'kumar ', 'prajapat']\n"
     ]
    }
   ],
   "source": [
    "#split=remove the word in string.\n",
    "#use the split function.\n",
    "string='qkamlesh qkumar qprajapat'\n",
    "x=string.split(\"q\")\n",
    "print(x)"
   ]
  },
  {
   "cell_type": "code",
   "execution_count": 2,
   "metadata": {},
   "outputs": [
    {
     "data": {
      "text/plain": [
       "'Kamlesh kumar prajapat'"
      ]
     },
     "execution_count": 2,
     "metadata": {},
     "output_type": "execute_result"
    }
   ],
   "source": [
    "#use for capitalize\n",
    "a=\"kamlesh kumar prajapat\"\n",
    "a.capitalize()"
   ]
  },
  {
   "cell_type": "code",
   "execution_count": 12,
   "metadata": {},
   "outputs": [
    {
     "name": "stdout",
     "output_type": "stream",
     "text": [
      "enter your age:35\n",
      "enter your age:65\n",
      "my age is -30\n",
      "my age is 100\n"
     ]
    }
   ],
   "source": [
    "# string formating \n",
    "a=int(input(\"enter your age:\"))\n",
    "b=int(input(\"enter your age:\"))\n",
    "print(\"my age is\",a-b)\n",
    "print(\"my age is\",a+b)"
   ]
  },
  {
   "cell_type": "code",
   "execution_count": 40,
   "metadata": {},
   "outputs": [
    {
     "name": "stdout",
     "output_type": "stream",
     "text": [
      "this artical is  writen by kamleshkumar\n"
     ]
    }
   ],
   "source": [
    "# x Format string\n",
    "x = \"this artical {0}  writen by {1}{2}\"\n",
    "print(x.format(\"is\",\"kamlesh\",\"kumar\"))"
   ]
  },
  {
   "cell_type": "code",
   "execution_count": 50,
   "metadata": {},
   "outputs": [
    {
     "name": "stdout",
     "output_type": "stream",
     "text": [
      "hii welcome to 'india' thanks\n",
      "hii {'welcome to'} {\"'india'\"} thanks\n"
     ]
    }
   ],
   "source": [
    "a=\"welcome to\"\n",
    "b=\"'india'\"\n",
    "print(\"hii\",a,b,\"thanks\")\n",
    "print(F\"hii\", {a},{b},\"thanks\")"
   ]
  },
  {
   "cell_type": "code",
   "execution_count": 56,
   "metadata": {},
   "outputs": [
    {
     "name": "stdout",
     "output_type": "stream",
     "text": [
      "codeasession is live instagram and facebook \n"
     ]
    }
   ],
   "source": [
    "#f.formating\n",
    "print(\"codeasession is live {0} {1} {2} \".format(\"instagram\",\"and\",\"facebook\",))"
   ]
  },
  {
   "cell_type": "code",
   "execution_count": 85,
   "metadata": {},
   "outputs": [
    {
     "name": "stdout",
     "output_type": "stream",
     "text": [
      "i`m kamlesh kumar form jaipur rajasthan\n",
      "i`m kamlesh live in facebook instagram toady 5pm.\n",
      "hii i`m kamlesh\n"
     ]
    }
   ],
   "source": [
    "a = 'kamlesh'\n",
    "print(\"i`m %s %s form jaipur rajasthan\"%(\"kamlesh\",\"kumar\"))\n",
    "print(\"i`m %s live in %s toady 5pm.\"%(\"kamlesh\",\"facebook instagram\"))\n",
    "print(\"hii i`m\",a)"
   ]
  },
  {
   "cell_type": "code",
   "execution_count": 2,
   "metadata": {},
   "outputs": [
    {
     "name": "stdout",
     "output_type": "stream",
     "text": [
      "enter you no:65\n",
      "i`m wrote 65 programe today.\n",
      "i`m wrote 585.000000 programe today .\n",
      "i`m wrote 25.000000 programe today.\n"
     ]
    }
   ],
   "source": [
    "a=int(input('enter you no:'))\n",
    "print(\"i`m wrote %i programe today.\"%a)\n",
    "print(\"i`m wrote %f programe today .\"%585)\n",
    "print(\"i`m wrote %5f programe today.\"%25)"
   ]
  },
  {
   "cell_type": "code",
   "execution_count": 6,
   "metadata": {},
   "outputs": [
    {
     "name": "stdout",
     "output_type": "stream",
     "text": [
      "45\n",
      "20\n",
      "2\n",
      "<class 'int'> \n",
      " <class 'int'> \n",
      " <class 'int'>\n"
     ]
    }
   ],
   "source": [
    "# casting = change formate  use for casting\n",
    "# integer casting\n",
    "x=int(45)\n",
    "y=int(20.5)\n",
    "z=int(\"2\")\n",
    "print(x)\n",
    "print(y)\n",
    "print(z)\n",
    "print(type(z),'\\n',type(y),'\\n',type(y))"
   ]
  },
  {
   "cell_type": "code",
   "execution_count": 1,
   "metadata": {},
   "outputs": [
    {
     "name": "stdout",
     "output_type": "stream",
     "text": [
      "1.0 \n",
      " 552120.0 \n",
      " 254.0\n",
      "<class 'float'> \n",
      " <class 'float'> \n",
      " <class 'float'>\n"
     ]
    }
   ],
   "source": [
    "# float casting \n",
    "x=float(1)\n",
    "y=float(552120.)\n",
    "z=float(\"254\")\n",
    "print(x,'\\n',y,'\\n',z)\n",
    "print(type(x),'\\n',type(y),'\\n',type(z))"
   ]
  },
  {
   "cell_type": "code",
   "execution_count": 2,
   "metadata": {},
   "outputs": [
    {
     "name": "stdout",
     "output_type": "stream",
     "text": [
      "11\n"
     ]
    }
   ],
   "source": [
    "x=10\n",
    "x +=1\n",
    "print(x)"
   ]
  },
  {
   "cell_type": "code",
   "execution_count": 4,
   "metadata": {},
   "outputs": [
    {
     "name": "stdout",
     "output_type": "stream",
     "text": [
      "Please enter the first number: 65\n",
      "Please enter the second number: 35\n",
      "addition 100\n",
      "subtraction 30\n",
      "multiplacation 2275\n",
      "devision 1.8571428571428572\n",
      "floor devision 1\n",
      "Exponentiation 2831180005211263819872914124137259968431317247450351715087890625\n",
      "modual 30\n"
     ]
    }
   ],
   "source": [
    "#operator\n",
    "# Airthmatic operator\n",
    "'''\n",
    "+     addition        x+y\n",
    "-     subtraction     x-y\n",
    "*     multiplication  x*y\n",
    "/     division        x/y\n",
    "**    Exponentiation  x**y\n",
    "//    floor devision  x//y\n",
    "%     modul           x%y\n",
    "'''\n",
    "\n",
    "number_1 = int(input('Please enter the first number: '))\n",
    "number_2 = int(input('Please enter the second number: '))\n",
    "a=number_1\n",
    "b=number_2\n",
    "c=a+b\n",
    "d=a-b\n",
    "e=a*b\n",
    "f=a/b\n",
    "g=a//b\n",
    "h=a**b\n",
    "i=a%b\n",
    "print(F\"addition {c}\")\n",
    "print(f\"subtraction {d}\")\n",
    "print(f\"multiplacation {e}\")\n",
    "print(f\"devision {f}\")\n",
    "print(f\"floor devision {g}\")\n",
    "print(f\"Exponentiation {h}\")\n",
    "print(f\"modual {i}\")"
   ]
  },
  {
   "cell_type": "code",
   "execution_count": 13,
   "metadata": {},
   "outputs": [
    {
     "name": "stdout",
     "output_type": "stream",
     "text": [
      "kamlesh 544\n"
     ]
    }
   ],
   "source": [
    "# Assignment operator\n",
    "''' 1.       =       x = 5       x = 5\n",
    "    2.      +=      x += 5      x = x + 5\n",
    "    3.      -=      x -= 3      x = x - 3\n",
    "    4.      *=      x *= 3      x = x * 3\n",
    "    5.      /=      x /= 3      x = x / 3\n",
    "    6.      %=      x %= 3      x = x % 3\n",
    "    7.      //=     x //= 3     x = x // 3\n",
    "    8.      **=     x **= 3     x = x ** 3\n",
    "'''\n",
    "a=\"kamlesh\"\n",
    "b=544\n",
    "print(a,b)"
   ]
  },
  {
   "cell_type": "code",
   "execution_count": 51,
   "metadata": {},
   "outputs": [
    {
     "name": "stdout",
     "output_type": "stream",
     "text": [
      "50\n"
     ]
    }
   ],
   "source": [
    "x=5\n",
    "y=45\n",
    "x += y\n",
    "print(x)"
   ]
  },
  {
   "cell_type": "code",
   "execution_count": 53,
   "metadata": {},
   "outputs": [
    {
     "name": "stdout",
     "output_type": "stream",
     "text": [
      "True\n"
     ]
    }
   ],
   "source": [
    "# comparision operator\n",
    "'''==   \tEqual                       \tx == y\n",
    "\n",
    "   !=   \tNot equal                   \tx != y\n",
    "   \n",
    "   >    \tGreater than                \tx > y\n",
    "   \n",
    "   <    \tLess than                   \tx < y\n",
    "   \n",
    "   >=   \tGreater than or equal to    \tx >= y\n",
    "   \n",
    "   <=   \tLess than or equal to       \tx <= y\n",
    "    '''\n",
    "# equal\n",
    "a=5\n",
    "b=5\n",
    "print(a==b)"
   ]
  },
  {
   "cell_type": "code",
   "execution_count": 58,
   "metadata": {},
   "outputs": [
    {
     "name": "stdout",
     "output_type": "stream",
     "text": [
      "False\n"
     ]
    }
   ],
   "source": [
    "# not equal\n",
    "a=5\n",
    "b=5\n",
    "print(a!=b)"
   ]
  },
  {
   "cell_type": "code",
   "execution_count": 61,
   "metadata": {},
   "outputs": [
    {
     "name": "stdout",
     "output_type": "stream",
     "text": [
      "True\n"
     ]
    }
   ],
   "source": [
    "# equal less than\n",
    "a=10\n",
    "b=10\n",
    "print(a<=b)"
   ]
  },
  {
   "cell_type": "code",
   "execution_count": 64,
   "metadata": {},
   "outputs": [
    {
     "name": "stdout",
     "output_type": "stream",
     "text": [
      "False\n"
     ]
    }
   ],
   "source": [
    "# equal grater than\n",
    "a=2\n",
    "b=5\n",
    "print(a>=b)"
   ]
  },
  {
   "cell_type": "code",
   "execution_count": null,
   "metadata": {},
   "outputs": [],
   "source": []
  },
  {
   "cell_type": "code",
   "execution_count": 26,
   "metadata": {},
   "outputs": [
    {
     "name": "stdout",
     "output_type": "stream",
     "text": [
      "True\n"
     ]
    }
   ],
   "source": [
    "# logical operator [and,or,not]\n",
    "# And\n",
    "a=10\n",
    "b=21\n",
    "c=35\n",
    "print(a<b and a<c)"
   ]
  },
  {
   "cell_type": "code",
   "execution_count": 36,
   "metadata": {},
   "outputs": [
    {
     "name": "stdout",
     "output_type": "stream",
     "text": [
      "True\n"
     ]
    }
   ],
   "source": [
    "# Or\n",
    "a=52\n",
    "b=25\n",
    "c=45\n",
    "print(a<b or a>c)"
   ]
  },
  {
   "cell_type": "code",
   "execution_count": 65,
   "metadata": {},
   "outputs": [
    {
     "name": "stdout",
     "output_type": "stream",
     "text": [
      "True\n"
     ]
    }
   ],
   "source": [
    "# Not\n",
    "a=5\n",
    "b=7\n",
    "c=21\n",
    "print( not a>b )"
   ]
  },
  {
   "cell_type": "code",
   "execution_count": 76,
   "metadata": {},
   "outputs": [
    {
     "name": "stdout",
     "output_type": "stream",
     "text": [
      "140053187433728\n",
      "140053119479472\n",
      "False\n"
     ]
    }
   ],
   "source": [
    "# identity operator \n",
    "# thay are two type\n",
    "# 1=is and 2=is not\n",
    "a='kamlesh'\n",
    "b='kamlesh kumar' \n",
    "print(id (a))\n",
    "print(id (b))\n",
    "print(a is b)"
   ]
  },
  {
   "cell_type": "code",
   "execution_count": 1,
   "metadata": {},
   "outputs": [
    {
     "name": "stdout",
     "output_type": "stream",
     "text": [
      "94637468239648\n",
      "94637468239648\n",
      "False\n"
     ]
    }
   ],
   "source": [
    "a=25\n",
    "b=25\n",
    "print(id(a))\n",
    "print(id(a))\n",
    "print(a is not  b)"
   ]
  },
  {
   "cell_type": "code",
   "execution_count": 6,
   "metadata": {},
   "outputs": [
    {
     "name": "stdout",
     "output_type": "stream",
     "text": [
      "True\n",
      "\n",
      "\n"
     ]
    }
   ],
   "source": [
    "# member function\n",
    "l = [1, 2, 3, 4]  \n",
    "e = 5\n",
    "print(e  not in l)\n",
    "print('\\n')\n"
   ]
  },
  {
   "cell_type": "code",
   "execution_count": 3,
   "metadata": {},
   "outputs": [
    {
     "name": "stdout",
     "output_type": "stream",
     "text": [
      "True\n"
     ]
    }
   ],
   "source": [
    "k='kamlesh'\n",
    "p='ka'\n",
    "print(p in k )"
   ]
  },
  {
   "cell_type": "code",
   "execution_count": 25,
   "metadata": {},
   "outputs": [
    {
     "name": "stdout",
     "output_type": "stream",
     "text": [
      "(['apple', 'book', 'iam', 12, 12, 58], ('kamlesh', 'kumar', 'prajapat'), {'brand': 'car', 'class': 6}, {1, 2, 3, 5, 6, 'kamlesh'})\n",
      "element at position : prajapat\n",
      "140233638914952\n",
      "{'brand': 'car', 'class': 6}\n"
     ]
    }
   ],
   "source": [
    "# collection data type\n",
    "this_list =[\"apple\",\"book\",\"iam\",12,12,58],(\"kamlesh\",\"kumar\",\"prajapat\"),{'brand':'car',\"class\":6},{\"kamlesh\",5,5,1,2,5,3,6,5,3}\n",
    "print(this_list)\n",
    "#print(this_list [0][4])\n",
    "#print(this_list[-1]['class'])\n",
    "# print(this_list[2])\n",
    "# print(this_list[-1])\n",
    "# Accessing an element\n",
    "print('element at position :',this_list[1][2])\n",
    "# print('before:',this_list)\n",
    "# this_list[3] = \"bhudla\"\n",
    "# print('after:',this_list)\n",
    "print(id (this_list))\n",
    "# Geeting a sub list\n",
    "print(this_list[2])\n",
    "\n"
   ]
  },
  {
   "cell_type": "code",
   "execution_count": 4,
   "metadata": {},
   "outputs": [
    {
     "name": "stdout",
     "output_type": "stream",
     "text": [
      "['kamlesh', 25.02, 52, 'kumar', 'kumar', 'prajapat']\n",
      "m\n",
      "p\n",
      "<class 'list'>\n",
      "140663490543944\n",
      "before: ['kamlesh', 25.02, 52, 'kumar', 'kumar', 'prajapat']\n",
      "after: ['bhudla', 25.02, 52, 'kumar', 'kumar', 'prajapat']\n",
      "52\n",
      "6\n",
      "['bhudla', 52, 'kumar']\n",
      "[25.02]\n"
     ]
    }
   ],
   "source": [
    "# list data type\n",
    "k=[\"kamlesh\",25.02,52,'kumar','kumar','prajapat',]\n",
    "print(k)\n",
    "print(k [3][2])\n",
    "print(k[-1] [5])\n",
    "print(type(k))\n",
    "print(id(k))\n",
    "print('before:',k)\n",
    "k[0]=\"bhudla\"\n",
    "print('after:',k)\n",
    "print(k [2])\n",
    "# sublist\n",
    "print(len(k))\n",
    "print(k[0:6:2])\n",
    "print(k[1:2:1])"
   ]
  },
  {
   "cell_type": "code",
   "execution_count": 20,
   "metadata": {},
   "outputs": [
    {
     "name": "stdout",
     "output_type": "stream",
     "text": [
      "('kamlesh', 4, 2, 6, 6, 'bhudla', 32.32)\n",
      "7\n",
      "140663490571384\n",
      "32.32\n",
      "<class 'tuple'>\n"
     ]
    }
   ],
   "source": [
    "# tuple data type\n",
    "k=(\"kamlesh\",4,2,6,6,'bhudla',32.32 )\n",
    "print(k)\n",
    "print(len(k))\n",
    "print(id(k))\n",
    "# k[3]=\"kumar\"\n",
    "# print('after=',k)\n",
    "print(k[-1])\n",
    "print(type(k))"
   ]
  },
  {
   "cell_type": "code",
   "execution_count": 36,
   "metadata": {},
   "outputs": [
    {
     "name": "stdout",
     "output_type": "stream",
     "text": [
      "{'kumar', 'kamlesh', 45, 25}\n",
      "<class 'set'>\n",
      "before: {'kumar', 'kamlesh', 45, 25}\n"
     ]
    },
    {
     "ename": "TypeError",
     "evalue": "'set' object does not support item assignment",
     "output_type": "error",
     "traceback": [
      "\u001b[0;31m---------------------------------------------------------------------------\u001b[0m",
      "\u001b[0;31mTypeError\u001b[0m                                 Traceback (most recent call last)",
      "\u001b[0;32m<ipython-input-36-f4e1db269a31>\u001b[0m in \u001b[0;36m<module>\u001b[0;34m\u001b[0m\n\u001b[1;32m      4\u001b[0m \u001b[0mprint\u001b[0m\u001b[0;34m(\u001b[0m\u001b[0mtype\u001b[0m\u001b[0;34m(\u001b[0m\u001b[0mk\u001b[0m\u001b[0;34m)\u001b[0m\u001b[0;34m)\u001b[0m\u001b[0;34m\u001b[0m\u001b[0;34m\u001b[0m\u001b[0m\n\u001b[1;32m      5\u001b[0m \u001b[0mprint\u001b[0m\u001b[0;34m(\u001b[0m\u001b[0;34m'before:'\u001b[0m\u001b[0;34m,\u001b[0m\u001b[0mk\u001b[0m\u001b[0;34m)\u001b[0m\u001b[0;34m\u001b[0m\u001b[0;34m\u001b[0m\u001b[0m\n\u001b[0;32m----> 6\u001b[0;31m \u001b[0mk\u001b[0m\u001b[0;34m[\u001b[0m\u001b[0;36m3\u001b[0m\u001b[0;34m]\u001b[0m\u001b[0;34m=\u001b[0m\u001b[0;34m\"prajapat\"\u001b[0m\u001b[0;34m\u001b[0m\u001b[0;34m\u001b[0m\u001b[0m\n\u001b[0m\u001b[1;32m      7\u001b[0m \u001b[0mprint\u001b[0m\u001b[0;34m(\u001b[0m\u001b[0;34m'after:'\u001b[0m\u001b[0;34m,\u001b[0m\u001b[0mk\u001b[0m\u001b[0;34m)\u001b[0m\u001b[0;34m\u001b[0m\u001b[0;34m\u001b[0m\u001b[0m\n",
      "\u001b[0;31mTypeError\u001b[0m: 'set' object does not support item assignment"
     ]
    }
   ],
   "source": [
    "# set data type\n",
    "k={\"kamlesh\",\"kumar\",45,45,25}\n",
    "print(k)\n",
    "print(type(k))\n",
    "print('before:',k)\n",
    "k[3]=\"prajapat\"\n",
    "print('after:',k)"
   ]
  },
  {
   "cell_type": "code",
   "execution_count": 30,
   "metadata": {},
   "outputs": [
    {
     "name": "stdout",
     "output_type": "stream",
     "text": [
      "{'car': 'honda', 'number': 25, 'name': 'kamlesh'}\n",
      "<class 'dict'>\n",
      "3\n"
     ]
    }
   ],
   "source": [
    "# dictionary data type\n",
    "k={'car':'honda','number':25,'name':'kamlesh','name':'kamlesh'}\n",
    "print(k)\n",
    "print(type(k))\n",
    "print(len(k))"
   ]
  },
  {
   "cell_type": "code",
   "execution_count": 15,
   "metadata": {},
   "outputs": [
    {
     "name": "stdout",
     "output_type": "stream",
     "text": [
      "3\n"
     ]
    }
   ],
   "source": [
    "# list method\n",
    "# len method\n",
    "name=[\"kamlesh\",\"kumar\",\"prajapat\"]\n",
    "print(len(name))"
   ]
  },
  {
   "cell_type": "code",
   "execution_count": 18,
   "metadata": {},
   "outputs": [
    {
     "name": "stdout",
     "output_type": "stream",
     "text": [
      "['kamlesh', 'kumar', 'prajapat']\n"
     ]
    }
   ],
   "source": [
    "# Add.item of the list -> ending position\n",
    "name=[\"kamlesh\",\"kumar\"]\n",
    "name.append('prajapat')\n",
    "print(name)"
   ]
  },
  {
   "cell_type": "code",
   "execution_count": 22,
   "metadata": {},
   "outputs": [
    {
     "name": "stdout",
     "output_type": "stream",
     "text": [
      "['kamlesh', 'kumar', 'prajapat', 'bhudla']\n"
     ]
    }
   ],
   "source": [
    "# TO add an item at the specified index use  the insert() method\n",
    "name=[\"kamlesh\",\"prajapat\",\"bhudla\"]\n",
    "name.insert(1,\"kumar\")\n",
    "print(name)"
   ]
  },
  {
   "cell_type": "code",
   "execution_count": 23,
   "metadata": {},
   "outputs": [
    {
     "name": "stdout",
     "output_type": "stream",
     "text": [
      "['kamlesh', 'kumar', 'prajapat']\n"
     ]
    }
   ],
   "source": [
    "# Remove item from a list\n",
    "name=[\"kamlesh\",\"kumar\",\"prajapat\",\"bhudla\"]\n",
    "name.remove(\"bhudla\")\n",
    "print(name)"
   ]
  },
  {
   "cell_type": "code",
   "execution_count": 45,
   "metadata": {},
   "outputs": [
    {
     "name": "stdout",
     "output_type": "stream",
     "text": [
      "[8, 6, 6, 5, 5, 4, 4, 2, 2]\n"
     ]
    }
   ],
   "source": [
    "num=[4,8,6,5,2,5,4,6,2]\n",
    "num.sort(reverse=True)\n",
    "# x=num[::-1]\n",
    "print(num)"
   ]
  },
  {
   "cell_type": "code",
   "execution_count": 29,
   "metadata": {},
   "outputs": [
    {
     "name": "stdout",
     "output_type": "stream",
     "text": [
      "['kamlesh', 'kumar', 'bhudla']\n"
     ]
    }
   ],
   "source": [
    "# pop()- remove the spicified index (or the last item if index is not specified)\n",
    "name=[\"kamlesh\",\"kumar\",\"prjapat\",\"bhudla\"]\n",
    "name.pop(2)\n",
    "print(name)"
   ]
  },
  {
   "cell_type": "code",
   "execution_count": 32,
   "metadata": {},
   "outputs": [
    {
     "name": "stdout",
     "output_type": "stream",
     "text": [
      "['kumar', 'prajapat', 'bhudla']\n"
     ]
    }
   ],
   "source": [
    "# the del keyword remove the spicified index\n",
    "name=[\"kamlesh\",\"kumar\",\"prajapat\",\"bhudla\"]\n",
    "del name[0]\n",
    "print(name)"
   ]
  },
  {
   "cell_type": "code",
   "execution_count": 37,
   "metadata": {},
   "outputs": [
    {
     "name": "stdout",
     "output_type": "stream",
     "text": [
      "[]\n"
     ]
    }
   ],
   "source": [
    "# the clear() method empties the list \n",
    "name=[\"kamlesh\",\"kumar\",\"prajapat\",\"bhudla\"]\n",
    "name.clear()\n",
    "print(name)"
   ]
  },
  {
   "cell_type": "code",
   "execution_count": 42,
   "metadata": {},
   "outputs": [
    {
     "name": "stdout",
     "output_type": "stream",
     "text": [
      "['kamlesh', 'kumar', 'prajapat', 'bhudla']\n",
      "['kamlesh', 'kumar', 'prajapat', 'bhudla']\n"
     ]
    }
   ],
   "source": [
    "# copy a list\n",
    "name=[\"kamlesh\",\"kumar\",\"prajapat\",\"bhudla\"]\n",
    "mylist = name.copy()\n",
    "print(mylist)\n",
    "print(name)"
   ]
  },
  {
   "cell_type": "code",
   "execution_count": 44,
   "metadata": {},
   "outputs": [
    {
     "name": "stdout",
     "output_type": "stream",
     "text": [
      "['kamlesh', 'kumar', 'prajpat', 'bhudla']\n"
     ]
    }
   ],
   "source": [
    "# another way to make a copy is to use the bulit in method list[]\n",
    "name=[\"kamlesh\",\"kumar\",\"prajpat\",\"bhudla\"]\n",
    "mylist=list(name)\n",
    "print(mylist)"
   ]
  },
  {
   "cell_type": "code",
   "execution_count": 37,
   "metadata": {},
   "outputs": [
    {
     "name": "stdout",
     "output_type": "stream",
     "text": [
      "2\n"
     ]
    }
   ],
   "source": [
    "# count method()\n",
    "name=[\"kamlesh\",\"kumar\",\"prajapat\",\"bhudla\",5487,2525,2525]\n",
    "x=name.count(2525)\n",
    "print(x)"
   ]
  },
  {
   "cell_type": "code",
   "execution_count": 24,
   "metadata": {},
   "outputs": [
    {
     "name": "stdout",
     "output_type": "stream",
     "text": [
      "4\n"
     ]
    }
   ],
   "source": [
    "# index method()\n",
    "name=[\"kamlesh\",\"kumar\",\"prajapat\",\"bhudla\",2,5,1.2,54,78]\n",
    "x=name.index(2)\n",
    "print(x)"
   ]
  },
  {
   "cell_type": "code",
   "execution_count": 27,
   "metadata": {},
   "outputs": [
    {
     "name": "stdout",
     "output_type": "stream",
     "text": [
      "['kamlesh', 'kumar', 'prajapat', 'bhudla', 9587439122, 9529320009, 9694553075]\n"
     ]
    }
   ],
   "source": [
    "# extend()-add element of one list to another\n",
    "name=[\"kamlesh\",\"kumar\",\"prajapat\",\"bhudla\"]\n",
    "number=[9587439122,9529320009,9694553075]\n",
    "name.extend(number)\n",
    "print(name)"
   ]
  },
  {
   "cell_type": "code",
   "execution_count": 15,
   "metadata": {},
   "outputs": [
    {
     "name": "stdout",
     "output_type": "stream",
     "text": [
      "['kumar', 'kamlesh', 'g', 'f', 'a', 'b', 'c', 'd']\n"
     ]
    }
   ],
   "source": [
    "# reverse()-reverse the element in list\n",
    "name=['d','c','b','a','f','g',\"kamlesh\",\"kumar\"]\n",
    "# name.reverse()\n",
    "# print(name)\n",
    "list_1=name[::-1]\n",
    "print(list_1)"
   ]
  },
  {
   "cell_type": "code",
   "execution_count": 21,
   "metadata": {},
   "outputs": [
    {
     "name": "stdout",
     "output_type": "stream",
     "text": [
      "['bhudla', 'kamlesh', 'kumar', 'prajapat']\n",
      "['prajapat', 'kumar', 'kamlesh', 'bhudla']\n"
     ]
    }
   ],
   "source": [
    "# sort()-sorts the element in list\n",
    "name=[\"kamlesh\",\"kumar\",\"prajapat\",'bhudla']\n",
    "name.sort()\n",
    "print(name)\n",
    "k=name[::-1]\n",
    "print(k)"
   ]
  },
  {
   "cell_type": "code",
   "execution_count": 39,
   "metadata": {},
   "outputs": [
    {
     "name": "stdout",
     "output_type": "stream",
     "text": [
      "('kamlesh', 'kumar', 'prajapat')\n",
      "<class 'tuple'>\n",
      "3\n",
      "kamlesh\n",
      "('prajapat', 'kumar', 'kamlesh')\n",
      "('kamlesh', 'kumar', 'prajapat')\n"
     ]
    }
   ],
   "source": [
    "# tuple- tuple is a collection data type and represent in ().this is oraderd,indexed and unchangeable ,allow duplicate members.\n",
    "k=(\"kamlesh\",\"kumar\",\"prajapat\")\n",
    "print(k)\n",
    "print(type(k))\n",
    "print(len(k))\n",
    "print(k[0])\n",
    "print(k[::-1])\n",
    "print(k[::1])"
   ]
  },
  {
   "cell_type": "code",
   "execution_count": 41,
   "metadata": {},
   "outputs": [
    {
     "name": "stdout",
     "output_type": "stream",
     "text": [
      "3\n"
     ]
    }
   ],
   "source": [
    "# tuple method - tuple data type in for method\n",
    "# 1.len method()- print the number of item in the value\n",
    "name=(\"kamlesh\",\"kumar\",\"prajapat\")\n",
    "print(len(name))"
   ]
  },
  {
   "cell_type": "code",
   "execution_count": 3,
   "metadata": {},
   "outputs": [
    {
     "name": "stdout",
     "output_type": "stream",
     "text": [
      "4\n"
     ]
    }
   ],
   "source": [
    "# count method()-returen the number of occurences of value\n",
    "name=(\"kamlesh\",\"kumar\",\"prjajpat\",264,68,35,35,4,35,8,7,25,2,4,3,6,66,35,9,5,95)\n",
    "x=name.count(35)\n",
    "print(x)"
   ]
  },
  {
   "cell_type": "code",
   "execution_count": 1,
   "metadata": {},
   "outputs": [
    {
     "name": "stdout",
     "output_type": "stream",
     "text": [
      "4\n"
     ]
    }
   ],
   "source": [
    "# index - Retrun frist index a value.\n",
    "name=(2,5,1.2,54,78)\n",
    "x = name.index(78)\n",
    "print(x)"
   ]
  },
  {
   "cell_type": "code",
   "execution_count": 1,
   "metadata": {},
   "outputs": [
    {
     "ename": "SyntaxError",
     "evalue": "can't delete function call (<ipython-input-1-3cf990c57207>, line 3)",
     "output_type": "error",
     "traceback": [
      "\u001b[0;36m  File \u001b[0;32m\"<ipython-input-1-3cf990c57207>\"\u001b[0;36m, line \u001b[0;32m3\u001b[0m\n\u001b[0;31m    del name()\u001b[0m\n\u001b[0m       ^\u001b[0m\n\u001b[0;31mSyntaxError\u001b[0m\u001b[0;31m:\u001b[0m can't delete function call\n"
     ]
    }
   ],
   "source": [
    "# del-The del keyword can delete the compilet\n",
    "name = (\"kamlesh\",\"kumar\",\"prajapat\",\"prajapat\")\n",
    "del name()\n",
    "print(name)"
   ]
  },
  {
   "cell_type": "code",
   "execution_count": 1,
   "metadata": {},
   "outputs": [
    {
     "name": "stdout",
     "output_type": "stream",
     "text": [
      "('h', 'e', 'l', 'l', 'o', ' ', 'w', 'e', 'l', 'c', 'o', 'm', 'e', ' ', 't', 'o', ' ', 'c', 'o', 'd', 'e', 's', 'e', 's', 's', 'i', 'o', 'n', ' ', 'a', 'c', 'd', 'a', 'm', 'y')\n"
     ]
    }
   ],
   "source": [
    "string=\"hello welcome to codesession acdamy\"\n",
    "print(tuple(string))"
   ]
  },
  {
   "cell_type": "code",
   "execution_count": 3,
   "metadata": {},
   "outputs": [
    {
     "name": "stdout",
     "output_type": "stream",
     "text": [
      "enter your number36\n",
      "enter your second number36\n",
      "106387358923716524807713475752456393740167855629859291136\n"
     ]
    }
   ],
   "source": [
    "a=int(input('enter your number'))\n",
    "b=int(input (\"enter your second number\"))\n",
    "c=a**b\n",
    "print(c)"
   ]
  },
  {
   "cell_type": "code",
   "execution_count": 6,
   "metadata": {},
   "outputs": [
    {
     "name": "stdout",
     "output_type": "stream",
     "text": [
      "<class 'set'>\n",
      "{'kumar', 'kamlesh', 'codesession'}\n"
     ]
    }
   ],
   "source": [
    "# set data type\n",
    "this_set={\"kamlesh\",\"kumar\",\"codesession\"}\n",
    "print(type(this_set))\n",
    "print(this_set)"
   ]
  },
  {
   "cell_type": "code",
   "execution_count": 8,
   "metadata": {},
   "outputs": [
    {
     "name": "stdout",
     "output_type": "stream",
     "text": [
      "{'shyam', 'ram', 'krishna', 'radha'}\n"
     ]
    }
   ],
   "source": [
    "# set data type method\n",
    "# add.\n",
    "name={\"ram\",\"shyam\",\"radha\"}\n",
    "name.add(\"krishna\")\n",
    "print(name)"
   ]
  },
  {
   "cell_type": "code",
   "execution_count": 17,
   "metadata": {},
   "outputs": [
    {
     "name": "stdout",
     "output_type": "stream",
     "text": [
      "{43, 'krishna', 'ram', 'kamlesh', 22, 'radha', 87, 'shyam', 91, 95}\n"
     ]
    }
   ],
   "source": [
    "name={\"ram\",\"shyam\",\"krishna\",\"radha\"}\n",
    "num={ \"kamlesh\",95,87,43,91,22}\n",
    "name.update(num)\n",
    "print(name)"
   ]
  },
  {
   "cell_type": "code",
   "execution_count": 54,
   "metadata": {},
   "outputs": [
    {
     "name": "stdout",
     "output_type": "stream",
     "text": [
      "{'radhe radhe', 9587439122, 'shyam'}\n"
     ]
    }
   ],
   "source": [
    "# remove and discard ()-remove an item in a set use the remove or the discard\n",
    "name={'kamlesh',\"radhe radhe\",'shyam',9587439122}\n",
    "# name.remove(\"\")\n",
    "name.discard('kamlesh')\n",
    "print(name)"
   ]
  },
  {
   "cell_type": "code",
   "execution_count": 33,
   "metadata": {},
   "outputs": [
    {
     "name": "stdout",
     "output_type": "stream",
     "text": [
      "{3, 36, 10, 45, 14, 15, 18, 'kamlesh', 25}\n"
     ]
    }
   ],
   "source": [
    "# difference()-remove all element of another set form this set\n",
    "set_1={1,2,3,4,\"kamlesh\",10,15,18,14,25,36,45,7,8}\n",
    "set_2={1,2,6,8,5,7,5,4,8}\n",
    "diff_set=set_1.difference (set_2)\n",
    "print(diff_set)"
   ]
  },
  {
   "cell_type": "code",
   "execution_count": 39,
   "metadata": {},
   "outputs": [
    {
     "name": "stdout",
     "output_type": "stream",
     "text": [
      "None \n",
      " {'kumar'} \n",
      " {1, 2, 4, 69, 5, 7, 6, 'kamlesh'}\n"
     ]
    }
   ],
   "source": [
    "# difference update ()-remove all element of anoher set form this set the difference_update return none indicating the object set is mutated\n",
    "set_1={\"kamlesh\",\"kumar\"}\n",
    "set_2={2,1,4,5,2,5,69,7,6,\"kamlesh\"}\n",
    "result=set_1.difference_update(set_2)\n",
    "print(result,'\\n',set_1,'\\n',set_2 )"
   ]
  },
  {
   "cell_type": "code",
   "execution_count": 47,
   "metadata": {},
   "outputs": [
    {
     "name": "stdout",
     "output_type": "stream",
     "text": [
      "{'kamlesh', 'prajapat'}\n"
     ]
    }
   ],
   "source": [
    "name={\"kumar\",\"kamlesh\",\"prajapat\"}\n",
    "name.pop()\n",
    "print(name)"
   ]
  },
  {
   "cell_type": "code",
   "execution_count": 2,
   "metadata": {},
   "outputs": [
    {
     "name": "stdout",
     "output_type": "stream",
     "text": [
      "{8, 1, 2, 3}\n"
     ]
    }
   ],
   "source": [
    "#  intersection()rerturen the intereation of two sets as a new set\n",
    "name={1,2,3,8,4}\n",
    "num={1,2,3,8}\n",
    "x=name.intersection(num)\n",
    "print(x)\n"
   ]
  },
  {
   "cell_type": "code",
   "execution_count": 15,
   "metadata": {},
   "outputs": [
    {
     "name": "stdout",
     "output_type": "stream",
     "text": [
      "None\n"
     ]
    }
   ],
   "source": [
    "name={\"kamlesh kumar prajapat\"}\n",
    "car={\"maruti\",\"kumar\",\"kamlesh kumar prajapat\"}\n",
    "x=name.intersection_update(car)\n",
    "# x=name.intersection(car)\n",
    "print(x)"
   ]
  },
  {
   "cell_type": "code",
   "execution_count": 12,
   "metadata": {},
   "outputs": [
    {
     "name": "stdout",
     "output_type": "stream",
     "text": [
      "('k', 'a', 'm', 'l', 'e', 's', 'h', ' ', 'k', 'u', 'm', 'a', 'r', ' ', 'p', 'r', 'a', 'j', 'a', 'p', 'a', 't')\n",
      "['k', 'a', 'm', 'l', 'e', 's', 'h', ' ', 'k', 'u', 'm', 'a', 'r', ' ', 'p', 'r', 'a', 'j', 'a', 'p', 'a', 't']\n",
      "{'s', 'r', 'p', 'j', 'l', 't', 'a', ' ', 'k', 'u', 'h', 'm', 'e'}\n",
      "<class 'dict'>\n",
      "Dictionary afer conversion is : {1: 'kamlesh', 2: 'kumar', 3: 'prajapat'}\n"
     ]
    }
   ],
   "source": [
    "string=\"kamlesh kumar prajapat\"\n",
    "print(tuple(string))\n",
    "print(list(string))\n",
    "print(set(string))\n",
    "dic_1={1:'kamlesh',2:'kumar',3:'prajapat'}\n",
    "print(type(dic_1))\n",
    "print(\"Dictionary afer conversion is : \"+ str(dict(dic_1)) )"
   ]
  },
  {
   "cell_type": "code",
   "execution_count": 55,
   "metadata": {},
   "outputs": [
    {
     "name": "stdout",
     "output_type": "stream",
     "text": [
      "None\n"
     ]
    }
   ],
   "source": [
    "name={\"kamlesh\",'kumar'}\n",
    "x=name.clear()\n",
    "print(x)\n",
    "# print(name)"
   ]
  },
  {
   "cell_type": "code",
   "execution_count": 1,
   "metadata": {},
   "outputs": [
    {
     "name": "stdout",
     "output_type": "stream",
     "text": [
      "{2, 3, 4, 5, 6, 8, 9, 'kamlesh'}\n"
     ]
    }
   ],
   "source": [
    "name={'kamlesh',5,5,2,1,4,6,9,3,4,8,2}\n",
    "name.pop()\n",
    "print(name)"
   ]
  },
  {
   "cell_type": "code",
   "execution_count": 5,
   "metadata": {},
   "outputs": [
    {
     "name": "stdout",
     "output_type": "stream",
     "text": [
      "{'b', 'c', 'a', 'f', 'd'}\n"
     ]
    }
   ],
   "source": [
    "# union() returen the union of set as a new set.(i.e.all element that are in either set)\n",
    "set1={'a','b','c','d'}\n",
    "set2={'a','b','c','f'}\n",
    "union_set=set1.union(set2)\n",
    "print(union_set)"
   ]
  },
  {
   "cell_type": "code",
   "execution_count": 12,
   "metadata": {},
   "outputs": [
    {
     "name": "stdout",
     "output_type": "stream",
     "text": [
      "True\n",
      "False\n"
     ]
    }
   ],
   "source": [
    "# isdisjoint()-returen true if two set have and faluse.\n",
    "x={1,3,2,5,7,5}\n",
    "y={1,2,4,6,8,9,6,5}\n",
    "z={10,43,54,64,9}\n",
    "c=x.isdisjoint(y)\n",
    "d=x.isdisjoint(z)\n",
    "print(d)\n",
    "print(c)"
   ]
  },
  {
   "cell_type": "code",
   "execution_count": 20,
   "metadata": {},
   "outputs": [
    {
     "name": "stdout",
     "output_type": "stream",
     "text": [
      "True\n",
      "False\n"
     ]
    }
   ],
   "source": [
    "# issubset()-repport whether  another set contain this set\n",
    "a={1,2,3,4,5}\n",
    "b={1,2,3,4,}\n",
    "c={2,3,4,23,23}\n",
    "m=c.issubset(a)\n",
    "x=b.issubset(a)\n",
    "print(x)\n",
    "print(m)"
   ]
  },
  {
   "cell_type": "code",
   "execution_count": 30,
   "metadata": {},
   "outputs": [
    {
     "name": "stdout",
     "output_type": "stream",
     "text": [
      "True\n",
      "True\n"
     ]
    }
   ],
   "source": [
    "# issuperset()-report whether this set contain another set\n",
    "a={'a','f','g','e','q'}\n",
    "b={'a','e','q'}\n",
    "c={'a','f','e'}\n",
    "y=a.issuperset(c)\n",
    "x=a.issuperset(b)\n",
    "print(x)\n",
    "print(y)"
   ]
  },
  {
   "cell_type": "code",
   "execution_count": 34,
   "metadata": {},
   "outputs": [
    {
     "name": "stdout",
     "output_type": "stream",
     "text": [
      "2\n"
     ]
    }
   ],
   "source": [
    "# get the length method\n",
    "a={'kamlesh kumar prajpat','bhudla'}\n",
    "print(len(a))"
   ]
  },
  {
   "cell_type": "code",
   "execution_count": 36,
   "metadata": {},
   "outputs": [
    {
     "name": "stdout",
     "output_type": "stream",
     "text": [
      "set()\n"
     ]
    }
   ],
   "source": [
    "a={\"kamlesh kumar prajapat\"}\n",
    "a.clear()\n",
    "print(a)"
   ]
  },
  {
   "cell_type": "code",
   "execution_count": 39,
   "metadata": {},
   "outputs": [
    {
     "ename": "TypeError",
     "evalue": "'set' object is not subscriptable",
     "output_type": "error",
     "traceback": [
      "\u001b[0;31m---------------------------------------------------------------------------\u001b[0m",
      "\u001b[0;31mTypeError\u001b[0m                                 Traceback (most recent call last)",
      "\u001b[0;32m<ipython-input-39-e47fb9792eab>\u001b[0m in \u001b[0;36m<module>\u001b[0;34m\u001b[0m\n\u001b[1;32m      1\u001b[0m \u001b[0mset1\u001b[0m\u001b[0;34m=\u001b[0m\u001b[0;34m{\u001b[0m\u001b[0;36m1\u001b[0m\u001b[0;34m,\u001b[0m\u001b[0;36m2\u001b[0m\u001b[0;34m,\u001b[0m\u001b[0;36m4\u001b[0m\u001b[0;34m,\u001b[0m\u001b[0;36m5\u001b[0m\u001b[0;34m}\u001b[0m\u001b[0;34m\u001b[0m\u001b[0;34m\u001b[0m\u001b[0m\n\u001b[0;32m----> 2\u001b[0;31m \u001b[0mprint\u001b[0m\u001b[0;34m(\u001b[0m\u001b[0mset1\u001b[0m\u001b[0;34m[\u001b[0m\u001b[0;36m0\u001b[0m\u001b[0;34m]\u001b[0m\u001b[0;34m)\u001b[0m\u001b[0;34m\u001b[0m\u001b[0;34m\u001b[0m\u001b[0m\n\u001b[0m",
      "\u001b[0;31mTypeError\u001b[0m: 'set' object is not subscriptable"
     ]
    }
   ],
   "source": [
    "set1={1,2,4,5}\n",
    "print(set1[0])"
   ]
  },
  {
   "cell_type": "code",
   "execution_count": 6,
   "metadata": {},
   "outputs": [
    {
     "name": "stdout",
     "output_type": "stream",
     "text": [
      "name\n",
      "my\n",
      "is\n"
     ]
    }
   ],
   "source": [
    "# conditinal statement on set \n",
    "# help acess element\n",
    "x={'my','name','is'}\n",
    "for y in x:\n",
    "         print(y)"
   ]
  },
  {
   "cell_type": "code",
   "execution_count": 16,
   "metadata": {},
   "outputs": [
    {
     "name": "stdout",
     "output_type": "stream",
     "text": [
      "sorry this is not set1\n"
     ]
    }
   ],
   "source": [
    "# check if an item is present in the set\n",
    "set1={'kamlesh','kumar','prajapat'}\n",
    "if \"boss\" in set1:\n",
    "    print(\"yes kamlesh is in this set1\")\n",
    "else:\n",
    "            print(\"sorry this is not set1\")\n",
    "   "
   ]
  },
  {
   "cell_type": "code",
   "execution_count": 18,
   "metadata": {},
   "outputs": [
    {
     "name": "stdout",
     "output_type": "stream",
     "text": [
      "{'class': 1, 'brand': 'food', 'year': 2000}\n"
     ]
    }
   ],
   "source": [
    "# dictionary data type\n",
    "# creating a dictionary\n",
    "dict={'class':1,'brand':'food','year':2000}\n",
    "print(dict)"
   ]
  },
  {
   "cell_type": "code",
   "execution_count": 23,
   "metadata": {},
   "outputs": [
    {
     "name": "stdout",
     "output_type": "stream",
     "text": [
      "1\n"
     ]
    }
   ],
   "source": [
    "brand=dict['class']\n",
    "print(brand)"
   ]
  },
  {
   "cell_type": "code",
   "execution_count": 34,
   "metadata": {},
   "outputs": [
    {
     "name": "stdout",
     "output_type": "stream",
     "text": [
      "{'class': 12, 'brand': 'kamlesh', 'year': 2020}\n"
     ]
    }
   ],
   "source": [
    "# changing and adding a value in the dicitonary\n",
    "dict={'class':2,'brand':'food','year':2000}\n",
    "dict [\"year\"]=2020\n",
    "dict ['class']=12\n",
    "dict ['brand']='kamlesh'\n",
    "print(dict)"
   ]
  },
  {
   "cell_type": "code",
   "execution_count": 10,
   "metadata": {},
   "outputs": [
    {
     "name": "stdout",
     "output_type": "stream",
     "text": [
      "a\n",
      "b\n",
      "c\n",
      "brand\n"
     ]
    }
   ],
   "source": [
    "# dictionary method\n",
    "# get()-accessing an element\n",
    "dict_1={'a':1,'b':2,'c':3,'brand':'kamlesh boss'}\n",
    "# brand=dict.get(brand)\n",
    "# print(brand)\n",
    "for k in dict_1:\n",
    "    print(k)"
   ]
  },
  {
   "cell_type": "code",
   "execution_count": 2,
   "metadata": {},
   "outputs": [
    {
     "name": "stdout",
     "output_type": "stream",
     "text": [
      "{1: 'a', 2: 'b'}\n"
     ]
    }
   ],
   "source": [
    "# update()-add item of one dict into another\n",
    "dict1={1:'a'}\n",
    "dict2={2:'b'}\n",
    "dict1.update(dict2)\n",
    "print(dict1)\n"
   ]
  },
  {
   "cell_type": "code",
   "execution_count": 3,
   "metadata": {},
   "outputs": [
    {
     "name": "stdout",
     "output_type": "stream",
     "text": [
      "enter your no 2\n",
      "enter your second no2\n",
      "a is equal b\n"
     ]
    }
   ],
   "source": [
    "a=int(input(\"enter your no \"))\n",
    "b=int(input(\"enter your second no\"))\n",
    "if a<b:\n",
    "    print(\"hii\")\n",
    "elif a>b:\n",
    "    print(\"heloo\")\n",
    "else:\n",
    "    print(f\"a is equal b\")\n",
    "    "
   ]
  }
 ],
 "metadata": {
  "kernelspec": {
   "display_name": "Python 3",
   "language": "python",
   "name": "python3"
  },
  "language_info": {
   "codemirror_mode": {
    "name": "ipython",
    "version": 3
   },
   "file_extension": ".py",
   "mimetype": "text/x-python",
   "name": "python",
   "nbconvert_exporter": "python",
   "pygments_lexer": "ipython3",
   "version": "3.7.3"
  }
 },
 "nbformat": 4,
 "nbformat_minor": 2
}
