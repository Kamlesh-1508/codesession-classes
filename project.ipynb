{
 "cells": [
  {
   "cell_type": "code",
   "execution_count": 2,
   "metadata": {},
   "outputs": [
    {
     "name": "stdout",
     "output_type": "stream",
     "text": [
      "Hello every one \n"
     ]
    }
   ],
   "source": [
    "# python print function \n",
    "print(\"Hello every one \")"
   ]
  },
  {
   "cell_type": "code",
   "execution_count": 3,
   "metadata": {},
   "outputs": [
    {
     "name": "stdout",
     "output_type": "stream",
     "text": [
      "52 Good morning\n"
     ]
    }
   ],
   "source": [
    "# python variable :-variable are containe for storing data value.\n",
    "a=52\n",
    "b='Good morning'\n",
    "print(a,b)"
   ]
  },
  {
   "cell_type": "code",
   "execution_count": 6,
   "metadata": {},
   "outputs": [
    {
     "name": "stdout",
     "output_type": "stream",
     "text": [
      "Hii every one \n"
     ]
    }
   ],
   "source": [
    "# single line comment :- single line comment for use #tag in paython language \n",
    "print(\"Hii every one \")\n",
    "#print(\"How are you \")\n",
    "# print has single line comment "
   ]
  },
  {
   "cell_type": "code",
   "execution_count": 30,
   "metadata": {},
   "outputs": [
    {
     "name": "stdout",
     "output_type": "stream",
     "text": [
      "Good morning \n",
      " my name is kamlesh kumar prajapat\n"
     ]
    },
    {
     "data": {
      "text/plain": [
       "' kamlesh '"
      ]
     },
     "execution_count": 30,
     "metadata": {},
     "output_type": "execute_result"
    }
   ],
   "source": [
    "# multiline line :- multiline comment for use '''statement ''' in phython language\n",
    "print(\"Good morning \\n my name is kamlesh kumar prajapat\")\n",
    "''' kamlesh '''\n"
   ]
  }
 ],
 "metadata": {
  "kernelspec": {
   "display_name": "Python 3",
   "language": "python",
   "name": "python3"
  },
  "language_info": {
   "codemirror_mode": {
    "name": "ipython",
    "version": 3
   },
   "file_extension": ".py",
   "mimetype": "text/x-python",
   "name": "python",
   "nbconvert_exporter": "python",
   "pygments_lexer": "ipython3",
   "version": "3.7.3"
  }
 },
 "nbformat": 4,
 "nbformat_minor": 2
}
