{
 "cells": [
  {
   "cell_type": "code",
   "execution_count": 3,
   "metadata": {},
   "outputs": [
    {
     "name": "stdout",
     "output_type": "stream",
     "text": [
      "enter your frist no:5\n",
      "enter your second no:2\n",
      "7\n"
     ]
    }
   ],
   "source": [
    "num1 = int(input('enter your frist no:'))\n",
    "num2 = int(input('enter your second no:'))\n",
    "res = num1+num2\n",
    "print(res)"
   ]
  },
  {
   "cell_type": "code",
   "execution_count": 43,
   "metadata": {},
   "outputs": [
    {
     "name": "stdout",
     "output_type": "stream",
     "text": [
      "enter n : 5\n",
      "your no is  1\n",
      "your no is  2\n",
      "your no is  3\n",
      "your no is  4\n",
      "your no is  5\n"
     ]
    }
   ],
   "source": [
    "n = int(input('enter n : '))\n",
    "for i in range(1,n+1):\n",
    "    print(\"your no is \",i)"
   ]
  },
  {
   "cell_type": "code",
   "execution_count": 1,
   "metadata": {},
   "outputs": [
    {
     "name": "stdout",
     "output_type": "stream",
     "text": [
      "twinkle, twinkle, little star,\n",
      "\thow i wonder what you are!\n",
      "\t\tup above the world so high,\n",
      "\t\tlike a dimond in the sky,\n",
      "twinkle, twinkle, little star,\n",
      "\thow i wonder what you are\n"
     ]
    }
   ],
   "source": [
    "print(\"twinkle, twinkle, little star,\\n\\thow i wonder what you are!\\n\\t\\tup above the world so high,\\n\\t\\tlike a dimond in the sky,\\ntwinkle, twinkle, little star,\\n\\thow i wonder what you are\")"
   ]
  },
  {
   "cell_type": "code",
   "execution_count": 10,
   "metadata": {},
   "outputs": [
    {
     "name": "stdout",
     "output_type": "stream",
     "text": [
      "ram\n"
     ]
    }
   ],
   "source": [
    "x=8\n",
    "x='ram'\n",
    "print(x)"
   ]
  },
  {
   "cell_type": "code",
   "execution_count": 16,
   "metadata": {},
   "outputs": [
    {
     "name": "stdout",
     "output_type": "stream",
     "text": [
      "kamlesh\n",
      "kumar\n",
      "prajapat\n"
     ]
    }
   ],
   "source": [
    "b, d , a = \"kamlesh\", \"kumar\", \"prajapat\"\n",
    "print(b)\n",
    "print(d)\n",
    "print(a)"
   ]
  },
  {
   "cell_type": "code",
   "execution_count": 19,
   "metadata": {},
   "outputs": [
    {
     "name": "stdout",
     "output_type": "stream",
     "text": [
      "python\n",
      "python\n",
      "python\n"
     ]
    }
   ],
   "source": [
    "x = b = a = \"python\"\n",
    "print(x)\n",
    "print(b)\n",
    "print(a)"
   ]
  },
  {
   "cell_type": "code",
   "execution_count": 21,
   "metadata": {},
   "outputs": [
    {
     "name": "stdout",
     "output_type": "stream",
     "text": [
      "5\n"
     ]
    }
   ],
   "source": [
    "a=2\n",
    "b=3\n",
    "c=a+b\n",
    "print(c)"
   ]
  },
  {
   "cell_type": "code",
   "execution_count": 1,
   "metadata": {},
   "outputs": [
    {
     "name": "stdout",
     "output_type": "stream",
     "text": [
      "enter your numebr:56\n",
      "enter your secod number:26\n",
      "this no is : 82\n"
     ]
    }
   ],
   "source": [
    "x = int(input('enter your numebr:'))\n",
    "y =  int(input('enter your secod number:'))\n",
    "z = x+y\n",
    "print(\"this no is :\",z)\n"
   ]
  },
  {
   "cell_type": "code",
   "execution_count": 8,
   "metadata": {},
   "outputs": [
    {
     "name": "stdout",
     "output_type": "stream",
     "text": [
      "1505 1540 1575 1610 1645 1680 1715 1750 1785 1820 1855 1890 1925 1960 1995 2030 2065 2100 2135 2170 2205 2240 2275 2310 2345 2380 2415 2450 2485 2520 2555 2590 2625 2660 2695 "
     ]
    }
   ],
   "source": [
    "n=1500\n",
    "while n<2700:\n",
    "    if( n%7==0) and (n%5==0):\n",
    "        print(n,end=\" \")\n",
    "    n=n+1\n",
    "\n"
   ]
  },
  {
   "cell_type": "code",
   "execution_count": 51,
   "metadata": {},
   "outputs": [
    {
     "name": "stdout",
     "output_type": "stream",
     "text": [
      "1.0\n",
      "5.0\n",
      "1.2\n",
      "2.5\n"
     ]
    }
   ],
   "source": [
    "add=2\n",
    "m=[2,5,6,3]\n",
    "for i in m:\n",
    "    add=i/add\n",
    "    print(add)"
   ]
  },
  {
   "cell_type": "code",
   "execution_count": 67,
   "metadata": {},
   "outputs": [
    {
     "name": "stdout",
     "output_type": "stream",
     "text": [
      "85\n"
     ]
    }
   ],
   "source": [
    "a=[1,5,6,85,4]\n",
    "# for i in a:\n",
    "#     i<=a\n",
    "print(max(a))"
   ]
  },
  {
   "cell_type": "code",
   "execution_count": 78,
   "metadata": {},
   "outputs": [
    {
     "name": "stdout",
     "output_type": "stream",
     "text": [
      "error\n"
     ]
    }
   ],
   "source": [
    "mylist=[9826,54,6,89,21]\n",
    "biggest=mylist[0]\n",
    "for i in mylist:\n",
    "    if i>biggest:\n",
    "        biggest=i\n",
    "        print(biggest)\n",
    "else:\n",
    "            print(\"error\")"
   ]
  }
 ],
 "metadata": {
  "kernelspec": {
   "display_name": "Python 3",
   "language": "python",
   "name": "python3"
  },
  "language_info": {
   "codemirror_mode": {
    "name": "ipython",
    "version": 3
   },
   "file_extension": ".py",
   "mimetype": "text/x-python",
   "name": "python",
   "nbconvert_exporter": "python",
   "pygments_lexer": "ipython3",
   "version": "3.7.3"
  }
 },
 "nbformat": 4,
 "nbformat_minor": 2
}
