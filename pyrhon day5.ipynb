{
 "cells": [
  {
   "cell_type": "code",
   "execution_count": 2,
   "metadata": {},
   "outputs": [
    {
     "name": "stdout",
     "output_type": "stream",
     "text": [
      "enter your frist no :58\n",
      "enter your second no :65\n",
      "enter your third no :25\n",
      "this number is largest : 65\n"
     ]
    }
   ],
   "source": [
    "# conditional statement \n",
    "# '''Input three numbers from the user and print out the greatest number'''\n",
    "a=int(input('enter your frist no :' ))\n",
    "b=int(input(\"enter your second no :\"))\n",
    "c=int(input('enter your third no :'))\n",
    "if (a>=b) :\n",
    "    print(\"this number is largest :\",a)\n",
    "elif (b>=c):      \n",
    "    print(\"this number is largest :\",b)\n",
    "elif(c>=a):\n",
    "    print(\"the largest number is \",c)\n",
    "else: \n",
    "    print(\"inviled\")\n"
   ]
  },
  {
   "cell_type": "code",
   "execution_count": 3,
   "metadata": {},
   "outputs": [
    {
     "name": "stdout",
     "output_type": "stream",
     "text": [
      "sorry a is grather than b\n"
     ]
    }
   ],
   "source": [
    "a=1000\n",
    "b=502\n",
    "if a>b:\n",
    "    print('sorry a is grather than b')\n",
    "elif a<b:\n",
    "    print('soory a is less then b')\n",
    "elif(a==b):\n",
    "    print(\"a is equal b\")\n",
    "else:\n",
    "        print('error')\n",
    "    "
   ]
  },
  {
   "cell_type": "code",
   "execution_count": 4,
   "metadata": {},
   "outputs": [
    {
     "name": "stdout",
     "output_type": "stream",
     "text": [
      "enter your number:8\n",
      "enter your second number8\n",
      "a is equal b\n"
     ]
    }
   ],
   "source": [
    "a=int(input('enter your number:'))\n",
    "b=int(input('enter your second number'))\n",
    "if a>b:\n",
    "    print(f\" a is grater then b \")\n",
    "elif b>a:\n",
    "    print(f\" a is less than b \")\n",
    "elif a==b:\n",
    "    print(\"a is equal b\")\n",
    "else:\n",
    "        print(\"error\")"
   ]
  },
  {
   "cell_type": "code",
   "execution_count": 5,
   "metadata": {},
   "outputs": [
    {
     "name": "stdout",
     "output_type": "stream",
     "text": [
      "a is grater then b\n"
     ]
    }
   ],
   "source": [
    "a=100\n",
    "b=52\n",
    "if a>b:print(\"a is grater then b\")\n",
    "# elif b>a:print(\"a is less than b\")"
   ]
  },
  {
   "cell_type": "code",
   "execution_count": 6,
   "metadata": {},
   "outputs": [
    {
     "name": "stdout",
     "output_type": "stream",
     "text": [
      "B\n"
     ]
    }
   ],
   "source": [
    "a=10\n",
    "b=52\n",
    "print(\"A\") if a > b else print(\"B\") "
   ]
  },
  {
   "cell_type": "code",
   "execution_count": 7,
   "metadata": {},
   "outputs": [
    {
     "name": "stdout",
     "output_type": "stream",
     "text": [
      "B\n"
     ]
    }
   ],
   "source": [
    "a=45\n",
    "b=10\n",
    "print(\"A\")if a<b else print(\"kamlesh\") if a==b  else print(\"B\")\n",
    "# print(\"A\") if a > b else print(\"=\") if a == b else print(\"B\") "
   ]
  },
  {
   "cell_type": "code",
   "execution_count": 8,
   "metadata": {},
   "outputs": [
    {
     "name": "stdout",
     "output_type": "stream",
     "text": [
      "enter your no:55\n",
      "enter secomd no :83\n",
      "A\n"
     ]
    }
   ],
   "source": [
    "a=int(input(\"enter your no:\"))\n",
    "b=int(input(\"enter secomd no :\"))\n",
    "print(\"A\")if a<b else print(\"B\")if a>b else print(\"A is equal B\")if a==b else (\"error\")"
   ]
  },
  {
   "cell_type": "code",
   "execution_count": 9,
   "metadata": {},
   "outputs": [
    {
     "name": "stdout",
     "output_type": "stream",
     "text": [
      "enter your frist no:56\n",
      "enter your second  no:5\n",
      "enter your third  no:58\n",
      "sorry this  is no true\n"
     ]
    }
   ],
   "source": [
    "a=int(input(\"enter your frist no:\"))\n",
    "b=int(input(\"enter your second  no:\"))\n",
    "c=int(input(\"enter your third  no:\"))\n",
    "if a<b and c>a:\n",
    "    print(\"both are true \")\n",
    "else:\n",
    "        print(\"sorry this  is no true\")"
   ]
  },
  {
   "cell_type": "code",
   "execution_count": 10,
   "metadata": {},
   "outputs": [
    {
     "name": "stdout",
     "output_type": "stream",
     "text": [
      "enter your frist no:8\n",
      "enter your second no:5\n",
      "enter your third no:8\n",
      "this is not true\n"
     ]
    }
   ],
   "source": [
    "a=int(input(\"enter your frist no:\"))\n",
    "b=int(input(\"enter your second no:\"))\n",
    "c=int(input(\"enter your third no:\"))\n",
    "if a<=b or c>a:\n",
    "    print(\"this is true\")\n",
    "else:\n",
    "    print(\"this is not true\")"
   ]
  },
  {
   "cell_type": "code",
   "execution_count": 11,
   "metadata": {},
   "outputs": [
    {
     "name": "stdout",
     "output_type": "stream",
     "text": [
      "0 1 2 3 4 5 6 7 8 9 10 "
     ]
    }
   ],
   "source": [
    "i = 0\n",
    "while(i<=10):\n",
    "    print(i,end =' ')\n",
    "    i +=1"
   ]
  },
  {
   "cell_type": "code",
   "execution_count": 9,
   "metadata": {},
   "outputs": [
    {
     "name": "stdout",
     "output_type": "stream",
     "text": [
      "enter your numbre50\n",
      "50 48 46 44 42 40 38 36 34 32 30 28 26 24 22 20 18 16 14 12 10 8 6 4 2 0 "
     ]
    }
   ],
   "source": [
    "n=int(input('enter your numbre'))\n",
    "# n=100\n",
    "while(n>=0):\n",
    "    if n % 2 ==  0:\n",
    "              print(n,end=' ')\n",
    "    n-=1"
   ]
  },
  {
   "cell_type": "code",
   "execution_count": 5,
   "metadata": {},
   "outputs": [
    {
     "name": "stdout",
     "output_type": "stream",
     "text": [
      "-100 -95 -90 -85 -80 -75 -70 -65 -60 -55 -50 -45 -40 -35 -30 -25 -20 -15 -10 "
     ]
    }
   ],
   "source": [
    "n=-100\n",
    "while(n<=-10):\n",
    "    if n % 5 == 0:\n",
    "               print(n,end=' ')\n",
    "    n+=1"
   ]
  },
  {
   "cell_type": "code",
   "execution_count": 1,
   "metadata": {},
   "outputs": [
    {
     "name": "stdout",
     "output_type": "stream",
     "text": [
      "0 5 10 15 20 25 30 35 40 45 50 55 60 65 70 75 80 85 90 95 100 "
     ]
    }
   ],
   "source": [
    "# print integers from 100 to 0 which are divisible by 5.\n",
    "num=0\n",
    "while(num<=100):\n",
    "    if num % 5 == 0: \n",
    "                print(num,end = \" \") \n",
    "    num+=1"
   ]
  },
  {
   "cell_type": "code",
   "execution_count": null,
   "metadata": {},
   "outputs": [],
   "source": [
    "i=0\n",
    "while(i<10):\n",
    "    a=1\n",
    "    while(a<i):\n",
    "        print(i,end=\" \")\n",
    "        i=i+1\n",
    "        a=a+1\n"
   ]
  },
  {
   "cell_type": "code",
   "execution_count": null,
   "metadata": {},
   "outputs": [],
   "source": []
  }
 ],
 "metadata": {
  "kernelspec": {
   "display_name": "Python 3",
   "language": "python",
   "name": "python3"
  },
  "language_info": {
   "codemirror_mode": {
    "name": "ipython",
    "version": 3
   },
   "file_extension": ".py",
   "mimetype": "text/x-python",
   "name": "python",
   "nbconvert_exporter": "python",
   "pygments_lexer": "ipython3",
   "version": "3.7.3"
  }
 },
 "nbformat": 4,
 "nbformat_minor": 2
}
