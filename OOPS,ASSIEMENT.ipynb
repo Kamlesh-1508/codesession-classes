{
 "cells": [
  {
   "cell_type": "code",
   "execution_count": 39,
   "metadata": {},
   "outputs": [
    {
     "name": "stdout",
     "output_type": "stream",
     "text": [
      "Area = 8.815240927012887\n",
      "Circumference = 12.56\n"
     ]
    }
   ],
   "source": [
    "# 1) Create a Cricle class and intialize it with radius. Make two methods getArea and getCircumference inside this class\n",
    "class Cricle:\n",
    "    def __init__(self,radius):\n",
    "            self.radius=radius\n",
    "    def area(self):\n",
    "        return self.radius**3.14\n",
    "    def Circumference(self):\n",
    "            return self.radius*2*3.14\n",
    "\n",
    "getarea=Cricle(2)\n",
    "getCircumference=Cricle(2)\n",
    "print(\"Area =\",getarea.area())\n",
    "print(\"Circumference =\",getCircumference.Circumference())\n",
    "            "
   ]
  },
  {
   "cell_type": "code",
   "execution_count": 1,
   "metadata": {},
   "outputs": [
    {
     "name": "stdout",
     "output_type": "stream",
     "text": [
      "Fahrenheit = 68.0\n",
      "Celsius  = 14.222222222222221\n"
     ]
    }
   ],
   "source": [
    "# 2)Create a Temprature:\n",
    "# . Make two methods :\n",
    "# a. convertFahrenheit - It will take celsius and will print it into Fahrenheit.\n",
    "# b. convertCelsius - It will take Fahrenheit and will convert it into Celsius.\n",
    "class Temprature:\n",
    "    def __init__(self,num):\n",
    "            self.num=num\n",
    "    def Fahrenheit(self):\n",
    "        return self.num*1.8+32\n",
    "    def Celsius (self):\n",
    "            return self.num-32*5/9\n",
    "\n",
    "T1=Temprature(20)\n",
    "T2=Temprature(32)\n",
    "print(\"Fahrenheit =\",T1.Fahrenheit())\n",
    "print(\"Celsius  =\",T2.Celsius ())"
   ]
  }
 ],
 "metadata": {
  "kernelspec": {
   "display_name": "Python 3",
   "language": "python",
   "name": "python3"
  },
  "language_info": {
   "codemirror_mode": {
    "name": "ipython",
    "version": 3
   },
   "file_extension": ".py",
   "mimetype": "text/x-python",
   "name": "python",
   "nbconvert_exporter": "python",
   "pygments_lexer": "ipython3",
   "version": "3.7.3"
  }
 },
 "nbformat": 4,
 "nbformat_minor": 2
}
