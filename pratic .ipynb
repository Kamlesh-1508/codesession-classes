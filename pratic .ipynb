{
 "cells": [
  {
   "cell_type": "code",
   "execution_count": 4,
   "metadata": {},
   "outputs": [
    {
     "name": "stdout",
     "output_type": "stream",
     "text": [
      "hii welcome in my house  50 thanks for visit my house::\n",
      "hii welcome in my house ,50 thanks\n"
     ]
    }
   ],
   "source": [
    "# string formating \n",
    "a=\"welcome in my house \"\n",
    "b=50\n",
    "print(\"hii\",a,b,\"thanks for visit my house::\")\n",
    "print(f\"hii {a},{b} thanks\")"
   ]
  },
  {
   "cell_type": "code",
   "execution_count": 10,
   "metadata": {},
   "outputs": [
    {
     "name": "stdout",
     "output_type": "stream",
     "text": [
      "enter your age::25\n",
      "enter your age ::265\n",
      " add.25+265= 290\n"
     ]
    }
   ],
   "source": [
    "a=int(input(\"enter your age::\"))\n",
    "b=int( input(\"enter your age ::\"))\n",
    "\n",
    "print(f\" add.{a}+{b}=\",a+b)"
   ]
  },
  {
   "cell_type": "code",
   "execution_count": 2,
   "metadata": {},
   "outputs": [
    {
     "name": "stdout",
     "output_type": "stream",
     "text": [
      "hii i am kamlesh i am form  bhudla and read in jaipur\n"
     ]
    }
   ],
   "source": [
    "a=\"hii i am {0} i am form  {1} and read in {2}\"\n",
    "print(a.format(\"kamlesh\",\"bhudla\", \"jaipur\"))"
   ]
  },
  {
   "cell_type": "code",
   "execution_count": 5,
   "metadata": {},
   "outputs": [
    {
     "name": "stdout",
     "output_type": "stream",
     "text": [
      "hii kamlesh 20 \n"
     ]
    }
   ],
   "source": [
    "print(\"hii %s %i \"%(\"kamlesh\",20))"
   ]
  },
  {
   "cell_type": "code",
   "execution_count": 8,
   "metadata": {},
   "outputs": [
    {
     "name": "stdout",
     "output_type": "stream",
     "text": [
      " hii  i am kamlesh form bhudla i am read jaipur\n"
     ]
    }
   ],
   "source": [
    "print(\" hii  i am {0} form {1} i am read {2}\".format(\"kamlesh\",\"bhudla\",\"jaipur\"))"
   ]
  },
  {
   "cell_type": "code",
   "execution_count": 10,
   "metadata": {},
   "outputs": [
    {
     "name": "stdout",
     "output_type": "stream",
     "text": [
      "I`m kamlesh kumar prajapat 9587439122\n"
     ]
    }
   ],
   "source": [
    "a,b,c,d=\"kamlesh\",\"kumar\",\"prajapat\",9587439122\n",
    "print(\"I`m %s %s %s %i\"%(a,b,c,d))"
   ]
  },
  {
   "cell_type": "code",
   "execution_count": 24,
   "metadata": {},
   "outputs": [
    {
     "name": "stdout",
     "output_type": "stream",
     "text": [
      "<class 'float'>\n",
      "I wrote 32 programs today.\n",
      "I wrote 4.000000 programs today.\n",
      "I wrote 32.2515programs today.\n"
     ]
    }
   ],
   "source": [
    "a = 32.2515\n",
    "print(type(a))\n",
    "print('I wrote %i programs today.' %a)\n",
    "print('I wrote %f programs today.' %4)\n",
    "print('I wrote %.4fprograms today.' %a)"
   ]
  },
  {
   "cell_type": "code",
   "execution_count": 35,
   "metadata": {},
   "outputs": [
    {
     "name": "stdout",
     "output_type": "stream",
     "text": [
      "enter your number ::3.362\n",
      "enter your second number :: 6.362\n",
      "this add ::9.72\n"
     ]
    }
   ],
   "source": [
    "a=float(input(\"enter your number ::\"))\n",
    "b=float(input(\"enter your second number :: \"))\n",
    "c=a+b\n",
    "print('this add ::%.2f'%c)\n"
   ]
  },
  {
   "cell_type": "code",
   "execution_count": 7,
   "metadata": {},
   "outputs": [
    {
     "name": "stdout",
     "output_type": "stream",
     "text": [
      " hello kamlesh  kumar  prajapat\n"
     ]
    }
   ],
   "source": [
    "a=\" hello kamlesh {0} {1}\"\n",
    "print(a.format(\" kumar \",\"prajapat\"))"
   ]
  },
  {
   "cell_type": "code",
   "execution_count": 12,
   "metadata": {},
   "outputs": [
    {
     "name": "stdout",
     "output_type": "stream",
     "text": [
      "kamlesh is my brother\n"
     ]
    }
   ],
   "source": [
    "print(\"%s is my %s\"%(\"kamlesh\",\"brother\") )"
   ]
  },
  {
   "cell_type": "code",
   "execution_count": 16,
   "metadata": {},
   "outputs": [
    {
     "name": "stdout",
     "output_type": "stream",
     "text": [
      "i`m kamlesh kumar prajapt 9587439122\n"
     ]
    }
   ],
   "source": [
    "a,b,c,d=\"kamlesh\",\"kumar\",\"prajapt\",9587439122\n",
    "print(\"i`m %s %s %s %i\" %(a,b,c,d))"
   ]
  },
  {
   "cell_type": "code",
   "execution_count": 22,
   "metadata": {},
   "outputs": [
    {
     "name": "stdout",
     "output_type": "stream",
     "text": [
      "i am live on facebook and zoom\n"
     ]
    }
   ],
   "source": [
    "print('i am live on {0} {1} {2}'.format(\"facebook\",\"and\",\"zoom\"))"
   ]
  },
  {
   "cell_type": "code",
   "execution_count": 6,
   "metadata": {},
   "outputs": [
    {
     "name": "stdout",
     "output_type": "stream",
     "text": [
      "i am write in 25.32\n"
     ]
    }
   ],
   "source": [
    "a=25.315\n",
    "print(\"i am write in %.2f\"%a)"
   ]
  },
  {
   "cell_type": "code",
   "execution_count": 27,
   "metadata": {},
   "outputs": [
    {
     "name": "stdout",
     "output_type": "stream",
     "text": [
      "kamlesh kumar prajapat\n",
      "i am kamlesh kumar prajapat\n",
      "hii i am kamlesh bhudla bassi\n",
      "hii i am kamlesh bhudla \n",
      " hii iam write 8555.33\n",
      "rajender is my brother and 9587439122 is my number \n"
     ]
    }
   ],
   "source": [
    "a=\"kamlesh kumar prajapat\"\n",
    "b=\"hii i am {0} {1} {2}\"\n",
    "c,d=\"kamlesh\",\"bhudla\"\n",
    "g=8555.3265\n",
    "# print(a)\n",
    "# print(f\"hii i am {a}\")\n",
    "# print(\"hii i am %s\"%(a)\n",
    "print(a.format(a))\n",
    "print( \"i am {0} {1} {2}\".format(\"kamlesh\",\"kumar\",\"prajapat\") )\n",
    "print(b.format(\"kamlesh\",\"bhudla\",\"bassi\"))\n",
    "print(\"hii i am %s %s \"%(c,d))\n",
    "print(\" hii iam write %.2f\"%g)\n",
    "print(\"%s is my brother and %i is my number \"%(\"rajender\",9587439122))\n"
   ]
  },
  {
   "cell_type": "code",
   "execution_count": 33,
   "metadata": {},
   "outputs": [
    {
     "name": "stdout",
     "output_type": "stream",
     "text": [
      "enter your number::25\n",
      "enter your second number::2.62541\n",
      "this is sum of 27.6254\n"
     ]
    }
   ],
   "source": [
    "a=float(input(\"enter your number::\"))\n",
    "b=float(input(\"enter your second number::\"))\n",
    "c=a+b\n",
    "print(\"this is sum of %.4f\"%c)"
   ]
  },
  {
   "cell_type": "code",
   "execution_count": 36,
   "metadata": {},
   "outputs": [
    {
     "name": "stdout",
     "output_type": "stream",
     "text": [
      "253.32\n"
     ]
    }
   ],
   "source": [
    "# casting\n",
    "a=float(253.32)\n",
    "print(a)\n"
   ]
  },
  {
   "cell_type": "code",
   "execution_count": 45,
   "metadata": {},
   "outputs": [
    {
     "name": "stdout",
     "output_type": "stream",
     "text": [
      "22\n",
      "a\n"
     ]
    }
   ],
   "source": [
    "# strig method\n",
    "# len\n",
    "a=\"kamlesh kumar prajapat\"\n",
    "print(len(a))\n",
    "print(a[-4])"
   ]
  },
  {
   "cell_type": "code",
   "execution_count": 47,
   "metadata": {},
   "outputs": [
    {
     "name": "stdout",
     "output_type": "stream",
     "text": [
      "kamlesh kumar prajapat\n"
     ]
    }
   ],
   "source": [
    "a=\"KAMLESH KUMAR PRAJAPAT\"\n",
    "print(a.lower())\n"
   ]
  },
  {
   "cell_type": "code",
   "execution_count": 49,
   "metadata": {},
   "outputs": [
    {
     "name": "stdout",
     "output_type": "stream",
     "text": [
      "KAMLESH KUMAR PRAJAPAT\n"
     ]
    }
   ],
   "source": [
    "a=\"kamlesh kumar prajapat\"\n",
    "print(a.upper())"
   ]
  },
  {
   "cell_type": "code",
   "execution_count": 56,
   "metadata": {},
   "outputs": [
    {
     "name": "stdout",
     "output_type": "stream",
     "text": [
      "kamlesh kumar prajapat\n"
     ]
    }
   ],
   "source": [
    "a=\"kamlesh kumar prajapat\"\n",
    "print(a.strip())"
   ]
  },
  {
   "cell_type": "code",
   "execution_count": 63,
   "metadata": {},
   "outputs": [
    {
     "name": "stdout",
     "output_type": "stream",
     "text": [
      "kamlesh kumar prajapatbhudla ,bassi\n"
     ]
    }
   ],
   "source": [
    "a=\"kamlesh kumar prajapat\"\n",
    "b=\"bhudla ,bassi\"\n",
    "print(a.lstrip( )+ b)"
   ]
  },
  {
   "cell_type": "code",
   "execution_count": 66,
   "metadata": {},
   "outputs": [
    {
     "name": "stdout",
     "output_type": "stream",
     "text": [
      "kamlesh,prajapat\n",
      "rajender,kumar\n"
     ]
    }
   ],
   "source": [
    "a=\"kamlesh,kumar\"\n",
    "print(a.replace(\"kumar\",\"prajapat\"))\n",
    "print(a.replace(\"kamlesh\",\"rajender\"))"
   ]
  },
  {
   "cell_type": "code",
   "execution_count": 68,
   "metadata": {},
   "outputs": [
    {
     "name": "stdout",
     "output_type": "stream",
     "text": [
      "['happ', ' morning']\n"
     ]
    }
   ],
   "source": [
    "a=\"happy morning\"\n",
    "x=a.split(\"y\")\n",
    "print(x)"
   ]
  },
  {
   "cell_type": "code",
   "execution_count": 71,
   "metadata": {},
   "outputs": [
    {
     "data": {
      "text/plain": [
       "'Apple'"
      ]
     },
     "execution_count": 71,
     "metadata": {},
     "output_type": "execute_result"
    }
   ],
   "source": [
    "a=\"apple\"\n",
    "a.capitalize()"
   ]
  },
  {
   "cell_type": "code",
   "execution_count": 1,
   "metadata": {},
   "outputs": [
    {
     "name": "stdout",
     "output_type": "stream",
     "text": [
      "<class 'list'>\n",
      "3\n",
      "kumar\n",
      "139647037707400\n",
      "before: ['kamlesh', 'kumar', 'prjapat']\n",
      "after: ['teena', 'kumar', 'prjapat']\n"
     ]
    }
   ],
   "source": [
    "# # collection data type \n",
    "# # thare are foure data type\n",
    "# list[]\n",
    "# tuple()\n",
    "# set{}\n",
    "# dictonary{key:value\n",
    "# list[]-:list a collection data type which is oraderd indexed and changeable,Allow duplication member\n",
    "# tuple()-:tuple a collection data type which is oraderd indexed and unchangeable,Allow duplication member\n",
    "# set{}-:set is a collection data type which is unorderd unindexed and changeable ,not allow duplication member\n",
    "# dictonary-:dictonary is a collection data type which is unorderd but indexed with key and value changeable and allow duplication member\n",
    "list_1=[\"kamlesh\",\"kumar\",\"prjapat\"]\n",
    "print(type(list_1))\n",
    "print(len(list_1))\n",
    "print(list_1[1])\n",
    "print(id (list_1))\n",
    "print('before:',list_1)\n",
    "list_1[0]=\"teena\"\n",
    "print('after:',list_1)"
   ]
  },
  {
   "cell_type": "code",
   "execution_count": 11,
   "metadata": {},
   "outputs": [
    {
     "name": "stdout",
     "output_type": "stream",
     "text": [
      "['kamlesh', 'kumar']\n",
      "<class 'list'>\n",
      "before: ['kamlesh', 'kumar']\n",
      "after: ['kamlesh', 'teena']\n",
      "kamlesh\n",
      "teena\n",
      "139647072058376\n"
     ]
    }
   ],
   "source": [
    "a=[\"kamlesh\",\"kumar\"]\n",
    "print(a)\n",
    "print(type(a))\n",
    "print(\"before:\",a)\n",
    "a[1]=\"teena\"\n",
    "print(\"after:\",a)\n",
    "print(a[0])\n",
    "print(a[1])\n",
    "print(id(a))"
   ]
  },
  {
   "cell_type": "code",
   "execution_count": 6,
   "metadata": {},
   "outputs": [
    {
     "name": "stdout",
     "output_type": "stream",
     "text": [
      "13\n",
      "kamlesh\n",
      "<class 'list'>\n",
      "['kamlesh', 1, 52, 4, 6, 5]\n",
      "['kamlesh', 52, 6, 'kumar', 74]\n",
      "['kamlesh', 5, 35]\n"
     ]
    }
   ],
   "source": [
    "a=[\"kamlesh\",1,52,4,6,5,\"kumar\",95,74,42,35,15,\"prajapat\"]\n",
    "print(len(a))\n",
    "print(a[-13])\n",
    "print(type(a))\n",
    "print(a[0:6])\n",
    "print(a[0:10:2])\n",
    "print(a[0::5])"
   ]
  },
  {
   "cell_type": "code",
   "execution_count": 11,
   "metadata": {},
   "outputs": [
    {
     "name": "stdout",
     "output_type": "stream",
     "text": [
      "['rajasthan', 'up', 'mp', 'bihar', 'ap', 9587439122]\n"
     ]
    }
   ],
   "source": [
    "# list method \n",
    "# 1.append method :- the add item at last position in list\n",
    "item=[\"rajasthan\",\"up\",\"mp\"]\n",
    "item.append(\"bihar\")\n",
    "item.append(\"ap\")\n",
    "item.append(9587439122)\n",
    "print(item)"
   ]
  },
  {
   "cell_type": "code",
   "execution_count": 17,
   "metadata": {},
   "outputs": [
    {
     "name": "stdout",
     "output_type": "stream",
     "text": [
      "6\n",
      "[95, 87, 43, 91, 22, 'kamlesh', 'kumar', 'prajapat']\n"
     ]
    }
   ],
   "source": [
    "# 2.insert method in list give that position \n",
    "item=[95,87,43,91,22,\"kamlesh\"]\n",
    "print(len(item))\n",
    "item.insert(7,\"kumar\")\n",
    "item.insert(8,\"prajapat\")\n",
    "print(item)"
   ]
  },
  {
   "cell_type": "code",
   "execution_count": 22,
   "metadata": {},
   "outputs": [
    {
     "name": "stdout",
     "output_type": "stream",
     "text": [
      "['bassi', 'bhudla', 'kamlesh']\n"
     ]
    }
   ],
   "source": [
    "# remove method :- remove item in list use remove method\n",
    "item=[\"jaipur\",\"bassi\",\"bhudla\",\"rajwas\",\"kamlesh\"]\n",
    "item.remove(\"rajwas\")\n",
    "item.remove(\"jaipur\")\n",
    "print(item)"
   ]
  },
  {
   "cell_type": "code",
   "execution_count": 29,
   "metadata": {},
   "outputs": [
    {
     "name": "stdout",
     "output_type": "stream",
     "text": [
      "['kamlesh', 'teena', 'adira', 'payal', 'gunjan', 'radhika', 'ankita', 'golya', 'kannu']\n"
     ]
    }
   ],
   "source": [
    "# pop method:-pop method are use remove item in list by index.\n",
    "item=[\"kamlesh\",\"meena\",\"teena\",\"adira\",\"payal\",\"gunjan\",\"radhika\",\"ankita\",\"golya\",\"kannu\",\"kalpna\"]\n",
    "item.pop(1)\n",
    "item.pop()\n",
    "print(item)"
   ]
  },
  {
   "cell_type": "markdown",
   "metadata": {},
   "source": [
    "# del keyword:- the del keyword use remove item the spicified index.\n",
    "item=[9,5,1,24,6,8,54,31,525,\"ras\",\"ips\",\"sdm\"]\n",
    "del item[-1]\n",
    "print(item)"
   ]
  },
  {
   "cell_type": "code",
   "execution_count": 50,
   "metadata": {},
   "outputs": [
    {
     "name": "stdout",
     "output_type": "stream",
     "text": [
      "[]\n"
     ]
    }
   ],
   "source": [
    "# clear method:-clear the list use for clear method\n",
    "item=[1,62,5,7,24,35,16,69,35654,143]\n",
    "item.clear()\n",
    "print(item)"
   ]
  },
  {
   "cell_type": "code",
   "execution_count": 64,
   "metadata": {},
   "outputs": [
    {
     "name": "stdout",
     "output_type": "stream",
     "text": [
      "['kamlesh', 'teena', 'payal', 'gunjan', 'radhika', 'ankita', 'golya']\n"
     ]
    }
   ],
   "source": [
    "# copy method :-copy list use for copy method\n",
    "item=[\"kamlesh\",\"teena\",\"payal\",\"gunjan\",\"radhika\",\"ankita\",\"golya\"]\n",
    "mylist=item.copy()\n",
    "mylist.pop()\n",
    "mylist.insert(6,\"golya\")\n",
    "mylist.append(\"rahual\")\n",
    "mylist.remove(\"rahual\")\n",
    "# mylist.clear()\n",
    "print(mylist)\n"
   ]
  },
  {
   "cell_type": "code",
   "execution_count": 67,
   "metadata": {},
   "outputs": [
    {
     "name": "stdout",
     "output_type": "stream",
     "text": [
      "['kamlesh', 'teena', 'rahual', 'kaanu']\n"
     ]
    }
   ],
   "source": [
    "# copy method:-\n",
    "item=[\"kamlesh\",\"teena\",\"rahual\",\"kaanu\"]\n",
    "mylist=list(item)\n",
    "print(mylist)"
   ]
  },
  {
   "cell_type": "code",
   "execution_count": 73,
   "metadata": {},
   "outputs": [
    {
     "name": "stdout",
     "output_type": "stream",
     "text": [
      "5\n"
     ]
    }
   ],
   "source": [
    "# count method:-count method used in list for count item.\n",
    "item=[5,2,6,2,45,8,7,4,1,5,2,3,6,9,5,6,5,2,6,5,23,6,5,5,5,1,4,8,7,5,1,2,5,6,3,9,587,74]\n",
    "a=item.count(2)\n",
    "print(a)"
   ]
  },
  {
   "cell_type": "code",
   "execution_count": 78,
   "metadata": {},
   "outputs": [
    {
     "name": "stdout",
     "output_type": "stream",
     "text": [
      "1\n"
     ]
    }
   ],
   "source": [
    "# index method:-index method show the item index.\n",
    "item=[\"kamlesh\",\"teena\",\"rahual\",\"kaanu\"]\n",
    "a=item.index(\"kamlesh\")\n",
    "a=item.index(\"teena\")\n",
    "print(a)"
   ]
  },
  {
   "cell_type": "code",
   "execution_count": 83,
   "metadata": {},
   "outputs": [
    {
     "name": "stdout",
     "output_type": "stream",
     "text": [
      "['kamlesh', 'rahual', 'kaanu', 'chuunu', 'ganesh', 'teena', 'payal', 'gunjan', 'radhika']\n"
     ]
    }
   ],
   "source": [
    "# extend method:- add element to one list to another list.\n",
    "item=[\"kamlesh\",\"rahual\",\"kaanu\",\"chuunu\",\"ganesh\"]\n",
    "girl=[\"teena\",\"payal\",\"gunjan\",\"radhika\"]\n",
    "item.extend(girl)\n",
    "print(item)"
   ]
  },
  {
   "cell_type": "code",
   "execution_count": 3,
   "metadata": {},
   "outputs": [
    {
     "name": "stdout",
     "output_type": "stream",
     "text": [
      "[4, 'kaanu', 3, 'rahual', 2, 'teena', 1, 'kamlesh']\n"
     ]
    }
   ],
   "source": [
    "# reverse method:-reverse list for use revers.\n",
    "item=[\"kamlesh\",1,\"teena\",2,\"rahual\",3,\"kaanu\",4]\n",
    "item.reverse()\n",
    "print(item)"
   ]
  },
  {
   "cell_type": "code",
   "execution_count": 14,
   "metadata": {},
   "outputs": [
    {
     "name": "stdout",
     "output_type": "stream",
     "text": [
      "['a', 'b', 'c', 'd', 'e', 'f', 'g', 'h', 'i', 'j', 'k', 'l', 'm', 'n', 'o', 'p', 'q', 'r', 's', 't', 'u', 'v', 'w', 'x', 'y', 'z']\n"
     ]
    }
   ],
   "source": [
    "# sort method:- sort the list item\n",
    "item=['z','x','c','v','b','n','m','a','s','d','f','g','h','j','k','l','q','w','e','r','t','y','u','i','o','p']\n",
    "# item=[\"kamlesh\",\"teena\"]\n",
    "item.sort()\n",
    "print(item)"
   ]
  },
  {
   "cell_type": "code",
   "execution_count": 17,
   "metadata": {},
   "outputs": [],
   "source": [
    "# tuple();-four method in tuple.\n",
    "# 1.len=print the number of item in the value.\n",
    "# 2.count=return the number of occerences of value.\n",
    "# 3.indext=returen frist index a value.4\n",
    "# 4.del =the del keyword can delete the tuple.\n"
   ]
  },
  {
   "cell_type": "code",
   "execution_count": 30,
   "metadata": {},
   "outputs": [
    {
     "name": "stdout",
     "output_type": "stream",
     "text": [
      "<class 'tuple'>\n",
      "13\n",
      "prajapat\n",
      "('teena', 25, 42, 6)\n",
      "140249829894144\n"
     ]
    }
   ],
   "source": [
    "item=(\"kamlesh\",\"teena\",25,42,6,15,24,6943,54,21,6234,5189,\"prajapat\")\n",
    "print(type(item))\n",
    "print(len(item))\n",
    "print(item[-1])\n",
    "print(item[1:5])\n",
    "print(id(item))"
   ]
  },
  {
   "cell_type": "code",
   "execution_count": 35,
   "metadata": {},
   "outputs": [
    {
     "name": "stdout",
     "output_type": "stream",
     "text": [
      "2\n"
     ]
    }
   ],
   "source": [
    "item=(\"kamlesh\",\"teena\",\"rahual\",\"gunnu\",\"madhvi\",\"mohit\",\"kamlesh\")\n",
    "a=item.count(\"kamlesh\")\n",
    "print(a)"
   ]
  },
  {
   "cell_type": "code",
   "execution_count": 38,
   "metadata": {},
   "outputs": [
    {
     "name": "stdout",
     "output_type": "stream",
     "text": [
      "('ipsita', 'madhvi', 'kamlesh', 'teena', 'ajay', 'bharti', 'khusi', 'kiran', 'shubham')\n",
      "3\n"
     ]
    }
   ],
   "source": [
    "item=(\"ipsita\",\"madhvi\",\"kamlesh\",\"teena\",\"ajay\",\"bharti\",\"khusi\",\"kiran\",\"shubham\")\n",
    "print(item)\n",
    "a=item.index(\"teena\")\n",
    "print(a)"
   ]
  },
  {
   "cell_type": "code",
   "execution_count": 14,
   "metadata": {},
   "outputs": [
    {
     "ename": "SyntaxError",
     "evalue": "can't delete function call (<ipython-input-14-69d9f46f6066>, line 2)",
     "output_type": "error",
     "traceback": [
      "\u001b[0;36m  File \u001b[0;32m\"<ipython-input-14-69d9f46f6066>\"\u001b[0;36m, line \u001b[0;32m2\u001b[0m\n\u001b[0;31m    del item([0])\u001b[0m\n\u001b[0m       ^\u001b[0m\n\u001b[0;31mSyntaxError\u001b[0m\u001b[0;31m:\u001b[0m can't delete function call\n"
     ]
    }
   ],
   "source": [
    "item=(\"kamlesh\",\"teena\")\n",
    "del item([0])\n",
    "print(item)"
   ]
  },
  {
   "cell_type": "code",
   "execution_count": 9,
   "metadata": {},
   "outputs": [
    {
     "name": "stdout",
     "output_type": "stream",
     "text": [
      "<class 'set'>\n",
      "3\n",
      "before: {'kumar', 'kamlesh ', 'prajapat'}\n"
     ]
    }
   ],
   "source": [
    "# set data type {}:- set data type is unorders unindexted chaglable and do not allow duplication member\n",
    "item ={\"kamlesh \",\"kumar\",\"prajapat\",\"prajapat\"}\n",
    "print(type(item))\n",
    "print(len(item ))\n",
    "print(\"before:\",item)\n"
   ]
  },
  {
   "cell_type": "code",
   "execution_count": 11,
   "metadata": {},
   "outputs": [
    {
     "name": "stdout",
     "output_type": "stream",
     "text": [
      "{'kamlesh', 'bhudla', 'tenna'}\n"
     ]
    }
   ],
   "source": [
    "# set data type method:-\n",
    "# add:- add item in set.\n",
    "item={\"kamlesh\",\"bhudla\"}\n",
    "item.add(\"tenna\")\n",
    "print(item)"
   ]
  },
  {
   "cell_type": "code",
   "execution_count": 1,
   "metadata": {},
   "outputs": [
    {
     "name": "stdout",
     "output_type": "stream",
     "text": [
      "{'kamlesh', 'e', 'n', 'bhudla', 't', 'a', 'prajapat'}\n"
     ]
    }
   ],
   "source": [
    "# updte method:- add item in data type:\n",
    "item={\"kamlesh\",\"prajapat\",\"bhudla\"}\n",
    "item.update(\"teena\")\n",
    "print(item)"
   ]
  },
  {
   "cell_type": "code",
   "execution_count": 6,
   "metadata": {},
   "outputs": [
    {
     "name": "stdout",
     "output_type": "stream",
     "text": [
      "{'teena', 'kamlesh'}\n"
     ]
    }
   ],
   "source": [
    "# remove method:- remove the item in set.\n",
    "item={'kamlesh','kumar','teena'}\n",
    "item.remove('kumar')\n",
    "print(item)"
   ]
  },
  {
   "cell_type": "code",
   "execution_count": 10,
   "metadata": {},
   "outputs": [
    {
     "name": "stdout",
     "output_type": "stream",
     "text": [
      "{'teena', 'kamlesh'}\n"
     ]
    }
   ],
   "source": [
    "# discard method:- discard tha item and not show error\n",
    "item={\"kamlesh\",\"ankita\",\"teena\"}\n",
    "item.discard('ankita')\n",
    "print(item)"
   ]
  },
  {
   "cell_type": "code",
   "execution_count": 1,
   "metadata": {},
   "outputs": [
    {
     "name": "stdout",
     "output_type": "stream",
     "text": [
      "{'w', 'r'}\n"
     ]
    }
   ],
   "source": [
    "# diffrence method:-remove all element of another set form this set.\n",
    "item1={\"a\",\"v\",\"f\",\"b\"}\n",
    "item2={\"a\",\"f\",\"r\",\"w\",\"r\"}\n",
    "a=item2.difference(item1)\n",
    "print(a)"
   ]
  },
  {
   "cell_type": "code",
   "execution_count": 3,
   "metadata": {},
   "outputs": [
    {
     "name": "stdout",
     "output_type": "stream",
     "text": [
      "None\n"
     ]
    }
   ],
   "source": [
    "item={\"kamlesh\",\"kumar\"}\n",
    "item1={\"kamlesh\",\"prajapat\"}\n",
    "all=item.difference_update(item1)\n",
    "print(all)"
   ]
  },
  {
   "cell_type": "code",
   "execution_count": 7,
   "metadata": {},
   "outputs": [
    {
     "name": "stdout",
     "output_type": "stream",
     "text": [
      "{'cat', 'banana'}\n"
     ]
    }
   ],
   "source": [
    "# pop method=:- remove the item\n",
    "item={\"apple\",\"banana\",\"cat\"}\n",
    "item.pop()\n",
    "print(item)"
   ]
  },
  {
   "cell_type": "code",
   "execution_count": 10,
   "metadata": {},
   "outputs": [
    {
     "name": "stdout",
     "output_type": "stream",
     "text": [
      "{'w', 'r'}\n"
     ]
    }
   ],
   "source": [
    "# intersection method:- return the intersection of two sets as a new set.\n",
    "a={'w','r','g','s'}\n",
    "b={'w','r','j','h'}\n",
    "c=a.intersection(b)\n",
    "print(c)"
   ]
  },
  {
   "cell_type": "code",
   "execution_count": 12,
   "metadata": {},
   "outputs": [
    {
     "name": "stdout",
     "output_type": "stream",
     "text": [
      "None\n"
     ]
    }
   ],
   "source": [
    "# intersection_upate method:- returen the intersection of two sets as a new set.\n",
    "# the intersection_update returen none indicating the object is mutated.\n",
    "a={'g',\"d\"}\n",
    "b={'v','e'}\n",
    "c=a.intersection_update(b)\n",
    "print(c)"
   ]
  },
  {
   "cell_type": "code",
   "execution_count": 15,
   "metadata": {},
   "outputs": [
    {
     "name": "stdout",
     "output_type": "stream",
     "text": [
      "{'prajapat', 'kamlesh', 'bhudla', 'kumar'}\n"
     ]
    }
   ],
   "source": [
    "# union():-return the union of sets as a new set.(create a variable)\n",
    "a={\"kamlesh\",\"prajapat\"}\n",
    "b={\"kumar\",\"bhudla\"}\n",
    "c=b.union(a)\n",
    "print(c)"
   ]
  },
  {
   "cell_type": "code",
   "execution_count": 8,
   "metadata": {},
   "outputs": [
    {
     "name": "stdout",
     "output_type": "stream",
     "text": [
      "True\n"
     ]
    }
   ],
   "source": [
    "# isdisjoint:-return true if two set have true\n",
    "a={\"kamlesh\",\"kumar\"}\n",
    "b={5,2,4,158,7}\n",
    "c=b.isdisjoint(a)\n",
    "print(c)"
   ]
  },
  {
   "cell_type": "code",
   "execution_count": 14,
   "metadata": {},
   "outputs": [
    {
     "name": "stdout",
     "output_type": "stream",
     "text": [
      "True\n"
     ]
    }
   ],
   "source": [
    "# is subset:-returen whether another set contaion the set\n",
    "a={'f','s','x','w'}\n",
    "b={'f','s','w','x'}\n",
    "c=a.issubset(b)\n",
    "print(c)"
   ]
  },
  {
   "cell_type": "code",
   "execution_count": 17,
   "metadata": {},
   "outputs": [
    {
     "name": "stdout",
     "output_type": "stream",
     "text": [
      "True\n"
     ]
    }
   ],
   "source": [
    "# issuper set :- returen wheter this set to another set.\n",
    "a={'v','n','s','r'}\n",
    "b={'n','v','r','s'}\n",
    "c=a.issuperset(b)\n",
    "print(c)"
   ]
  },
  {
   "cell_type": "code",
   "execution_count": 22,
   "metadata": {},
   "outputs": [
    {
     "name": "stdout",
     "output_type": "stream",
     "text": [
      "7\n",
      "36\n",
      "5\n",
      "4\n",
      "164\n",
      "9\n",
      "84\n",
      "54\n"
     ]
    }
   ],
   "source": [
    "set1={5,84,36,9,54,4,164,5}\n",
    "print(len(set1))\n",
    "# print(set1)\n",
    "for x in set1:\n",
    "    print(x)"
   ]
  },
  {
   "cell_type": "code",
   "execution_count": 26,
   "metadata": {},
   "outputs": [
    {
     "name": "stdout",
     "output_type": "stream",
     "text": [
      "soory this no this set\n"
     ]
    }
   ],
   "source": [
    "set1={'kamlesh','kumr','prajapat'}\n",
    "if 'teena' in set1:\n",
    "    print('yes this is set')\n",
    "else:\n",
    "    print(\"soory this no this set\")"
   ]
  },
  {
   "cell_type": "code",
   "execution_count": 36,
   "metadata": {},
   "outputs": [
    {
     "name": "stdout",
     "output_type": "stream",
     "text": [
      "{1: 'apple', 2: 'banana', 3: 'mango', 4: 'orange'}\n",
      "{1: 'apple', 2: 'tomoto', 3: 'mango', 4: 'orange', 'year': 2000, 'name': 'teena'}\n",
      "orange\n",
      "dict_keys([1, 2, 3, 4, 'year', 'name'])\n",
      "dict_values(['apple', 'tomoto', 'mango', 'orange', 2000, 'teena'])\n"
     ]
    }
   ],
   "source": [
    "# dictionary data type:\n",
    "friuts={1:'apple',2:'banana',3:'mango',4:'orange'}\n",
    "print(friuts)\n",
    "friuts['year']=2000\n",
    "friuts[2]='tomoto'\n",
    "friuts['name']='kamlesh'\n",
    "friuts['name']='teena'\n",
    "print(friuts)\n",
    "a=friuts.get(4)\n",
    "print(a)\n",
    "print(friuts.keys())\n",
    "print(friuts.values())"
   ]
  },
  {
   "cell_type": "code",
   "execution_count": 40,
   "metadata": {},
   "outputs": [
    {
     "name": "stdout",
     "output_type": "stream",
     "text": [
      "maruti\n"
     ]
    }
   ],
   "source": [
    "# get method in dicitionary\n",
    "brand={'car':'maruti'}\n",
    "name=brand.get('car')\n",
    "print(name)"
   ]
  },
  {
   "cell_type": "code",
   "execution_count": 8,
   "metadata": {},
   "outputs": [
    {
     "name": "stdout",
     "output_type": "stream",
     "text": [
      "{'name': 'kamlesh', 'name1': 'teena'}\n"
     ]
    }
   ],
   "source": [
    "# update method in dicitionary\n",
    "dict1={'name':'kamlesh'}\n",
    "dict2={'name1':'teena'}\n",
    "dict1.update(dict2)\n",
    "print(dict1)"
   ]
  },
  {
   "cell_type": "code",
   "execution_count": 17,
   "metadata": {},
   "outputs": [
    {
     "name": "stdout",
     "output_type": "stream",
     "text": [
      "{'name': 'kamlesh', 'class': 15}\n"
     ]
    }
   ],
   "source": [
    "a={'name':'kamlesh','dob':2000}\n",
    "a.update({'class':15})\n",
    "a.pop('dob')\n",
    "print(a)"
   ]
  },
  {
   "cell_type": "code",
   "execution_count": 23,
   "metadata": {},
   "outputs": [
    {
     "name": "stdout",
     "output_type": "stream",
     "text": [
      "('name', 'kamlesh')\n"
     ]
    }
   ],
   "source": [
    "dict1={'class':1,'name':'kamlesh'}\n",
    "item=dict1.popitem()\n",
    "print(item)"
   ]
  },
  {
   "cell_type": "code",
   "execution_count": 3,
   "metadata": {},
   "outputs": [
    {
     "name": "stdout",
     "output_type": "stream",
     "text": [
      "{}\n"
     ]
    }
   ],
   "source": [
    "name={'car':'maruti','brand':'hero'}\n",
    "name.clear()\n",
    "print(name)\n",
    "# del name()\n",
    "# print(name)"
   ]
  },
  {
   "cell_type": "code",
   "execution_count": 41,
   "metadata": {},
   "outputs": [
    {
     "name": "stdout",
     "output_type": "stream",
     "text": [
      "<class 'dict'>\n",
      "{'teena': 'kamlesh', 'name': 'rahual'}\n"
     ]
    }
   ],
   "source": [
    "item={'teena':'kamlesh','class':12}\n",
    "print(type(item))\n",
    "item[\"name\"]=\"rahual\"\n",
    "item.pop('class')\n",
    "print(item)"
   ]
  },
  {
   "cell_type": "code",
   "execution_count": 2,
   "metadata": {},
   "outputs": [
    {
     "name": "stdout",
     "output_type": "stream",
     "text": [
      "('Saranya', 'Surya', 'Manu')\n",
      "<class 'tuple'>\n"
     ]
    }
   ],
   "source": [
    "list1 = ['Saranya', 'Surya', 'Manu']\n",
    "\n",
    "#convert list into tuple\n",
    "tuple1 = tuple(list1)\n",
    "\n",
    "print(tuple1)\n",
    "print(type(tuple1))"
   ]
  },
  {
   "cell_type": "code",
   "execution_count": 3,
   "metadata": {},
   "outputs": [
    {
     "name": "stdout",
     "output_type": "stream",
     "text": [
      "(1, 25, 3, 6, 5)\n",
      "<class 'tuple'>\n",
      "<class 'list'>\n"
     ]
    }
   ],
   "source": [
    "a=[1,25,3,6,5]\n",
    "b=tuple(a)\n",
    "print(b)\n",
    "print(type(b))\n",
    "print( type(a))"
   ]
  },
  {
   "cell_type": "code",
   "execution_count": 8,
   "metadata": {},
   "outputs": [
    {
     "name": "stdout",
     "output_type": "stream",
     "text": [
      "5 10 15 20 25 30 35 40 45 50 55 60 65 70 75 80 85 90 95 100 105 110 115 120 125 130 135 140 145 150 155 160 165 170 175 180 185 190 195 200 "
     ]
    }
   ],
   "source": [
    "n=1\n",
    "while(n<=200):\n",
    "    if n%5==0:\n",
    "        print(n,end=\" \")\n",
    "    n=n+1\n",
    "    "
   ]
  },
  {
   "cell_type": "code",
   "execution_count": 5,
   "metadata": {},
   "outputs": [
    {
     "name": "stdout",
     "output_type": "stream",
     "text": [
      "500 495 490 485 480 475 470 465 460 455 450 445 440 435 430 425 420 415 410 405 400 395 390 385 380 375 370 365 360 355 350 345 340 335 330 325 320 315 310 305 300 295 290 285 280 275 270 265 260 255 250 245 240 235 230 225 220 215 210 205 200 195 190 185 180 175 170 165 160 155 150 145 140 135 130 125 120 115 110 105 100 95 90 85 80 75 70 65 60 55 50 45 40 35 30 25 20 15 10 5 "
     ]
    }
   ],
   "source": [
    "a=500\n",
    "while(a>=1):\n",
    "    if a%5==0:\n",
    "        print(a,end=\" \")\n",
    "    a=a-1"
   ]
  },
  {
   "cell_type": "code",
   "execution_count": 2,
   "metadata": {},
   "outputs": [
    {
     "name": "stdout",
     "output_type": "stream",
     "text": [
      "3 [1, 2, 3, 4, 5, 6, 7, 8, 9, 10]\n",
      "6 [1, 2, 3, 4, 5, 6, 7, 8, 9, 10]\n",
      "9 [1, 2, 3, 4, 5, 6, 7, 8, 9, 10]\n"
     ]
    }
   ],
   "source": [
    "l=[1,2,3,4,5,6,7,8,9,10]\n",
    "for i in l:\n",
    "    if i%3==0:\n",
    "        print(i,end=\" \")\n",
    "        print(l)"
   ]
  },
  {
   "cell_type": "code",
   "execution_count": 5,
   "metadata": {},
   "outputs": [
    {
     "name": "stdout",
     "output_type": "stream",
     "text": [
      "kamlesh\n"
     ]
    }
   ],
   "source": [
    " a=\"kamlesh\",\"kumar\",\"prajapat\"\n",
    "for i in a:\n",
    "    if i==\"kumar\":\n",
    "        break\n",
    "    print(i)"
   ]
  },
  {
   "cell_type": "code",
   "execution_count": 6,
   "metadata": {},
   "outputs": [
    {
     "name": "stdout",
     "output_type": "stream",
     "text": [
      "kamlesh\n",
      "prajapat\n"
     ]
    }
   ],
   "source": [
    "for i in a:\n",
    "    if i==\"kumar\":\n",
    "        continue\n",
    "    print(i)"
   ]
  },
  {
   "cell_type": "code",
   "execution_count": 11,
   "metadata": {},
   "outputs": [
    {
     "name": "stdout",
     "output_type": "stream",
     "text": [
      "6\n",
      "2\n",
      "5\n",
      "8\n",
      "8\n",
      "2\n",
      "1\n",
      "6\n"
     ]
    }
   ],
   "source": [
    "a=\"625833832136\"\n",
    "for i in a:\n",
    "    if i==\"3\":\n",
    "        continue\n",
    "    print(i)"
   ]
  },
  {
   "cell_type": "code",
   "execution_count": 25,
   "metadata": {},
   "outputs": [
    {
     "name": "stdout",
     "output_type": "stream",
     "text": [
      "apple\n",
      "cherry\n"
     ]
    }
   ],
   "source": [
    " "
   ]
  }
 ],
 "metadata": {
  "kernelspec": {
   "display_name": "Python 3",
   "language": "python",
   "name": "python3"
  },
  "language_info": {
   "codemirror_mode": {
    "name": "ipython",
    "version": 3
   },
   "file_extension": ".py",
   "mimetype": "text/x-python",
   "name": "python",
   "nbconvert_exporter": "python",
   "pygments_lexer": "ipython3",
   "version": "3.7.3"
  }
 },
 "nbformat": 4,
 "nbformat_minor": 2
}
