{
 "cells": [
  {
   "cell_type": "code",
   "execution_count": 1,
   "metadata": {},
   "outputs": [
    {
     "name": "stdout",
     "output_type": "stream",
     "text": [
      "hello good morning everyone\n"
     ]
    }
   ],
   "source": [
    "print(\"hello good morning everyone\")"
   ]
  },
  {
   "cell_type": "code",
   "execution_count": 4,
   "metadata": {},
   "outputs": [
    {
     "name": "stdout",
     "output_type": "stream",
     "text": [
      "kamlesh\n"
     ]
    }
   ],
   "source": [
    "a=\"kamlesh\"\n",
    "print(a)"
   ]
  },
  {
   "cell_type": "code",
   "execution_count": 6,
   "metadata": {},
   "outputs": [
    {
     "name": "stdout",
     "output_type": "stream",
     "text": [
      "kamlesh kumar\n"
     ]
    }
   ],
   "source": [
    "q=\"kamlesh\"\n",
    "p=\"kumar\"\n",
    "print(q,p)"
   ]
  },
  {
   "cell_type": "code",
   "execution_count": 8,
   "metadata": {},
   "outputs": [
    {
     "name": "stdout",
     "output_type": "stream",
     "text": [
      "kamleshkumar\n"
     ]
    }
   ],
   "source": [
    "x=\"kamlesh\"\n",
    "y='kumar'\n",
    "z=x+y\n",
    "print(z)"
   ]
  },
  {
   "cell_type": "code",
   "execution_count": 11,
   "metadata": {},
   "outputs": [
    {
     "name": "stdout",
     "output_type": "stream",
     "text": [
      "10 kamlesh\n"
     ]
    }
   ],
   "source": [
    "a=10\n",
    "b='kamlesh'\n",
    "print(a,b)"
   ]
  },
  {
   "cell_type": "code",
   "execution_count": 13,
   "metadata": {},
   "outputs": [
    {
     "name": "stdout",
     "output_type": "stream",
     "text": [
      "15\n"
     ]
    }
   ],
   "source": [
    "a=5\n",
    "b=10\n",
    "c=a+b\n",
    "print(c)"
   ]
  },
  {
   "cell_type": "code",
   "execution_count": 26,
   "metadata": {},
   "outputs": [
    {
     "name": "stdout",
     "output_type": "stream",
     "text": [
      "kamlesh\n",
      "kumar\n",
      "prajapat\n",
      "bassi\n"
     ]
    }
   ],
   "source": [
    "a,b,c,d='kamlesh','kumar','prajapat','bhudla'\n",
    "print(a)\n",
    "# print(d)\n",
    "print(b)\n",
    "print(c)\n",
    "d=\"bassi\"\n",
    "print(d)"
   ]
  },
  {
   "cell_type": "code",
   "execution_count": 27,
   "metadata": {},
   "outputs": [
    {
     "name": "stdout",
     "output_type": "stream",
     "text": [
      "bassi\n"
     ]
    }
   ],
   "source": [
    "a=\"kamlesh\"\n",
    "a=\"bassi\"\n",
    "print(a)"
   ]
  },
  {
   "cell_type": "code",
   "execution_count": 29,
   "metadata": {},
   "outputs": [
    {
     "name": "stdout",
     "output_type": "stream",
     "text": [
      "enter your namekamlesh\n",
      "your name is  kamlesh\n"
     ]
    }
   ],
   "source": [
    "# input\n",
    "a=input(\"enter your name\")\n",
    "print(\"your name is \",a)"
   ]
  },
  {
   "cell_type": "code",
   "execution_count": 32,
   "metadata": {},
   "outputs": [
    {
     "name": "stdout",
     "output_type": "stream",
     "text": [
      "enter your frist name kamlesh\n",
      "enter your second name kumar\n",
      "your name is  kamleshkumar\n"
     ]
    }
   ],
   "source": [
    "a=input(\"enter your frist name \")\n",
    "b=input(\"enter your second name \")\n",
    "print(\"your name is \", a+b)"
   ]
  },
  {
   "cell_type": "code",
   "execution_count": 34,
   "metadata": {},
   "outputs": [
    {
     "name": "stdout",
     "output_type": "stream",
     "text": [
      "enter your no 6569+\n",
      "enter your second no 3\n",
      "your no is  6569+3\n"
     ]
    }
   ],
   "source": [
    "a=input(\"enter your no \")\n",
    "b=input(\"enter your second no \")\n",
    "print(\"your no is \",a+b)"
   ]
  },
  {
   "cell_type": "code",
   "execution_count": 36,
   "metadata": {},
   "outputs": [
    {
     "name": "stdout",
     "output_type": "stream",
     "text": [
      "enter your frist no 36\n",
      "enter your second no 36\n",
      "your no is  72\n"
     ]
    }
   ],
   "source": [
    "a=int(input(\"enter your frist no \"))\n",
    "b=int(input (\"enter your second no \"))\n",
    "print(\"your no is \" ,a+b)"
   ]
  },
  {
   "cell_type": "code",
   "execution_count": 38,
   "metadata": {},
   "outputs": [
    {
     "name": "stdout",
     "output_type": "stream",
     "text": [
      "'kamlesh kumar'\n"
     ]
    }
   ],
   "source": [
    "k=\"'kamlesh kumar'\"\n",
    "print(k)"
   ]
  },
  {
   "cell_type": "code",
   "execution_count": 40,
   "metadata": {},
   "outputs": [
    {
     "name": "stdout",
     "output_type": "stream",
     "text": [
      "\"kamlesh kumar\"\n"
     ]
    }
   ],
   "source": [
    "k='\"kamlesh kumar\"'\n",
    "print(k)"
   ]
  },
  {
   "cell_type": "code",
   "execution_count": 44,
   "metadata": {},
   "outputs": [
    {
     "name": "stdout",
     "output_type": "stream",
     "text": [
      "\n",
      "kamlesh\n",
      "kumar \n",
      "prajapat\n",
      "\n"
     ]
    }
   ],
   "source": [
    "k='''\n",
    "kamlesh\n",
    "kumar \n",
    "prajapat\n",
    "'''\n",
    "print(k)"
   ]
  },
  {
   "cell_type": "code",
   "execution_count": 46,
   "metadata": {},
   "outputs": [
    {
     "name": "stdout",
     "output_type": "stream",
     "text": [
      "kamlesh\n",
      "kumar\n",
      "prajapat\n",
      "\n"
     ]
    }
   ],
   "source": [
    "k=\"\"\"kamlesh\n",
    "kumar\n",
    "prajapat\n",
    "\"\"\"\n",
    "print(k)"
   ]
  },
  {
   "cell_type": "code",
   "execution_count": 48,
   "metadata": {},
   "outputs": [
    {
     "name": "stdout",
     "output_type": "stream",
     "text": [
      "kamlesh\n",
      " kumar\n"
     ]
    }
   ],
   "source": [
    "k=\"kamlesh\\n kumar\"\n",
    "print(k)"
   ]
  },
  {
   "cell_type": "code",
   "execution_count": 50,
   "metadata": {},
   "outputs": [
    {
     "name": "stdout",
     "output_type": "stream",
     "text": [
      "kamlesh\n",
      "\tkumar\n"
     ]
    }
   ],
   "source": [
    "k=\"kamlesh\\n\\tkumar\"\n",
    "print(k)"
   ]
  },
  {
   "cell_type": "code",
   "execution_count": 52,
   "metadata": {},
   "outputs": [
    {
     "name": "stdout",
     "output_type": "stream",
     "text": [
      "kamlesf\\n\n"
     ]
    }
   ],
   "source": [
    "k=R\"kamlesf\\n\"\n",
    "print(k)"
   ]
  },
  {
   "cell_type": "code",
   "execution_count": 54,
   "metadata": {},
   "outputs": [
    {
     "name": "stdout",
     "output_type": "stream",
     "text": [
      "22\n"
     ]
    }
   ],
   "source": [
    "# indexing in string\n",
    "k=\"kamlesh kumar prajapat\"\n",
    "print(len(k))"
   ]
  },
  {
   "cell_type": "code",
   "execution_count": 1,
   "metadata": {},
   "outputs": [
    {
     "name": "stdout",
     "output_type": "stream",
     "text": [
      "22\n",
      "k\n",
      "t\n",
      " \n",
      "a\n"
     ]
    }
   ],
   "source": [
    "a=\"kamlesh kumar prajapat\"\n",
    "print(len(a))\n",
    "print(a[0])\n",
    "print(a[-1])\n",
    "print(a[7])\n",
    "print(a[11])"
   ]
  },
  {
   "cell_type": "code",
   "execution_count": 62,
   "metadata": {},
   "outputs": [
    {
     "name": "stdout",
     "output_type": "stream",
     "text": [
      "kamlesh kumar prajapat\n"
     ]
    }
   ],
   "source": [
    "a=\"KAMLESH KUMAR PRAJAPAT\"\n",
    "print(a.lower())\n"
   ]
  },
  {
   "cell_type": "code",
   "execution_count": 64,
   "metadata": {},
   "outputs": [
    {
     "name": "stdout",
     "output_type": "stream",
     "text": [
      "KAMLESH KUMAR PRAJAPAT\n"
     ]
    }
   ],
   "source": [
    "a=\"kamlesh kumar prajapat\"\n",
    "print(a.upper())"
   ]
  },
  {
   "cell_type": "code",
   "execution_count": 67,
   "metadata": {},
   "outputs": [
    {
     "name": "stdout",
     "output_type": "stream",
     "text": [
      "kamlesh kumar prajapat\n"
     ]
    }
   ],
   "source": [
    "a=\"  kamlesh kumar prajapat    \"\n",
    "print(a.strip())\n"
   ]
  },
  {
   "cell_type": "code",
   "execution_count": 70,
   "metadata": {},
   "outputs": [
    {
     "name": "stdout",
     "output_type": "stream",
     "text": [
      "kamlesh kumar prajapat\n"
     ]
    }
   ],
   "source": [
    "a=\"kamlesh kumar \"\n",
    "b=\"prajapat\"\n",
    "print(a.lstrip()+b)"
   ]
  },
  {
   "cell_type": "code",
   "execution_count": 73,
   "metadata": {},
   "outputs": [
    {
     "name": "stdout",
     "output_type": "stream",
     "text": [
      "hii kamlesh\n"
     ]
    }
   ],
   "source": [
    "a=\"helo kamlesh\"\n",
    "print(a.replace(\"helo\",\"hii\"))"
   ]
  },
  {
   "cell_type": "code",
   "execution_count": 78,
   "metadata": {},
   "outputs": [
    {
     "name": "stdout",
     "output_type": "stream",
     "text": [
      "['ka', 'lesh']\n"
     ]
    }
   ],
   "source": [
    "a=\"kamlesh\"\n",
    "x=a.split(\"m\")\n",
    "print(x)"
   ]
  },
  {
   "cell_type": "code",
   "execution_count": 80,
   "metadata": {},
   "outputs": [
    {
     "data": {
      "text/plain": [
       "'Kamlesh'"
      ]
     },
     "execution_count": 80,
     "metadata": {},
     "output_type": "execute_result"
    }
   ],
   "source": [
    "a=\"kamlesh\"\n",
    "a.capitalize()"
   ]
  },
  {
   "cell_type": "code",
   "execution_count": 87,
   "metadata": {},
   "outputs": [
    {
     "data": {
      "text/plain": [
       "'a=int((input(\\'enter your age\\')))\\nb=int(input(\\'enter your dob\\'))\\nprint(\"my age is\",a)\\nprint(\"my age is \"a+b(a))\\n'"
      ]
     },
     "execution_count": 87,
     "metadata": {},
     "output_type": "execute_result"
    }
   ],
   "source": [
    "# string format\n",
    "'''a=int((input('enter your age')))\n",
    "b=int(input('enter your dob'))\n",
    "print(\"my age is\",a)\n",
    "print(\"my age is \"a+b(a))\n",
    "'''"
   ]
  },
  {
   "cell_type": "code",
   "execution_count": 90,
   "metadata": {},
   "outputs": [
    {
     "name": "stdout",
     "output_type": "stream",
     "text": [
      "hello kamlesh how are you fine \n"
     ]
    }
   ],
   "source": [
    "x=\"hello {0} how are you {1} \"\n",
    "print(x.format(\"kamlesh\",\"fine\"))"
   ]
  },
  {
   "cell_type": "code",
   "execution_count": 95,
   "metadata": {},
   "outputs": [
    {
     "name": "stdout",
     "output_type": "stream",
     "text": [
      "hii {'hello'} {'kamlesh'}\n"
     ]
    }
   ],
   "source": [
    "a=\"hello\"\n",
    "b=\"kamlesh\"\n",
    "print(F\"hii\",{a},{b})"
   ]
  },
  {
   "cell_type": "code",
   "execution_count": 97,
   "metadata": {},
   "outputs": [
    {
     "name": "stdout",
     "output_type": "stream",
     "text": [
      "the kamlesh live on instagram and facebook\n"
     ]
    }
   ],
   "source": [
    "print(\"the kamlesh live on {} {} {}\".format(\"instagram\",\"and\",\"facebook\"))"
   ]
  },
  {
   "cell_type": "code",
   "execution_count": 103,
   "metadata": {},
   "outputs": [
    {
     "name": "stdout",
     "output_type": "stream",
     "text": [
      "i`m kamlesh kumar form bhudla\n"
     ]
    }
   ],
   "source": [
    "print(\"i`m %s %s form bhudla\" %(\"kamlesh\",\"kumar\"))"
   ]
  },
  {
   "cell_type": "code",
   "execution_count": 106,
   "metadata": {},
   "outputs": [
    {
     "name": "stdout",
     "output_type": "stream",
     "text": [
      "i`m kamlesh my class codesession form bhudla jaipur\n"
     ]
    }
   ],
   "source": [
    "x,y,z,w=\"kamlesh\",\"codesession\",\"bhudla\",\"jaipur\"\n",
    "print(\"i`m %s my class %s form %s %s\"%(x,y,z,w))"
   ]
  },
  {
   "cell_type": "code",
   "execution_count": 2,
   "metadata": {},
   "outputs": [
    {
     "name": "stdout",
     "output_type": "stream",
     "text": [
      "my name is kamlesh \n"
     ]
    }
   ],
   "source": [
    "print('my name is %s '%'kamlesh')"
   ]
  },
  {
   "cell_type": "code",
   "execution_count": 40,
   "metadata": {},
   "outputs": [
    {
     "name": "stdout",
     "output_type": "stream",
     "text": [
      "enter your frist number:5\n",
      "ente your scond number: 5\n",
      "add10 \n",
      " sub 0 \n",
      " mul 25 \n",
      " div 1.0 \n",
      " exponentation 3125 \n",
      " floor dev 1 \n",
      " moudls 0\n"
     ]
    }
   ],
   "source": [
    "# opterators\n",
    "# opterators are youed to perform operation on variable and value\n",
    "num_1=int(input(\"enter your frist number:\"))\n",
    "num_2=int(input(\"ente your scond number: \"))\n",
    "a=num_1\n",
    "b=num_2\n",
    "c=a+b\n",
    "d=a-b\n",
    "e=a*b\n",
    "f=a/b\n",
    "g=a**b\n",
    "h=a//b\n",
    "i=a%b\n",
    "print(f\"add{c}\",\"\\n\",\"sub\",d,\"\\n\",\"mul\",e,\"\\n\",\"div\",f,\"\\n\",\"exponentation\",g,\"\\n\",\"floor dev\",h,\"\\n\",\"moudls\",i)"
   ]
  },
  {
   "cell_type": "code",
   "execution_count": 21,
   "metadata": {},
   "outputs": [
    {
     "name": "stdout",
     "output_type": "stream",
     "text": [
      "100000000000000000000\n"
     ]
    }
   ],
   "source": [
    "a=10\n",
    "a **=20\n",
    "print(a)"
   ]
  },
  {
   "cell_type": "code",
   "execution_count": 34,
   "metadata": {},
   "outputs": [
    {
     "name": "stdout",
     "output_type": "stream",
     "text": [
      "True\n"
     ]
    }
   ],
   "source": [
    "a=20\n",
    "b=20\n",
    "print(a<=b)"
   ]
  },
  {
   "cell_type": "code",
   "execution_count": 45,
   "metadata": {},
   "outputs": [
    {
     "name": "stdout",
     "output_type": "stream",
     "text": [
      "True\n"
     ]
    }
   ],
   "source": [
    "a=10\n",
    "b=2\n",
    "c=10\n",
    "print(b<c and a>b)"
   ]
  },
  {
   "cell_type": "code",
   "execution_count": 49,
   "metadata": {},
   "outputs": [
    {
     "name": "stdout",
     "output_type": "stream",
     "text": [
      "False\n"
     ]
    }
   ],
   "source": [
    "a=3\n",
    "b=4\n",
    "c=1\n",
    "print(a<c or b<c)"
   ]
  },
  {
   "cell_type": "code",
   "execution_count": 54,
   "metadata": {},
   "outputs": [
    {
     "name": "stdout",
     "output_type": "stream",
     "text": [
      "True\n"
     ]
    }
   ],
   "source": [
    "a=10\n",
    "b=20\n",
    "n=5\n",
    "print( not a<n)"
   ]
  },
  {
   "cell_type": "code",
   "execution_count": 60,
   "metadata": {},
   "outputs": [
    {
     "name": "stdout",
     "output_type": "stream",
     "text": [
      "94141861980800\n",
      "94141861980800\n",
      "False\n"
     ]
    }
   ],
   "source": [
    "a=52\n",
    "b=52\n",
    "print(id(a))\n",
    "print(id(b))\n",
    "print(a is not  b)"
   ]
  },
  {
   "cell_type": "code",
   "execution_count": 64,
   "metadata": {},
   "outputs": [
    {
     "name": "stdout",
     "output_type": "stream",
     "text": [
      "False\n"
     ]
    }
   ],
   "source": [
    "k=\"kamlesh\"\n",
    "b=\"ka\"\n",
    "print(b not in k)"
   ]
  },
  {
   "cell_type": "code",
   "execution_count": 5,
   "metadata": {},
   "outputs": [
    {
     "name": "stdout",
     "output_type": "stream",
     "text": [
      "['kamlesh', 'kumar', 'prajapat', 5, 8, 5, 1, 4, 6, 8, 3, 2]\n",
      "12\n",
      "kamlesh\n",
      "2\n",
      "['kamlesh', 'prajapat', 8, 1, 6, 3]\n",
      "before= ['kamlesh', 'kumar', 'prajapat', 5, 8, 5, 1, 4, 6, 8, 3, 2]\n",
      "after= ['kamlesh', 'kumar', 'prajapat', 'bhudla', 8, 5, 1, 4, 6, 8, 3, 2]\n"
     ]
    }
   ],
   "source": [
    "# collection data type\n",
    "name=[\"kamlesh\",\"kumar\",\"prajapat\",5,8,5,1,4,6,8,3,2]\n",
    "print(name)\n",
    "print(len(name))\n",
    "print(name[0])\n",
    "print(name[-1])\n",
    "print(name[0:12:2])\n",
    "print('before=',name)\n",
    "name[3]=\"bhudla\"\n",
    "print('after=',name)"
   ]
  },
  {
   "cell_type": "code",
   "execution_count": 7,
   "metadata": {},
   "outputs": [
    {
     "name": "stdout",
     "output_type": "stream",
     "text": [
      "['kamlesh', 'kumar', 'prajapat']\n"
     ]
    }
   ],
   "source": [
    "name=['kamlesh','kumar']\n",
    "name.append(\"prajapat\")\n",
    "print(name)"
   ]
  },
  {
   "cell_type": "code",
   "execution_count": 3,
   "metadata": {},
   "outputs": [
    {
     "name": "stdout",
     "output_type": "stream",
     "text": [
      "['kamlesh', 'kumar', 'prajapat']\n"
     ]
    }
   ],
   "source": [
    "name=[\"kamlesh\",\"kumar\"]\n",
    "name.insert(2,\"prajapat\")\n",
    "print(name)\n"
   ]
  },
  {
   "cell_type": "code",
   "execution_count": 6,
   "metadata": {},
   "outputs": [
    {
     "name": "stdout",
     "output_type": "stream",
     "text": [
      "['kamlesh', 'kumar', 'prajapat']\n"
     ]
    }
   ],
   "source": [
    "name=[\"kamlesh\",\"kumar\",\"prajapat\",\"bhudla\"]\n",
    "name.remove(\"bhudla\")\n",
    "print(name)"
   ]
  },
  {
   "cell_type": "code",
   "execution_count": 9,
   "metadata": {},
   "outputs": [
    {
     "name": "stdout",
     "output_type": "stream",
     "text": [
      "['kamlesh', 'prajapat']\n"
     ]
    }
   ],
   "source": [
    "name=[\"kamlesh\",\"kumar\",\"prajapat\"]\n",
    "name.pop(1)\n",
    "print(name)"
   ]
  },
  {
   "cell_type": "code",
   "execution_count": 16,
   "metadata": {},
   "outputs": [
    {
     "name": "stdout",
     "output_type": "stream",
     "text": [
      "['kamlesh', 'prajapat']\n"
     ]
    }
   ],
   "source": [
    "name=[\"kamlesh\",\"kumar\",\"prajapat\"]\n",
    "del name[1]\n",
    "print(name)"
   ]
  },
  {
   "cell_type": "code",
   "execution_count": 19,
   "metadata": {},
   "outputs": [
    {
     "name": "stdout",
     "output_type": "stream",
     "text": [
      "['kamlesh', 'kumar', 'prajapt']\n"
     ]
    }
   ],
   "source": [
    "name=[\"kamlesh\",\"kumar\",\"prajapt\"]\n",
    "this=name.copy()\n",
    "print(this)"
   ]
  },
  {
   "cell_type": "code",
   "execution_count": 22,
   "metadata": {},
   "outputs": [
    {
     "name": "stdout",
     "output_type": "stream",
     "text": [
      "['kamlesh', 'kumar', 'prajapat']\n"
     ]
    }
   ],
   "source": [
    "name=['kamlesh','kumar','prajapat']\n",
    "this=list(name)\n",
    "print(name)"
   ]
  },
  {
   "cell_type": "code",
   "execution_count": 25,
   "metadata": {},
   "outputs": [
    {
     "name": "stdout",
     "output_type": "stream",
     "text": [
      "1\n"
     ]
    }
   ],
   "source": [
    "name=[\"kamlesh\",\"kumar\",\"prajapat\"]\n",
    "x=name.count(\"kamlesh\")\n",
    "print(x)"
   ]
  },
  {
   "cell_type": "code",
   "execution_count": 29,
   "metadata": {},
   "outputs": [
    {
     "name": "stdout",
     "output_type": "stream",
     "text": [
      "2\n"
     ]
    }
   ],
   "source": [
    "name=[\"kamlesh\",\"kumar\",\"prajapat\"]\n",
    "x=name.index('prajapat')\n",
    "print(x)"
   ]
  },
  {
   "cell_type": "code",
   "execution_count": 33,
   "metadata": {},
   "outputs": [
    {
     "name": "stdout",
     "output_type": "stream",
     "text": [
      "['kamlesh', 'kumar', 'prajapat', 9587439122, 9529086970]\n"
     ]
    }
   ],
   "source": [
    " name=[\"kamlesh\",\"kumar\",\"prajapat\"]\n",
    "number=(9587439122,9529086970)\n",
    "name.extend(number)\n",
    "print(name)"
   ]
  },
  {
   "cell_type": "code",
   "execution_count": 35,
   "metadata": {},
   "outputs": [
    {
     "name": "stdout",
     "output_type": "stream",
     "text": [
      "['prajapat', 'kumar', 'kamlesh']\n"
     ]
    }
   ],
   "source": [
    "name=[\"kamlesh\",\"kumar\",\"prajapat\"]\n",
    "name.reverse()\n",
    "print(name)"
   ]
  },
  {
   "cell_type": "code",
   "execution_count": 42,
   "metadata": {},
   "outputs": [
    {
     "name": "stdout",
     "output_type": "stream",
     "text": [
      "['a', 'b', 'c', 'd', 'e', 'f', 'g', 'h', 'i', 'j', 'k', 'l', 'm', 'n', 'o', 'p', 'q', 'r', 's', 't', 'u', 'v', 'w', 'x', 'y', 'z']\n",
      "26\n"
     ]
    }
   ],
   "source": [
    "name=['s','d','r','f','a','c','x','z','v','b','n','m','l','k','j','h','g','p','o','i','y','t','e','w','q','u']\n",
    "name.sort()\n",
    "print(name)\n",
    "print(len(name))"
   ]
  },
  {
   "cell_type": "code",
   "execution_count": 1,
   "metadata": {},
   "outputs": [
    {
     "name": "stdout",
     "output_type": "stream",
     "text": [
      "heloo\n"
     ]
    }
   ],
   "source": [
    "if 6<5:\n",
    "    print(\"hiii\")\n",
    "else:\n",
    "    print(\"heloo\")"
   ]
  },
  {
   "cell_type": "code",
   "execution_count": 1,
   "metadata": {},
   "outputs": [
    {
     "name": "stdout",
     "output_type": "stream",
     "text": [
      "{'c', 'd', 'b', 'a'}\n",
      "{'a', 'e', 'c', 'd', 'b'}\n",
      "{'a', 'c', 'd', 'b'}\n",
      "{'c', 'd', 'b'}\n",
      "{'d', 'b'}\n",
      "set()\n",
      "no\n"
     ]
    }
   ],
   "source": [
    "# set data type\n",
    "a={'a','b','c'}\n",
    "a.add(\"d\")\n",
    "print(a)\n",
    "a.update(\"e\")\n",
    "print(a)\n",
    "a.remove(\"e\")\n",
    "print(a)\n",
    "a.discard(\"a\")\n",
    "print(a)\n",
    "a.pop()\n",
    "print(a)\n",
    "a.clear()\n",
    "print(a)\n",
    "# set={2,4,7,8,9,6,3,2,1}\n",
    "# for x in set:\n",
    "#     print(x)\n",
    "set1={1,2,3,4,56,7,89,}\n",
    "if 10 in set1:\n",
    "        print(\"yes\")\n",
    "else:\n",
    "    print(\"no\")"
   ]
  },
  {
   "cell_type": "code",
   "execution_count": 3,
   "metadata": {},
   "outputs": [
    {
     "name": "stdout",
     "output_type": "stream",
     "text": [
      "{1: 'kamlesh', 2: 'kumar', 3: 'prajapat', 4: 'bhudla', 5: 'bassi', 6: 'jaipur'}\n"
     ]
    }
   ],
   "source": [
    "# extera\n",
    "# update dict\n",
    "dict={1:'kamlesh',2:'kumar',3:'prajapat'}\n",
    "dict1={4:'bhudla',5:'bassi',6:'jaipur'}\n",
    "dict.update(dict1)\n",
    "print(dict)"
   ]
  },
  {
   "cell_type": "code",
   "execution_count": 4,
   "metadata": {},
   "outputs": [
    {
     "name": "stdout",
     "output_type": "stream",
     "text": [
      "kamlesh\n",
      "{'class': 10, 'village': 'rajwas', 'name': 'kamlesh', 'kamlesh': 'gunu', 'fullname': 'kamlesh kumar prajapat'}\n"
     ]
    }
   ],
   "source": [
    "# get in dict\n",
    "a={'class':3,'village':'bhudla',\"name\":\"kamlesh\"}\n",
    "name=a.get('name')\n",
    "print(name)\n",
    "a['class']=10\n",
    "a['village']='rajwas'\n",
    "a[name]='gunu'\n",
    "a['fullname']='kamlesh kumar prajapat'\n",
    "print(a)"
   ]
  },
  {
   "cell_type": "code",
   "execution_count": 8,
   "metadata": {},
   "outputs": [
    {
     "name": "stdout",
     "output_type": "stream",
     "text": [
      "sorry data not found\n"
     ]
    }
   ],
   "source": [
    "set={'kamlesh','shyam','ram'}\n",
    "if 'teena' in set:\n",
    "    print(\"yes ram is here \")\n",
    "else:\n",
    "    print(\"sorry data not found\")"
   ]
  },
  {
   "cell_type": "code",
   "execution_count": 12,
   "metadata": {},
   "outputs": [
    {
     "name": "stdout",
     "output_type": "stream",
     "text": [
      "1\n",
      "2\n",
      "k.t\n",
      "5\n"
     ]
    }
   ],
   "source": [
    "set={1,2,5,'k.t'}\n",
    "for x in set:\n",
    "    print(x)"
   ]
  },
  {
   "cell_type": "code",
   "execution_count": 16,
   "metadata": {},
   "outputs": [
    {
     "name": "stdout",
     "output_type": "stream",
     "text": [
      "13\n",
      "set()\n"
     ]
    }
   ],
   "source": [
    "set={1,25,4,8,96,58,589,33568,689+9,2595,2659+56,897679887,56}\n",
    "print(len(set))\n",
    "set.clear()\n",
    "print(set)"
   ]
  },
  {
   "cell_type": "code",
   "execution_count": 36,
   "metadata": {},
   "outputs": [
    {
     "name": "stdout",
     "output_type": "stream",
     "text": [
      "False\n"
     ]
    }
   ],
   "source": [
    "# issuperset\n",
    "set={4,2,5,8}\n",
    "set1={4,2,5,86,}\n",
    "set2={2,4,5,86,90}\n",
    "a=set1.issuperset(set2)\n",
    "print(a)"
   ]
  },
  {
   "cell_type": "code",
   "execution_count": 43,
   "metadata": {},
   "outputs": [
    {
     "name": "stdout",
     "output_type": "stream",
     "text": [
      "True\n"
     ]
    }
   ],
   "source": [
    "# issubset\n",
    "a={258,54,87}\n",
    "b={258,54,87}\n",
    "c=a.issubset(b)\n",
    "print(c)"
   ]
  },
  {
   "cell_type": "code",
   "execution_count": 52,
   "metadata": {},
   "outputs": [
    {
     "name": "stdout",
     "output_type": "stream",
     "text": [
      "False\n"
     ]
    }
   ],
   "source": [
    "# isdisjoint\n",
    "a={5,8,9}\n",
    "b={5,8,}\n",
    "c=a.isdisjoint(b)\n",
    "print(c)"
   ]
  },
  {
   "cell_type": "code",
   "execution_count": 54,
   "metadata": {},
   "outputs": [
    {
     "name": "stdout",
     "output_type": "stream",
     "text": [
      "{1, 36897, 4, 5, 7, 8, 12, 245, 4725749, 24}\n"
     ]
    }
   ],
   "source": [
    "a={1,5,24,5,12,4,245,}\n",
    "b={1,8,5,7,36897,4725749,}\n",
    "c=a.union(b)\n",
    "print(c)"
   ]
  },
  {
   "cell_type": "code",
   "execution_count": 58,
   "metadata": {},
   "outputs": [
    {
     "name": "stdout",
     "output_type": "stream",
     "text": [
      "None\n"
     ]
    }
   ],
   "source": [
    "a={'k','v','s','r'}\n",
    "b={'j','s','d','e'}\n",
    "c=a.intersection_update(b)\n",
    "print(c)"
   ]
  },
  {
   "cell_type": "code",
   "execution_count": 61,
   "metadata": {},
   "outputs": [
    {
     "name": "stdout",
     "output_type": "stream",
     "text": [
      "{1, 35, 5}\n"
     ]
    }
   ],
   "source": [
    "a={1,5,3,68,4,35}\n",
    "b={1,5,2,35,1}\n",
    "c=a.intersection(b)\n",
    "print(c)"
   ]
  },
  {
   "cell_type": "code",
   "execution_count": 79,
   "metadata": {},
   "outputs": [
    {
     "name": "stdout",
     "output_type": "stream",
     "text": [
      "{1, 2, 4, 5, 40, 59}\n"
     ]
    }
   ],
   "source": [
    "# a={1,5,8,6,64}\n",
    "b={1,5,4,59,5,2}\n",
    "# c=b.difference_update(a)\n",
    "# print(c)\n",
    "# a.discard(35)\n",
    "# print(a\n",
    "# b.remove(4)\n",
    "b.add(40)\n",
    "# b.update(4)\n",
    "print(b)"
   ]
  },
  {
   "cell_type": "code",
   "execution_count": 83,
   "metadata": {},
   "outputs": [
    {
     "name": "stdout",
     "output_type": "stream",
     "text": [
      "{'a', 'k', 'm', 'kamlesh', 'u', 'r'}\n"
     ]
    }
   ],
   "source": [
    "a={'kamlesh'}\n",
    "a.update(\"kumar\")\n",
    "print(a)"
   ]
  }
 ],
 "metadata": {
  "kernelspec": {
   "display_name": "Python 3",
   "language": "python",
   "name": "python3"
  },
  "language_info": {
   "codemirror_mode": {
    "name": "ipython",
    "version": 3
   },
   "file_extension": ".py",
   "mimetype": "text/x-python",
   "name": "python",
   "nbconvert_exporter": "python",
   "pygments_lexer": "ipython3",
   "version": "3.7.3"
  }
 },
 "nbformat": 4,
 "nbformat_minor": 2
}
