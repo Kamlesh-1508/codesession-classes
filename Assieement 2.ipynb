{
 "cells": [
  {
   "cell_type": "code",
   "execution_count": 1,
   "metadata": {},
   "outputs": [
    {
     "name": "stdout",
     "output_type": "stream",
     "text": [
      "Enter your choice::yes\n",
      "shutting down\n"
     ]
    }
   ],
   "source": [
    "# Exercise 1\n",
    "# Write a shutting down program:\n",
    "# First, def a function, shut_down, that takes one argument s.\n",
    "# Then, if the shut_down function receives an s equal to \"yes\",\n",
    "# it should return \"Shutting down\" Alternatively, elif s is equal to \"no\",\n",
    "# then the function should return \"Shutdown aborted\".\n",
    "# Finally, if shut_down gets anything other than those inputs,\n",
    "# the function should return \"Sorry\".\n",
    "def shut_down(*s):\n",
    "    s=input(\"Enter your choice::\")\n",
    "    if s==\"yes\":\n",
    "        print(\"shutting down\")\n",
    "    elif s==\"no\":\n",
    "        print(\"shutdown abrted\")\n",
    "    else:\n",
    "        print(\"sorry\")\n",
    "shut_down()"
   ]
  },
  {
   "cell_type": "code",
   "execution_count": 2,
   "metadata": {},
   "outputs": [
    {
     "name": "stdout",
     "output_type": "stream",
     "text": [
      "3.3\n"
     ]
    }
   ],
   "source": [
    "# Exercise 2\n",
    "# First, def a function called distance_from_zero,\n",
    "# with one argument (choose any argument name you like).\n",
    "# If the type of the argument is either int or float, the function should return\n",
    "# the absolute value of the function input. Otherwise, the function should return \"Nope\".\n",
    "def distance_from_zero(No1):\n",
    "    if type (No1) == int or type(No1) == float:\n",
    "        return (No1)\n",
    "    else:\n",
    "        return \"Nope\"\n",
    "print( distance_from_zero(3.3))"
   ]
  },
  {
   "cell_type": "code",
   "execution_count": 3,
   "metadata": {},
   "outputs": [
    {
     "name": "stdout",
     "output_type": "stream",
     "text": [
      "input your nights::5\n",
      "cost= 700\n",
      "Enter your city name  Charlotte ,Tampa ,Pittsburgh,Los Angeles::Tampa\n",
      "cost=220\n",
      "Enter your dayes::5\n",
      "180\n"
     ]
    }
   ],
   "source": [
    "# Exercise 3\n",
    "# Let's use functions to calculate your trip's costs:\n",
    "\n",
    "# Define a function called hotel_cost with one argument nights as input.\n",
    "# The hotel costs $140 per night. So, the function hotel_cost should return 140 * nights.\n",
    "# Define a function called plane_ride_cost that takes a string, city, as input.\n",
    "# The function should return a different price depending on the location.\n",
    "# Below are the valid destinations and their corresponding round-trip prices.\n",
    "\n",
    "# \"Charlotte\": 183\n",
    "# \"Tampa\": 220\n",
    "# \"Pittsburgh\": 222\n",
    "# \"Los Angeles\": 475\n",
    "# -Below your existing code, define a function called rental_car_cost with an argument called days. Calculate the cost of renting the car: Every day you rent the car costs $40.(cost=40*days) if you rent the car for 7 or more days, you get $50 off your total(cost-=50). Alternatively (elif), if you rent the car for 3 or more days, you get $20 off your total. You cannot get both of the above discounts. Return that cost. -Then, define a function called trip_cost that takes two arguments, city and days. Like the example above, have your function return the sum of calling the rental_car_cost(days), hotel_cost(days), and plane_ride_cost(city) functions.\n",
    "# Modify your trip_cost function definion. Add a third argument, spending_money. Modify what the trip_cost function does. Add the variable `spending_money to the sum that it returns.\n",
    "def hotel_cost(*nights):\n",
    "    nights=int(input(\"input your nights::\"))\n",
    "    costs = 140*nights\n",
    "    print(\"cost=\",costs)\n",
    "hotel_cost()\n",
    "def plane_ride_cost(*city):\n",
    "    city=input(\"Enter your city name  Charlotte ,Tampa ,Pittsburgh,Los Angeles::\")\n",
    "    if city==\"Charlotte\":\n",
    "        print(\"cost==183\")\n",
    "    elif city==\"Tampa\":\n",
    "        print(\"cost=220\")\n",
    "    elif city==\"Pittsburgh\":\n",
    "        print(\"cost==222\")\n",
    "    elif city==\"Los Angeles\":\n",
    "        print(\"cost==475\")\n",
    "    else:\n",
    "        print(\"invailed\")\n",
    "plane_ride_cost()\n",
    "def rental_car_cost(days):\n",
    "    costs = 40*days\n",
    "    if days >= 7:\n",
    "        costs -=50\n",
    "    elif days >=3:\n",
    "        costs -=20\n",
    "    else:\n",
    "        print(\"invailed\")\n",
    "    return costs\n",
    "a=int(input(\"Enter your dayes::\"))\n",
    "print(rental_car_cost(a))"
   ]
  },
  {
   "cell_type": "code",
   "execution_count": 7,
   "metadata": {},
   "outputs": [
    {
     "name": "stdout",
     "output_type": "stream",
     "text": [
      "Enter number5\n",
      "125\n",
      "False\n"
     ]
    }
   ],
   "source": [
    "# Exercise 4\n",
    "# Follow the steps:\n",
    "# First, def a function called cube that takes an argument called number.\n",
    "# Make that function return the cube of that number (i.e. that number multiplied by itself and multiplied by itself once again).\n",
    "# Define a second function called by_three that takes an argument called number.\n",
    "# if that number is divisible by 3,by_threeshould call cube(number) and return its result.\n",
    "# Otherwise, by_three should return False. -Check if it works.\n",
    "\n",
    "def cube(number):\n",
    "    total = number**3\n",
    "    return total\n",
    "number =int(input(\"Enter number\"))\n",
    "print(cube(number))\n",
    "def by_three(total):\n",
    "    if total % 3 == 0:\n",
    "        return total\n",
    "    else:\n",
    "        return(False)\n",
    "print(by_three(number))"
   ]
  }
 ],
 "metadata": {
  "kernelspec": {
   "display_name": "Python 3",
   "language": "python",
   "name": "python3"
  },
  "language_info": {
   "codemirror_mode": {
    "name": "ipython",
    "version": 3
   },
   "file_extension": ".py",
   "mimetype": "text/x-python",
   "name": "python",
   "nbconvert_exporter": "python",
   "pygments_lexer": "ipython3",
   "version": "3.7.3"
  }
 },
 "nbformat": 4,
 "nbformat_minor": 2
}
