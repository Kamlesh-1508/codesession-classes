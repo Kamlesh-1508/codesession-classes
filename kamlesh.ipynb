{
 "cells": [
  {
   "cell_type": "code",
   "execution_count": 2,
   "metadata": {},
   "outputs": [
    {
     "name": "stdout",
     "output_type": "stream",
     "text": [
      "enter your frist name::kamlesh\n",
      "enter your last name::prajapat\n",
      "your name is:: kamlesh prajapat\n"
     ]
    }
   ],
   "source": [
    "def function(*string):\n",
    "    a=input(\"enter your frist name::\")\n",
    "    b=input(\"enter your last name::\")\n",
    "    print(\"your name is::\",a,b)\n",
    "function()"
   ]
  }
 ],
 "metadata": {
  "kernelspec": {
   "display_name": "Python 3",
   "language": "python",
   "name": "python3"
  },
  "language_info": {
   "codemirror_mode": {
    "name": "ipython",
    "version": 3
   },
   "file_extension": ".py",
   "mimetype": "text/x-python",
   "name": "python",
   "nbconvert_exporter": "python",
   "pygments_lexer": "ipython3",
   "version": "3.7.3"
  }
 },
 "nbformat": 4,
 "nbformat_minor": 2
}
