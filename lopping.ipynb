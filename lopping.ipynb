{
 "cells": [
  {
   "cell_type": "code",
   "execution_count": 1,
   "metadata": {},
   "outputs": [
    {
     "name": "stdout",
     "output_type": "stream",
     "text": [
      "1 2 3 4 5 6 7 8 9 10 11 12 13 14 15 16 17 18 19 20 21 22 23 24 25 26 27 28 29 30 31 32 33 34 35 36 37 38 39 40 41 42 43 44 45 46 47 48 49 50 51 52 53 54 55 56 57 58 59 60 61 62 63 64 65 66 67 68 69 70 71 72 73 74 75 76 77 78 79 80 81 82 83 84 85 86 87 88 89 90 91 92 93 94 95 96 97 98 99 "
     ]
    }
   ],
   "source": [
    "for i in range(1,100):\n",
    "    print(f\"{i}\",end=\" \")"
   ]
  },
  {
   "cell_type": "code",
   "execution_count": 3,
   "metadata": {},
   "outputs": [
    {
     "name": "stdout",
     "output_type": "stream",
     "text": [
      "3 3\n",
      "6 0\n",
      "9 1\n"
     ]
    }
   ],
   "source": [
    "a=[4,5,2,3,6,9,8,4,]\n",
    "b=len(a)\n",
    "for i in range(b):\n",
    "    if a[i]%3==0:\n",
    "        print(a[i],end=\" \")\n",
    "        print(a.index(i))\n"
   ]
  },
  {
   "cell_type": "code",
   "execution_count": 4,
   "metadata": {},
   "outputs": [
    {
     "name": "stdout",
     "output_type": "stream",
     "text": [
      "100 * 90 * 80 * 70 * 60 * 50 * 40 * 30 * 20 * 10 * "
     ]
    }
   ],
   "source": [
    "for i in range(100,0,-10):\n",
    "    print(i,\"*\",end=\" \")"
   ]
  },
  {
   "cell_type": "code",
   "execution_count": 3,
   "metadata": {},
   "outputs": [
    {
     "name": "stdout",
     "output_type": "stream",
     "text": [
      "1 \n",
      "1 2 \n",
      "1 2 3 \n",
      "1 2 3 4 \n",
      "1 2 3 4 5 \n",
      "1 2 3 4 5 6 \n",
      "1 2 3 4 5 6 7 \n",
      "1 2 3 4 5 6 7 8 \n",
      "1 2 3 4 5 6 7 8 9 \n",
      "1 2 3 4 5 6 7 8 9 10 \n"
     ]
    }
   ],
   "source": [
    "a=1\n",
    "while(a<=10):\n",
    "    i=1\n",
    "    while(i<=a):\n",
    "        print(i,end=\" \")\n",
    "        i=i+1\n",
    "    a=a+1\n",
    "    print('')"
   ]
  },
  {
   "cell_type": "code",
   "execution_count": 3,
   "metadata": {},
   "outputs": [
    {
     "name": "stdout",
     "output_type": "stream",
     "text": [
      "enter your number:5\n",
      "1 \n",
      "2 2 \n",
      "3 3 3 \n",
      "4 4 4 4 \n",
      "5 5 5 5 5 \n"
     ]
    }
   ],
   "source": [
    "n=int(input(\"enter your number:\"))\n",
    "i=1\n",
    "while(i<=n):\n",
    "    a=1\n",
    "    while(a<=i):\n",
    "        print(i,end=\" \")\n",
    "        a+=1\n",
    "    i+=1\n",
    "    print('')"
   ]
  },
  {
   "cell_type": "code",
   "execution_count": 22,
   "metadata": {},
   "outputs": [
    {
     "name": "stdout",
     "output_type": "stream",
     "text": [
      "apple\n"
     ]
    }
   ],
   "source": [
    "fruits = [\"apple\", \"banana\", \"cherry\"]\n",
    "for x in fruits:\n",
    "  if x == \"banana\":\n",
    "    break\n",
    "  print(x)"
   ]
  },
  {
   "cell_type": "code",
   "execution_count": 25,
   "metadata": {},
   "outputs": [
    {
     "name": "stdout",
     "output_type": "stream",
     "text": [
      "kamlesh\n",
      "kumar\n"
     ]
    }
   ],
   "source": [
    "list_1=[\"kamlesh\",\"kumar\",\"prajapat\"]\n",
    "for i in list_1:\n",
    "   if i == \"prajapat\":\n",
    "    break\n",
    "   print(i)"
   ]
  },
  {
   "cell_type": "code",
   "execution_count": 33,
   "metadata": {},
   "outputs": [
    {
     "name": "stdout",
     "output_type": "stream",
     "text": [
      "kamlesh\n",
      "prajapat\n",
      "<class 'tuple'>\n"
     ]
    }
   ],
   "source": [
    "tuple=(\"kamlesh\",\"kumar\",\"prajapat\")\n",
    "for x in tuple:\n",
    "   if x == \"kumar\":\n",
    "    continue\n",
    "   print(x)\n",
    "print(type(tuple))"
   ]
  },
  {
   "cell_type": "code",
   "execution_count": 2,
   "metadata": {},
   "outputs": [
    {
     "name": "stdout",
     "output_type": "stream",
     "text": [
      "1 2 3 4 5 6 7 8 9 10 "
     ]
    }
   ],
   "source": [
    "list_1={1,2,3,4,5,6,7,8,9,10}\n",
    "for i in list_1:\n",
    " if i== 2:\n",
    "   if i == 5:\n",
    "    continue\n",
    " print(i,end=\" \")"
   ]
  },
  {
   "cell_type": "code",
   "execution_count": 9,
   "metadata": {},
   "outputs": [
    {
     "name": "stdout",
     "output_type": "stream",
     "text": [
      "guess a number between 1 and 10 until you get it right : 0\n",
      "well guessed! "
     ]
    }
   ],
   "source": [
    "guess_num=int(input(\"guess a number between 1 and 10 until you get it right : \"))\n",
    "target_num=0\n",
    "while(target_num<=guess_num):\n",
    "    print(\"well guessed!\",end=\" \")\n",
    "    target_num+=1"
   ]
  },
  {
   "cell_type": "code",
   "execution_count": 56,
   "metadata": {},
   "outputs": [
    {
     "name": "stdout",
     "output_type": "stream",
     "text": [
      "\n",
      "* \n",
      "* * \n",
      "* * * \n",
      "* * * * \n",
      "* * * * * \n",
      "* * * * \n",
      "* * * \n",
      "* * \n",
      "* \n"
     ]
    }
   ],
   "source": [
    "# Write a Python program to construct the following pattern, using a nested for loop.\n",
    "\n",
    "# * \n",
    "# * * \n",
    "# * * * \n",
    "# * * * * \n",
    "# * * * * * \n",
    "# * * * * \n",
    "# * * * \n",
    "# * * \n",
    "# # \n",
    "for i in range(5):\n",
    "    for j in range(i):\n",
    "        print(\"*\",end=\" \")\n",
    "    print('')\n",
    "for i in range(n,0,-1):\n",
    "    for j in range(i):\n",
    "         print(\"*\",end=\" \")\n",
    "    print('')\n",
    "            \n",
    "      "
   ]
  },
  {
   "cell_type": "code",
   "execution_count": 1,
   "metadata": {},
   "outputs": [
    {
     "name": "stdout",
     "output_type": "stream",
     "text": [
      "\n",
      "1 \n",
      "2 2 \n",
      "3 3 3 \n",
      "4 4 4 4 \n",
      "5 5 5 5 5 \n",
      "6 6 6 6 6 6 \n",
      "7 7 7 7 7 7 7 \n",
      "8 8 8 8 8 8 8 8 \n",
      "9 9 9 9 9 9 9 9 9 \n",
      "10 10 10 10 10 10 10 10 10 10 \n"
     ]
    }
   ],
   "source": [
    "for i in range (11):\n",
    "    for j in range(i):\n",
    "        print(i,end=\" \")\n",
    "    print('')"
   ]
  },
  {
   "cell_type": "code",
   "execution_count": 1,
   "metadata": {},
   "outputs": [
    {
     "name": "stdout",
     "output_type": "stream",
     "text": [
      "* * * * * * * * * * * \n",
      "* * * * * * * * * * \n",
      "* * * * * * * * * \n",
      "* * * * * * * * \n",
      "* * * * * * * \n",
      "* * * * * * \n",
      "* * * * * \n",
      "* * * * \n",
      "* * * \n",
      "* * \n",
      "* \n"
     ]
    }
   ],
   "source": [
    "for i in range(11,0,-1):\n",
    "    for j in range(i):\n",
    "        print(\"*\",end=\" \")\n",
    "    print('')"
   ]
  },
  {
   "cell_type": "code",
   "execution_count": 10,
   "metadata": {},
   "outputs": [
    {
     "name": "stdout",
     "output_type": "stream",
     "text": [
      "enter your number :5\n",
      "* 1 \n",
      "* 1 * 2 \n",
      "* 1 * 2 * 3 \n",
      "* 1 * 2 * 3 * 4 \n",
      "* 1 * 2 * 3 * 4 * 5 \n"
     ]
    }
   ],
   "source": [
    "n=int(input(\"enter your number :\"))\n",
    "i=1\n",
    "while(i<=n):\n",
    "    a=1\n",
    "    while(a<=i):\n",
    "        print(\"*\",a,end=\" \")\n",
    "        a+=1\n",
    "    i+=1\n",
    "    print('')\n",
    "else:\n",
    "    pass\n",
    "    "
   ]
  },
  {
   "cell_type": "code",
   "execution_count": 26,
   "metadata": {},
   "outputs": [
    {
     "name": "stdout",
     "output_type": "stream",
     "text": [
      "enter your no:10\n",
      "* \n",
      "* * \n",
      "* * * \n",
      "* * * * \n",
      "* * * * * \n",
      "* * * * * * \n",
      "* * * * * * * \n",
      "* * * * * * * * \n",
      "* * * * * * * * * \n",
      "* * * * * * * * * * \n"
     ]
    }
   ],
   "source": [
    "n=int(input(\"enter your no:\"))\n",
    "for i in range(1,n+1):\n",
    "    k=i+1\n",
    "    for k in range(1,k):\n",
    "        print(\"*\",end=\" \")\n",
    "    print('')"
   ]
  },
  {
   "cell_type": "code",
   "execution_count": 8,
   "metadata": {},
   "outputs": [
    {
     "name": "stdout",
     "output_type": "stream",
     "text": [
      "enter your number :5\n",
      "* 5 \n",
      "* 5 * 4 \n",
      "* 5 * 4 * 3 \n",
      "* 5 * 4 * 3 * 2 \n",
      "* 5 * 4 * 3 * 2 * 1 \n"
     ]
    }
   ],
   "source": [
    "n=int(input(\"enter your number :\"))\n",
    "i=n\n",
    "while(i>=1):\n",
    "    a=n\n",
    "    while(a>=i):\n",
    "        print(\"*\",a,end=\" \")\n",
    "        a-=1\n",
    "    i-=1\n",
    "    print('')\n",
    "else:\n",
    "    pass\n"
   ]
  },
  {
   "cell_type": "code",
   "execution_count": 51,
   "metadata": {},
   "outputs": [
    {
     "name": "stdout",
     "output_type": "stream",
     "text": [
      "enter your number :5\n",
      "* 1 \n",
      "* 1 * 2 \n",
      "* 1 * 2 * 3 \n",
      "* 1 * 2 * 3 * 4 \n",
      "* 1 * 2 * 3 * 4 * 5 \n"
     ]
    }
   ],
   "source": [
    "n=int(input(\"enter your number :\"))\n",
    "for i in range(1,n+1):\n",
    "    for j in range (1,i+1):\n",
    "        print(\"*\",j, end=\" \")\n",
    "    print('')"
   ]
  },
  {
   "cell_type": "code",
   "execution_count": 19,
   "metadata": {},
   "outputs": [
    {
     "name": "stdout",
     "output_type": "stream",
     "text": [
      "6 5 4 3 2 1 \n",
      "5 4 3 2 1 \n",
      "4 3 2 1 \n",
      "3 2 1 \n",
      "2 1 \n",
      "error\n"
     ]
    }
   ],
   "source": [
    "for i in range (6,1,-1):\n",
    "    for j in range (i,0,-1):\n",
    "        print(j,end=\" \")\n",
    "    print('')\n",
    "else:\n",
    "    print(\"error\")\n",
    "#     5 4 3 2 1\n",
    "#     5 4 3 2\n",
    "#     5 4 3\n",
    "#     5 4\n",
    "#     5"
   ]
  },
  {
   "cell_type": "code",
   "execution_count": 74,
   "metadata": {},
   "outputs": [
    {
     "name": "stdout",
     "output_type": "stream",
     "text": [
      "enter your minimum number : 1\n",
      "enter your maximum number :10\n",
      "this is even number : 2\n",
      "this is even number : 4\n",
      "this is even number : 6\n",
      "this is even number : 8\n",
      "this is even number : 10\n"
     ]
    }
   ],
   "source": [
    "n=int(input(\"enter your minimum number : \"))\n",
    "k=int(input(\"enter your maximum number :\"))\n",
    "for i in range (n,k+1):\n",
    "    if i % 2 == 0:\n",
    "        print(\"this is even number :\",i)\n",
    "        if i%2==1:\n",
    "            print(\"this is odd number :\")"
   ]
  },
  {
   "cell_type": "code",
   "execution_count": 2,
   "metadata": {},
   "outputs": [
    {
     "name": "stdout",
     "output_type": "stream",
     "text": [
      "enter your minimum  number :1\n",
      "enter your maximum number : 10\n",
      "1 is add  3\n",
      "2 is add  4\n",
      "3 is add  5\n",
      "4 is add  6\n",
      "5 is add  7\n",
      "6 is add  8\n",
      "7 is add  9\n",
      "8 is add  10\n",
      "9 is add  11\n",
      "10 is add  12\n"
     ]
    }
   ],
   "source": [
    "n=int(input(\"enter your minimum  number :\"))\n",
    "k=int(input(\"enter your maximum number : \"))\n",
    "for i in range(n,k+1):\n",
    "    add = i++2\n",
    "    print(i,\"is add \",add)"
   ]
  },
  {
   "cell_type": "code",
   "execution_count": 40,
   "metadata": {},
   "outputs": [
    {
     "name": "stdout",
     "output_type": "stream",
     "text": [
      "10 \n",
      "10 20 \n",
      "10 20 30 \n",
      "10 20 30 40 \n",
      "10 20 30 40 50 \n",
      "10 20 30 40 50 60 \n",
      "10 20 30 40 50 60 70 \n",
      "10 20 30 40 50 60 70 80 \n",
      "10 20 30 40 50 60 70 80 90 \n",
      "10 20 30 40 50 60 70 80 90 100 \n"
     ]
    }
   ],
   "source": [
    "for i in range(10,101,10):\n",
    "    for j in range(10,i+10,10):\n",
    "        print(j,end=\" \")\n",
    "    print('')"
   ]
  },
  {
   "cell_type": "code",
   "execution_count": 51,
   "metadata": {},
   "outputs": [
    {
     "name": "stdout",
     "output_type": "stream",
     "text": [
      "10 20 30 40 50 60 70 80 90 100 110 \n",
      "10 20 30 40 50 60 70 80 90 100 \n",
      "10 20 30 40 50 60 70 80 90 \n",
      "10 20 30 40 50 60 70 80 \n",
      "10 20 30 40 50 60 70 \n",
      "10 20 30 40 50 60 \n",
      "10 20 30 40 50 \n",
      "10 20 30 40 \n",
      "10 20 30 \n",
      "10 20 \n",
      "10 \n"
     ]
    }
   ],
   "source": [
    "for i in range(101,0,-10) :\n",
    "    for j in range(10,i+10,10):\n",
    "        print(j,end=\" \")\n",
    "    print('')"
   ]
  },
  {
   "cell_type": "code",
   "execution_count": 12,
   "metadata": {},
   "outputs": [
    {
     "name": "stdout",
     "output_type": "stream",
     "text": [
      "20 \n",
      "20 19 \n",
      "20 19 18 \n",
      "20 19 18 17 \n",
      "20 19 18 17 16 \n",
      "20 19 18 17 16 15 \n",
      "20 19 18 17 16 15 14 \n",
      "20 19 18 17 16 15 14 13 \n",
      "20 19 18 17 16 15 14 13 12 \n",
      "20 19 18 17 16 15 14 13 12 11 \n",
      "20 19 18 17 16 15 14 13 12 11 10 \n",
      "20 19 18 17 16 15 14 13 12 11 10 9 \n",
      "20 19 18 17 16 15 14 13 12 11 10 9 8 \n",
      "20 19 18 17 16 15 14 13 12 11 10 9 8 7 \n",
      "20 19 18 17 16 15 14 13 12 11 10 9 8 7 6 \n",
      "20 19 18 17 16 15 14 13 12 11 10 9 8 7 6 5 \n",
      "20 19 18 17 16 15 14 13 12 11 10 9 8 7 6 5 4 \n",
      "20 19 18 17 16 15 14 13 12 11 10 9 8 7 6 5 4 3 \n",
      "20 19 18 17 16 15 14 13 12 11 10 9 8 7 6 5 4 3 2 \n",
      "20 19 18 17 16 15 14 13 12 11 10 9 8 7 6 5 4 3 2 1 \n"
     ]
    }
   ],
   "source": [
    "i=20\n",
    "while(i>=1):\n",
    "    a=20\n",
    "    while(a>=i):\n",
    "        print(a,end=\" \")\n",
    "        a=a-1\n",
    "    i=i-1\n",
    "    print('')"
   ]
  },
  {
   "cell_type": "code",
   "execution_count": 33,
   "metadata": {},
   "outputs": [
    {
     "name": "stdout",
     "output_type": "stream",
     "text": [
      "10 \n",
      "10 20 \n",
      "10 20 30 \n",
      "10 20 30 40 \n",
      "10 20 30 40 50 \n",
      "10 20 30 40 50 60 \n",
      "10 20 30 40 50 60 70 \n",
      "10 20 30 40 50 60 70 80 \n",
      "10 20 30 40 50 60 70 80 90 \n",
      "10 20 30 40 50 60 70 80 90 100 \n"
     ]
    }
   ],
   "source": [
    "i=10\n",
    "while i in range(10,101,10):\n",
    "    j=10\n",
    "    while j in range(10,i+10,10):\n",
    "        print(j,end=\" \")\n",
    "        j=j+10\n",
    "    i=i+10\n",
    "    print('')"
   ]
  },
  {
   "cell_type": "code",
   "execution_count": 1,
   "metadata": {},
   "outputs": [
    {
     "name": "stdout",
     "output_type": "stream",
     "text": [
      "Enter your number ::26\n",
      "enter your second number ::26\n",
      "select any operation :: 23\n",
      "addition= 52\n",
      "do you want continue?y/n2\n",
      "subtraction= 0\n",
      "do you want continue?y/n3\n",
      "product= 676\n",
      "do you want continue?y/n5\n",
      "devision= 1.0\n",
      "do you want continue?y/n4444\n",
      "modules= 0\n",
      "do you want continue?y/n2\n",
      "made by kamlesh kumar prajapat\n"
     ]
    }
   ],
   "source": [
    "r=\"y\"\n",
    "while r.lower()=='y':\n",
    "    a=int(input(\"Enter your number ::\"))\n",
    "    b=int(input(\"enter your second number ::\"))\n",
    "    c=input(\"select any operation :: \")\n",
    "    list_1=(\"+\",\"-\",\"*\",\"/\",\"%\")\n",
    "    for i in list_1:\n",
    "        if i == '+':\n",
    "            print(\"addition=\",a+b)\n",
    "        elif i == '-':\n",
    "            print(\"subtraction=\",a-b)\n",
    "        elif i == '*':\n",
    "            print(\"product=\",a*b)\n",
    "        elif i == '/':\n",
    "            print(\"devision=\",a/b)\n",
    "        elif i == '%':\n",
    "            print(\"modules=\",a%b)\n",
    "        r=input(\"do you want continue?y/n\" )\n",
    "        if r == 'n':\n",
    "            break\n",
    "else:\n",
    "     pass\n",
    "print(\"made by kamlesh kumar prajapat\")"
   ]
  },
  {
   "cell_type": "code",
   "execution_count": 1,
   "metadata": {
    "scrolled": false
   },
   "outputs": [
    {
     "name": "stdout",
     "output_type": "stream",
     "text": [
      "* \n",
      "* * \n",
      "* * * \n",
      "* * * * \n",
      "* * * * * \n",
      "* * * * \n",
      "* * * \n",
      "* * \n",
      "* \n"
     ]
    }
   ],
   "source": [
    "# * \n",
    "# * * \n",
    "# * * * \n",
    "# * * * * \n",
    "# * * * * * \n",
    "# * * * * \n",
    "# * * * \n",
    "# * * \n",
    "# *\n",
    "for i in range(1,6):\n",
    "    k=i+1\n",
    "    for j in range( 1,k):\n",
    "        print(\"*\",end=\" \")\n",
    "    print('')\n",
    "for h in range(5,1,-1):\n",
    "#         f=h-1\n",
    "        for d in range(1,h):\n",
    "            print(\"*\",end=\" \")\n",
    "        print('')\n",
    "else:\n",
    "      pass"
   ]
  },
  {
   "cell_type": "code",
   "execution_count": 2,
   "metadata": {},
   "outputs": [
    {
     "ename": "TypeError",
     "evalue": "Persion() takes no arguments",
     "output_type": "error",
     "traceback": [
      "\u001b[0;31m---------------------------------------------------------------------------\u001b[0m",
      "\u001b[0;31mTypeError\u001b[0m                                 Traceback (most recent call last)",
      "\u001b[0;32m<ipython-input-2-98623f56ca1b>\u001b[0m in \u001b[0;36m<module>\u001b[0;34m\u001b[0m\n\u001b[1;32m      6\u001b[0m         \u001b[0mself\u001b[0m\u001b[0;34m.\u001b[0m\u001b[0mage\u001b[0m\u001b[0;34m\u001b[0m\u001b[0;34m\u001b[0m\u001b[0m\n\u001b[1;32m      7\u001b[0m         \u001b[0mcount_instance\u001b[0m \u001b[0;34m+=\u001b[0m\u001b[0;36m1\u001b[0m\u001b[0;34m\u001b[0m\u001b[0;34m\u001b[0m\u001b[0m\n\u001b[0;32m----> 8\u001b[0;31m \u001b[0mp1\u001b[0m\u001b[0;34m=\u001b[0m\u001b[0mPersion\u001b[0m\u001b[0;34m(\u001b[0m\u001b[0;34m'teena'\u001b[0m\u001b[0;34m,\u001b[0m\u001b[0;34m'kamlesh'\u001b[0m\u001b[0;34m,\u001b[0m\u001b[0;36m20\u001b[0m\u001b[0;34m)\u001b[0m\u001b[0;34m\u001b[0m\u001b[0;34m\u001b[0m\u001b[0m\n\u001b[0m\u001b[1;32m      9\u001b[0m \u001b[0mprint\u001b[0m\u001b[0;34m(\u001b[0m\u001b[0mcount_instance\u001b[0m\u001b[0;34m(\u001b[0m\u001b[0;34m)\u001b[0m\u001b[0;34m)\u001b[0m\u001b[0;34m\u001b[0m\u001b[0;34m\u001b[0m\u001b[0m\n",
      "\u001b[0;31mTypeError\u001b[0m: Persion() takes no arguments"
     ]
    }
   ],
   "source": []
  }
 ],
 "metadata": {
  "kernelspec": {
   "display_name": "Python 3",
   "language": "python",
   "name": "python3"
  },
  "language_info": {
   "codemirror_mode": {
    "name": "ipython",
    "version": 3
   },
   "file_extension": ".py",
   "mimetype": "text/x-python",
   "name": "python",
   "nbconvert_exporter": "python",
   "pygments_lexer": "ipython3",
   "version": "3.7.3"
  }
 },
 "nbformat": 4,
 "nbformat_minor": 2
}
