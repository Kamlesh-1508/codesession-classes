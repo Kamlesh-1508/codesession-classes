{
 "cells": [
  {
   "cell_type": "code",
   "execution_count": 52,
   "metadata": {},
   "outputs": [
    {
     "name": "stdout",
     "output_type": "stream",
     "text": [
      "enter your number::5326\n",
      "woring number\n",
      "3567\n"
     ]
    }
   ],
   "source": [
    "import random as rd\n",
    "def gusuess_number(*number):\n",
    "    x=rd.randint(1,10000)\n",
    "    if number==x:\n",
    "        print(\"write number\")\n",
    "    else:\n",
    "        print(\"woring number\")\n",
    "    print(x)\n",
    "x=int(input(\"enter your number::\"))\n",
    "gusuess_number()"
   ]
  },
  {
   "cell_type": "code",
   "execution_count": 131,
   "metadata": {},
   "outputs": [
    {
     "name": "stdout",
     "output_type": "stream",
     "text": [
      "0.4264298047486229\n"
     ]
    }
   ],
   "source": [
    "import random\n",
    "\n",
    "print(random.random()) "
   ]
  },
  {
   "cell_type": "code",
   "execution_count": 158,
   "metadata": {},
   "outputs": [
    {
     "name": "stdout",
     "output_type": "stream",
     "text": [
      "14\n"
     ]
    }
   ],
   "source": [
    "import random\n",
    "\n",
    "print(random.randrange(1,20))"
   ]
  },
  {
   "cell_type": "code",
   "execution_count": 184,
   "metadata": {},
   "outputs": [
    {
     "name": "stdout",
     "output_type": "stream",
     "text": [
      "9.649416985974188\n"
     ]
    }
   ],
   "source": [
    "import random \n",
    "\n",
    "print(random.uniform(2.5,10))"
   ]
  },
  {
   "cell_type": "code",
   "execution_count": 199,
   "metadata": {},
   "outputs": [
    {
     "name": "stdout",
     "output_type": "stream",
     "text": [
      "13.099543869100923\n"
     ]
    }
   ],
   "source": [
    "import random\n",
    "\n",
    "print(random.expovariate(2/10))"
   ]
  },
  {
   "cell_type": "code",
   "execution_count": 8,
   "metadata": {},
   "outputs": [
    {
     "name": "stdout",
     "output_type": "stream",
     "text": [
      "input your coin choice ::head\n",
      "draw\n",
      "sorry you lose\n"
     ]
    }
   ],
   "source": [
    "import random\n",
    "a=input(\"input your coin choice ::\")\n",
    "b=random.choice(['head', 'tail', 'draw']) \n",
    "print(b)\n",
    "if a==b:\n",
    "    print(\"congrats\")\n",
    "else:\n",
    "    print(\"sorry you lose\")"
   ]
  },
  {
   "cell_type": "code",
   "execution_count": 10,
   "metadata": {},
   "outputs": [
    {
     "name": "stdout",
     "output_type": "stream",
     "text": [
      "Wed Oct 28 12:57:41 2020\n"
     ]
    }
   ],
   "source": [
    "import time\n",
    "\n",
    "print(time.ctime())"
   ]
  },
  {
   "cell_type": "code",
   "execution_count": 20,
   "metadata": {},
   "outputs": [
    {
     "name": "stdout",
     "output_type": "stream",
     "text": [
      "time.struct_time(tm_year=2020, tm_mon=10, tm_mday=28, tm_hour=17, tm_min=3, tm_sec=1, tm_wday=2, tm_yday=302, tm_isdst=0)\n"
     ]
    }
   ],
   "source": [
    "import time\n",
    "print(time.gmtime())"
   ]
  },
  {
   "cell_type": "code",
   "execution_count": 39,
   "metadata": {},
   "outputs": [
    {
     "name": "stdout",
     "output_type": "stream",
     "text": [
      "1603904708.8326356\n"
     ]
    }
   ],
   "source": [
    "import time\n",
    "second=time.time()\n",
    "print(second)"
   ]
  },
  {
   "cell_type": "code",
   "execution_count": 44,
   "metadata": {},
   "outputs": [
    {
     "name": "stdout",
     "output_type": "stream",
     "text": [
      "local time = Wed Oct 28 13:08:08 2020\n"
     ]
    }
   ],
   "source": [
    "import time\n",
    "print(\"local time =\",time.ctime())"
   ]
  },
  {
   "cell_type": "code",
   "execution_count": 59,
   "metadata": {},
   "outputs": [
    {
     "name": "stdout",
     "output_type": "stream",
     "text": [
      "this is printed immeadiately:: Wed Oct 28 13:19:11 2020\n",
      "this is printed after 10 second:: Wed Oct 28 13:19:13 2020\n"
     ]
    }
   ],
   "source": [
    "import time\n",
    "x=time.ctime()\n",
    "# a=int(input(\"enter your time sleep::\"))\n",
    "print(\"this is printed immeadiately::\",x)\n",
    "time.sleep(2)\n",
    "x=time.ctime()\n",
    "print(\"this is printed after 10 second::\",x)"
   ]
  },
  {
   "cell_type": "code",
   "execution_count": 83,
   "metadata": {},
   "outputs": [
    {
     "name": "stdout",
     "output_type": "stream",
     "text": [
      "result: time.struct_time(tm_year=2020, tm_mon=10, tm_mday=28, tm_hour=17, tm_min=31, tm_sec=41, tm_wday=2, tm_yday=302, tm_isdst=0)\n",
      "\n",
      "year: 2020\n",
      "month: 10\n",
      "day: 28\n",
      "hour: 17\n",
      "mintue: 31\n",
      "sec: 41\n",
      "weakday: 2\n",
      "date: Wed Oct 28 13:31:41 2020\n",
      "yearday: 302\n"
     ]
    }
   ],
   "source": [
    "import time as gmtime\n",
    "\n",
    "result=time.gmtime()\n",
    "print(\"result:\",result)\n",
    "print(\"\\nyear:\",result.tm_year)\n",
    "print(\"month:\",result.tm_mon)\n",
    "print(\"day:\",result.tm_mday)\n",
    "print(\"hour:\",result.tm_hour)\n",
    "print(\"mintue:\",result.tm_min)\n",
    "print(\"sec:\",result.tm_sec)\n",
    "print(\"weakday:\",result.tm_wday)\n",
    "print(\"date:\",time.ctime())\n",
    "print(\"yearday:\",result.tm_yday)"
   ]
  },
  {
   "cell_type": "code",
   "execution_count": 105,
   "metadata": {},
   "outputs": [
    {
     "name": "stdout",
     "output_type": "stream",
     "text": [
      "localtime= Wed, Wednesday, Oct, October, Wed Oct 28 14:14:28 2020, 28, 14, 02, 302, 10, 14, PM,28, 43,3, 43, 10/28/20, 14:14:28, 20, 2020, -0400, -04, %\n"
     ]
    }
   ],
   "source": [
    "import time\n",
    "current_time=time.localtime()\n",
    "string_time=time.strftime(\"%a, %A, %b, %B, %c, %d, %H, %I, %j, %m, %M, %p,%S, %U,%w, %W, %x, %X, %y, %Y, %z, %Z, %%\",current_time)\n",
    "print(\"localtime=\",string_time)\n"
   ]
  },
  {
   "cell_type": "code",
   "execution_count": null,
   "metadata": {},
   "outputs": [],
   "source": []
  }
 ],
 "metadata": {
  "kernelspec": {
   "display_name": "Python 3",
   "language": "python",
   "name": "python3"
  },
  "language_info": {
   "codemirror_mode": {
    "name": "ipython",
    "version": 3
   },
   "file_extension": ".py",
   "mimetype": "text/x-python",
   "name": "python",
   "nbconvert_exporter": "python",
   "pygments_lexer": "ipython3",
   "version": "3.7.3"
  }
 },
 "nbformat": 4,
 "nbformat_minor": 2
}
