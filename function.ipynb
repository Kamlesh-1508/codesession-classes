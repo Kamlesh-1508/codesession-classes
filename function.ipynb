{
 "cells": [
  {
   "cell_type": "code",
   "execution_count": 2,
   "metadata": {},
   "outputs": [
    {
     "name": "stdout",
     "output_type": "stream",
     "text": [
      "enter your number::65\n",
      "enter your second number::65\n",
      "130\n",
      "0\n"
     ]
    }
   ],
   "source": [
    "# functions.\n",
    "# Syntax:\n",
    "    \n",
    "#     def function_name (argument1, argument2,...):\n",
    "#         statement1\n",
    "#         statement2\n",
    "\n",
    "# Advantages of using Functions:\n",
    "\n",
    "#     1. The functional code needs to be written only once\n",
    "#     2. You can define the function once and you can call it anywhere inside the program.\n",
    "#     3. Reusability\n",
    "#     4. Helps follow better coding practices. (avoid repetition of code)\n",
    "\n",
    "def add(x,y):\n",
    "    z = x+y\n",
    "    return z\n",
    "def sub(w,h):\n",
    "    q = w-h\n",
    "    return q\n",
    "def mul(a,b):\n",
    "    c=(a*b)\n",
    "    return c\n",
    "def div(a,b):\n",
    "    c=a/b\n",
    "    return c\n",
    "first_1=int(input(\"enter your number::\"))\n",
    "second_2=int(input(\"enter your second number::\"))\n",
    "result=add(first_1,second_2)\n",
    "print(result)\n",
    "result_1=sub(first_1,second_2)\n",
    "print(result_1)\n",
    "\n"
   ]
  },
  {
   "cell_type": "code",
   "execution_count": 4,
   "metadata": {
    "scrolled": false
   },
   "outputs": [
    {
     "name": "stdout",
     "output_type": "stream",
     "text": [
      "thank you use for calculater \n"
     ]
    }
   ],
   "source": [
    "def opration(a,b):\n",
    "    add=a+b\n",
    "    \n",
    "    sub=a-b\n",
    "    return sub\n",
    "    mul=a*b\n",
    "    return mul\n",
    "    div=a/b\n",
    "    return\n",
    "    a=int(input(\"enter your frist number::\"))\n",
    "    b=int(input(\"enter your second number::\"))\n",
    "    c=input(\"enter your operation:: +,-,*,/\")\n",
    "    if c == '+':\n",
    "        print(f\"{a}+{b} =\",a+b)\n",
    "    elif c == '-':\n",
    "        print(f\"{a}-{b} =\",a-b)\n",
    "    elif c == '*':\n",
    "        print(f\"{a}*{b} =\",a*b)\n",
    "    elif c== '/':\n",
    "        print(f\"{a}/{b}=\",a/b)\n",
    "    else:\n",
    "        print(\"invild operation\")    \n",
    "print(\"thank you use for calculater \")"
   ]
  },
  {
   "cell_type": "code",
   "execution_count": 5,
   "metadata": {},
   "outputs": [
    {
     "name": "stdout",
     "output_type": "stream",
     "text": [
      "72\n"
     ]
    }
   ],
   "source": [
    "# 1. Write a Python function to find the Max of three numbers.\n",
    "a=25\n",
    "b=40\n",
    "c=72\n",
    "print(max(a,b,c))"
   ]
  },
  {
   "cell_type": "code",
   "execution_count": 2,
   "metadata": {},
   "outputs": [
    {
     "name": "stdout",
     "output_type": "stream",
     "text": [
      "40\n"
     ]
    }
   ],
   "source": [
    "a=10\n",
    "b=20\n",
    "c=40\n",
    "if(a>=b) and (a>=c):\n",
    "    print(a)\n",
    "elif(b>=a) and (b>=c):\n",
    "    print(b)\n",
    "else:\n",
    "    print(c)\n",
    "       "
   ]
  },
  {
   "cell_type": "code",
   "execution_count": 76,
   "metadata": {},
   "outputs": [
    {
     "name": "stdout",
     "output_type": "stream",
     "text": [
      "95\n"
     ]
    }
   ],
   "source": [
    "def maximum(a,b,c):\n",
    "    if(a>=b) and (a>=c):\n",
    "        maximum=a\n",
    "    elif (b>=a) and (b>=c):\n",
    "        maximum=b\n",
    "    else:\n",
    "        maximum=c\n",
    "        return maximum\n",
    "a=int(input(\"enter your first no::\"))\n",
    "b=int(input(\"enter your second no::\"))\n",
    "c=int(input(\"enter your third no::\"))\n",
    "print(maximum(a,b,c))"
   ]
  },
  {
   "cell_type": "code",
   "execution_count": 28,
   "metadata": {},
   "outputs": [
    {
     "name": "stdout",
     "output_type": "stream",
     "text": [
      "95\n"
     ]
    }
   ],
   "source": [
    "def maximum (a,b,c):\n",
    "    list=[a,b,c]\n",
    "    return max(list)\n",
    "a=25\n",
    "b=36\n",
    "c=95\n",
    "print(maximum(a,b,c))"
   ]
  },
  {
   "cell_type": "code",
   "execution_count": 86,
   "metadata": {},
   "outputs": [
    {
     "name": "stdout",
     "output_type": "stream",
     "text": [
      "enter your first no::53\n",
      "enter your second no::65\n",
      "enter your third no::3\n",
      "3\n"
     ]
    }
   ],
   "source": [
    "def minimum(x,y,z):\n",
    "    if (x<=y) and (x<=z):\n",
    "        minimum = x \n",
    "    elif (y<=x) and (y<=z):\n",
    "        minimum = y\n",
    "    else:\n",
    "        minimum = z\n",
    "        return minimum\n",
    "x=int(input(\"enter your first no::\"))\n",
    "y=int(input(\"enter your second no::\"))\n",
    "z=int(input(\"enter your third no::\"))\n",
    "print(minimum(x,y,z))"
   ]
  },
  {
   "cell_type": "code",
   "execution_count": 44,
   "metadata": {},
   "outputs": [
    {
     "name": "stdout",
     "output_type": "stream",
     "text": [
      "30\n"
     ]
    }
   ],
   "source": [
    "def minimum(a,b,c):\n",
    "    l=[a,b,c]\n",
    "    return min(l)\n",
    "a=652\n",
    "b=95\n",
    "c=30\n",
    "print(minimum(a,b,c))"
   ]
  },
  {
   "cell_type": "code",
   "execution_count": 88,
   "metadata": {},
   "outputs": [
    {
     "name": "stdout",
     "output_type": "stream",
     "text": [
      "20\n"
     ]
    }
   ],
   "source": [
    "# 2. Write a Python function to sum all the numbers in a list. \n",
    "# Sample List : (8, 2, 3, 0, 7)\n",
    "# Expected Output : 20\n",
    "list=[8,2,3,0,7]\n",
    "print(sum(list))"
   ]
  },
  {
   "cell_type": "code",
   "execution_count": 18,
   "metadata": {},
   "outputs": [
    {
     "name": "stdout",
     "output_type": "stream",
     "text": [
      "enter your first no::64\n",
      "enter your second no::4\n",
      "enter your third no::9\n",
      "enter your fourth no::1\n",
      "enter your fifth  no::49\n",
      "127\n"
     ]
    }
   ],
   "source": [
    "def sum(a,b,c,d,e):\n",
    "    total = a+b+c+d+e\n",
    "    return total\n",
    "a=int(input(\"enter your first no::\"))\n",
    "b=int(input(\"enter your second no::\"))\n",
    "c=int(input(\"enter your third no::\"))\n",
    "d=int(input(\"enter your fourth no::\"))\n",
    "e=int(input(\"enter your fifth  no::\"))\n",
    "x = sum(a,b,c,d,e)\n",
    "print(x)"
   ]
  },
  {
   "cell_type": "code",
   "execution_count": 20,
   "metadata": {},
   "outputs": [
    {
     "name": "stdout",
     "output_type": "stream",
     "text": [
      "-336\n"
     ]
    }
   ],
   "source": [
    "#  Write a Python function to multiply all the numbers in a list. \n",
    "# Sample List : (8, 2, 3, -1, 7)\n",
    "# Expected Output : -336\n",
    "def mul(a,b,c,d,e):\n",
    "    total=a*b*c*d*e\n",
    "    return total\n",
    "a=8\n",
    "b=2\n",
    "c=3\n",
    "d=-1\n",
    "e=7\n",
    "print(mul(a,b,c,d,e))\n",
    "\n"
   ]
  },
  {
   "cell_type": "code",
   "execution_count": 23,
   "metadata": {
    "scrolled": true
   },
   "outputs": [
    {
     "name": "stdout",
     "output_type": "stream",
     "text": [
      "8\n",
      "8 2\n",
      "16 3\n",
      "48 -1\n",
      "-48 7\n",
      "-336 "
     ]
    }
   ],
   "source": [
    "list_1=[8,2,3,-1,7]\n",
    "def multi(*list):\n",
    "    multi_1=1\n",
    "    for i in list_1:\n",
    "        multi_1=i*multi_1\n",
    "        print(i)\n",
    "        print(multi_1,end=\" \")\n",
    "multi()"
   ]
  },
  {
   "cell_type": "code",
   "execution_count": 56,
   "metadata": {
    "scrolled": true
   },
   "outputs": [
    {
     "name": "stdout",
     "output_type": "stream",
     "text": [
      "-336\n"
     ]
    }
   ],
   "source": [
    "list=[8,2,3,-1,7]\n",
    "def mul(list):\n",
    "    total=a*b*c*d*e\n",
    "    return total\n",
    "print(mul(list))\n"
   ]
  },
  {
   "cell_type": "code",
   "execution_count": 19,
   "metadata": {},
   "outputs": [
    {
     "name": "stdout",
     "output_type": "stream",
     "text": [
      "Twinkle, twinkle, little star, \n",
      "\tHow I wonder what you are! \n",
      "\t\tUp above the world so high, \n",
      "\t\tLike a diamond in the sky. \n",
      "Twinkle, twinkle, little star, \n",
      "\tHow I wonder what you are!\n"
     ]
    }
   ],
   "source": [
    "# 1. Write a Python program to print the following string in a specific format (see the output). \n",
    "# Sample String : \"Twinkle, twinkle, little star, How I wonder what you are! Up above the world so high, Like a diamond in the sky. Twinkle, twinkle, little star, How I wonder what you are\" Output :\n",
    "\n",
    "# Twinkle, twinkle, little star,\n",
    "# \tHow I wonder what you are! \n",
    "# \t\tUp above the world so high,   \t\t\n",
    "# \t\tLike a diamond in the sky. \n",
    "# Twinkle, twinkle, little star, \n",
    "# \tHow I wonder what you are\n",
    "def string(*string):\n",
    "    a=\"Twinkle, twinkle, little star, \\n\\tHow I wonder what you are! \\n\\t\\tUp above the world so high, \\n\\t\\tLike a diamond in the sky. \\nTwinkle, twinkle, little star, \\n\\tHow I wonder what you are!\"\n",
    "    print(a)\n",
    "string()"
   ]
  },
  {
   "cell_type": "code",
   "execution_count": 6,
   "metadata": {},
   "outputs": [
    {
     "name": "stdout",
     "output_type": "stream",
     "text": [
      "Enter your First name::kamlesh\n",
      "Enter your Last name::prajapat\n",
      "['prajapat', 'kamlesh']\n"
     ]
    }
   ],
   "source": [
    "# 5.Write a Python program which accepts the user's first and last name and print them in reverse order with a space between them\n",
    "def name(*name):\n",
    "    first=input(\"Enter your First name::\")\n",
    "    second=input(\"Enter your Last name::\")\n",
    "    a=[]\n",
    "    a.append(first)\n",
    "    a.append(second)\n",
    "    a.reverse()\n",
    "    print(a)\n",
    "name()"
   ]
  },
  {
   "cell_type": "code",
   "execution_count": 2,
   "metadata": {},
   "outputs": [
    {
     "name": "stdout",
     "output_type": "stream",
     "text": [
      "Enter your number::5,2,6,,3,,6,\n",
      "['5', '2', '6', '', '3', '', '6', '']\n",
      "('5', '2', '6', '', '3', '', '6', '')\n"
     ]
    }
   ],
   "source": [
    "# 6.Write a Python program which accepts a sequence of comma-separated numbers from user and generate a list and a tuple with those numbers.\n",
    "def number(*number):\n",
    "    a=input(\"Enter your number::\")\n",
    "    b=a.split(\",\")\n",
    "    print(b)\n",
    "    c=tuple(b)\n",
    "    print(c)\n",
    "number()"
   ]
  },
  {
   "cell_type": "code",
   "execution_count": 15,
   "metadata": {},
   "outputs": [
    {
     "name": "stdout",
     "output_type": "stream",
     "text": [
      "enter your extension ::kamlesh.py\n",
      "your extension is :: py\n"
     ]
    }
   ],
   "source": [
    "# 7.Write a Python program to accept a filename from the user and print the extension of that.\n",
    "def extension(*extension):\n",
    "    a=input(\"enter your extension ::\")\n",
    "    b=a.split(\".\")\n",
    "    print(\"your extension is ::\",b[1])\n",
    "extension()"
   ]
  },
  {
   "cell_type": "code",
   "execution_count": 16,
   "metadata": {},
   "outputs": [
    {
     "name": "stdout",
     "output_type": "stream",
     "text": [
      "Red Black\n"
     ]
    }
   ],
   "source": [
    "8.# Write a Python program to display the first and last colors from the following list.\n",
    "# color_list = [\"Red\",\"Green\",\"White\" ,\"Black\"]\n",
    "def color(*color):\n",
    "    color=[\"Red\",\"Green\",\"White\" ,\"Black\"]\n",
    "    print(color[0],color[-1])\n",
    "color()"
   ]
  },
  {
   "cell_type": "code",
   "execution_count": 22,
   "metadata": {},
   "outputs": [
    {
     "name": "stdout",
     "output_type": "stream",
     "text": [
      "11/12/2014\n"
     ]
    }
   ],
   "source": [
    "# 9. Write a Python program to display the examination schedule. (extract the date from exam_st_date).\n",
    "# exam_st_date = (11, 12, 2014)\n",
    "# Sample Output : The examination will start from : 11 / 12 / 2014\n",
    "def replace(*replace):\n",
    "    list=\"11,12,2014\"\n",
    "    print(list.replace(\",\",\"/\"))\n",
    "replace()"
   ]
  },
  {
   "cell_type": "code",
   "execution_count": 55,
   "metadata": {},
   "outputs": [
    {
     "name": "stdout",
     "output_type": "stream",
     "text": [
      "\"dcba4321\"\n"
     ]
    }
   ],
   "source": [
    "# q. Write a Python program to reverse a string. Go to the editor\n",
    "# Sample String : \"1234abcd\"\n",
    "# Expected Output : \"dcba4321\"\n",
    "def reverse(x):\n",
    "    y=x[::-1]\n",
    "    return y\n",
    "x=reverse('\"1234abcd\"')\n",
    "print(x)"
   ]
  },
  {
   "cell_type": "code",
   "execution_count": 17,
   "metadata": {},
   "outputs": [
    {
     "name": "stdout",
     "output_type": "stream",
     "text": [
      "30\n"
     ]
    }
   ],
   "source": [
    "def add(x,y):\n",
    "    z=x+y\n",
    "    return z\n",
    "a=add(10,20)\n",
    "print(a)"
   ]
  },
  {
   "cell_type": "code",
   "execution_count": 39,
   "metadata": {},
   "outputs": [
    {
     "name": "stdout",
     "output_type": "stream",
     "text": [
      "['apple']\n"
     ]
    }
   ],
   "source": [
    "def add(*add):\n",
    "    lst=[]\n",
    "    lst.append(\"banana\")\n",
    "    lst.insert(0,\"apple\")\n",
    "    lst.pop()\n",
    "    print(lst)\n",
    "add()"
   ]
  },
  {
   "cell_type": "code",
   "execution_count": 45,
   "metadata": {},
   "outputs": [
    {
     "name": "stdout",
     "output_type": "stream",
     "text": [
      "40\n"
     ]
    }
   ],
   "source": [
    "var=lambda a,b,c,d:a*b*c*d\n",
    "print(var(1,2,4,5))"
   ]
  },
  {
   "cell_type": "code",
   "execution_count": 48,
   "metadata": {},
   "outputs": [
    {
     "name": "stdout",
     "output_type": "stream",
     "text": [
      "15\n"
     ]
    }
   ],
   "source": [
    "n=lambda a:a+10\n",
    "print(n(5))\n"
   ]
  },
  {
   "cell_type": "code",
   "execution_count": 51,
   "metadata": {},
   "outputs": [
    {
     "name": "stdout",
     "output_type": "stream",
     "text": [
      "22\n"
     ]
    }
   ],
   "source": [
    "def myfun(n):\n",
    "    return lambda a:a*n\n",
    "mul=myfun(11)\n",
    "print(mul(2))"
   ]
  },
  {
   "cell_type": "code",
   "execution_count": 55,
   "metadata": {},
   "outputs": [
    {
     "name": "stdout",
     "output_type": "stream",
     "text": [
      "20\n",
      "121\n"
     ]
    }
   ],
   "source": [
    "def myfun(n):\n",
    "    return lambda a:a*n\n",
    "b=myfun(11)\n",
    "c=myfun(10)\n",
    "print(c(2))\n",
    "print(b(11))"
   ]
  },
  {
   "cell_type": "code",
   "execution_count": 66,
   "metadata": {},
   "outputs": [
    {
     "name": "stdout",
     "output_type": "stream",
     "text": [
      "kamlesh\n"
     ]
    }
   ],
   "source": [
    "def myclass(**list):\n",
    "    print(list[\"fname\"])\n",
    "myclass(fname=\"kamlesh\",lname=\"prajapar\")"
   ]
  },
  {
   "cell_type": "code",
   "execution_count": 81,
   "metadata": {},
   "outputs": [
    {
     "name": "stdout",
     "output_type": "stream",
     "text": [
      "first == Geeks\n",
      "mid == for\n",
      "last == Geeks\n"
     ]
    }
   ],
   "source": [
    "def myFun(**dict_1):  \n",
    "    for key, value in dict_1.items(): \n",
    "        print (\"%s == %s\" %(key,value))\n",
    "\n",
    "# Driver code \n",
    "myFun(first ='Geeks', mid ='for', last='Geeks')    "
   ]
  },
  {
   "cell_type": "code",
   "execution_count": 90,
   "metadata": {},
   "outputs": [
    {
     "name": "stdout",
     "output_type": "stream",
     "text": [
      "kamlesh\n",
      "kumar\n",
      "prajapat\n"
     ]
    }
   ],
   "source": [
    "def mycom(tuple):\n",
    "    for i in tuple:\n",
    "        print(i)\n",
    "name=(\"kamlesh\",\"kumar\",\"prajapat\")\n",
    "mycom(name)"
   ]
  },
  {
   "cell_type": "code",
   "execution_count": 16,
   "metadata": {},
   "outputs": [
    {
     "name": "stdout",
     "output_type": "stream",
     "text": [
      "2\n",
      "1\n",
      "4\n",
      "5\n"
     ]
    }
   ],
   "source": [
    "lst=[2,1,4,5]\n",
    "def mul(*mul):\n",
    "    a=1\n",
    "    for i in lst:\n",
    "        d=i*a\n",
    "        print(d)\n",
    "mul()"
   ]
  },
  {
   "cell_type": "code",
   "execution_count": 17,
   "metadata": {},
   "outputs": [
    {
     "name": "stdout",
     "output_type": "stream",
     "text": [
      "40\n"
     ]
    }
   ],
   "source": [
    "lst=[2,1,4,5]\n",
    "def mul(*mul):\n",
    "    total=2*1*4*5\n",
    "    print(total)\n",
    "mul()"
   ]
  },
  {
   "cell_type": "code",
   "execution_count": 30,
   "metadata": {},
   "outputs": [
    {
     "name": "stdout",
     "output_type": "stream",
     "text": [
      "enter your first number::1\n",
      "enter your second  number::500\n",
      "5 10 15 20 25 30 35 40 45 50 55 60 65 70 75 80 85 90 95 100 105 110 115 120 125 130 135 140 145 150 155 160 165 170 175 180 185 190 195 200 205 210 215 220 225 230 235 240 245 250 255 260 265 270 275 280 285 290 295 300 305 310 315 320 325 330 335 340 345 350 355 360 365 370 375 380 385 390 395 400 405 410 415 420 425 430 435 440 445 450 455 460 465 470 475 480 485 490 495 500 "
     ]
    }
   ],
   "source": [
    "b=int(input(\"enter your first number::\"))\n",
    "a=int(input(\"enter your second  number::\"))\n",
    "lst=[b,a]\n",
    "def num(*num):\n",
    "    for i in range(b,a+1):\n",
    "        if i%5==0:\n",
    "            print(i,end=\" \")\n",
    "num()"
   ]
  },
  {
   "cell_type": "code",
   "execution_count": 4,
   "metadata": {
    "scrolled": true
   },
   "outputs": [
    {
     "name": "stdout",
     "output_type": "stream",
     "text": [
      "* * \n",
      "* * * \n",
      "* * * * \n",
      "* * * * * \n",
      "* * * * \n",
      "* * * \n",
      "* * \n"
     ]
    }
   ],
   "source": [
    "def pattern(*pattern):\n",
    "    for i in range(2,5+1):\n",
    "        for a in range(i):\n",
    "            print(\"*\",end=\" \")\n",
    "        print()\n",
    "    for b in range(5,2,-1):\n",
    "        for d in range(1,b):\n",
    "            print(\"*\",end=\" \")\n",
    "        print()\n",
    "pattern()"
   ]
  },
  {
   "cell_type": "code",
   "execution_count": 5,
   "metadata": {},
   "outputs": [
    {
     "name": "stdout",
     "output_type": "stream",
     "text": [
      "* * * * * \n",
      "* * * * \n",
      "* * * \n",
      "* * \n",
      "* \n"
     ]
    }
   ],
   "source": [
    "for b in range(6,1,-1):\n",
    "    for d in range(1,b):\n",
    "        print(\"*\",end=\" \")\n",
    "    print()"
   ]
  },
  {
   "cell_type": "code",
   "execution_count": null,
   "metadata": {},
   "outputs": [],
   "source": [
    "var=lambda a,b:a*b\n",
    "print(var(10,20))"
   ]
  },
  {
   "cell_type": "code",
   "execution_count": 8,
   "metadata": {},
   "outputs": [
    {
     "name": "stdout",
     "output_type": "stream",
     "text": [
      "85\n"
     ]
    }
   ],
   "source": [
    "def largest(a,b,c):\n",
    "    if a>=b and a>=c:\n",
    "        largest=a \n",
    "    elif b>=a and b>=c:\n",
    "        largest=b \n",
    "    else:\n",
    "         largest=c\n",
    "    return largest\n",
    "a=52\n",
    "b=30\n",
    "c=85\n",
    "print(largest(a,b,c))\n",
    "        "
   ]
  },
  {
   "cell_type": "code",
   "execution_count": 5,
   "metadata": {},
   "outputs": [
    {
     "name": "stdout",
     "output_type": "stream",
     "text": [
      "enter your frist name::kamlesh kumar\n",
      "enter your last name::prajapat\n",
      "your name is:: kamlesh kumar prajapat\n"
     ]
    }
   ],
   "source": [
    "def function(*string):\n",
    "    a=input(\"enter your frist name::\")\n",
    "    b=input(\"enter your last name::\")\n",
    "    print(\"your name is::\",a,b)\n",
    "function()"
   ]
  },
  {
   "cell_type": "code",
   "execution_count": 6,
   "metadata": {},
   "outputs": [
    {
     "ename": "ModuleNotFoundError",
     "evalue": "No module named 'function'",
     "output_type": "error",
     "traceback": [
      "\u001b[0;31m---------------------------------------------------------------------------\u001b[0m",
      "\u001b[0;31mModuleNotFoundError\u001b[0m                       Traceback (most recent call last)",
      "\u001b[0;32m<ipython-input-6-5e1bf866f951>\u001b[0m in \u001b[0;36m<module>\u001b[0;34m\u001b[0m\n\u001b[0;32m----> 1\u001b[0;31m \u001b[0;32mimport\u001b[0m \u001b[0mfunction\u001b[0m\u001b[0;34m\u001b[0m\u001b[0;34m\u001b[0m\u001b[0m\n\u001b[0m\u001b[1;32m      2\u001b[0m \u001b[0;32mdef\u001b[0m \u001b[0maddress\u001b[0m\u001b[0;34m(\u001b[0m\u001b[0;34m*\u001b[0m\u001b[0maddress\u001b[0m\u001b[0;34m)\u001b[0m\u001b[0;34m:\u001b[0m\u001b[0;34m\u001b[0m\u001b[0;34m\u001b[0m\u001b[0m\n\u001b[1;32m      3\u001b[0m     \u001b[0mc\u001b[0m\u001b[0;34m=\u001b[0m\u001b[0minput\u001b[0m\u001b[0;34m(\u001b[0m\u001b[0;34m\"enter your address::\"\u001b[0m\u001b[0;34m)\u001b[0m\u001b[0;34m\u001b[0m\u001b[0;34m\u001b[0m\u001b[0m\n\u001b[1;32m      4\u001b[0m     \u001b[0mprint\u001b[0m\u001b[0;34m(\u001b[0m\u001b[0;34m\"your address is::\"\u001b[0m\u001b[0;34m)\u001b[0m\u001b[0;34m\u001b[0m\u001b[0;34m\u001b[0m\u001b[0m\n\u001b[1;32m      5\u001b[0m \u001b[0maddress\u001b[0m\u001b[0;34m(\u001b[0m\u001b[0;34m)\u001b[0m\u001b[0;34m\u001b[0m\u001b[0;34m\u001b[0m\u001b[0m\n",
      "\u001b[0;31mModuleNotFoundError\u001b[0m: No module named 'function'"
     ]
    }
   ],
   "source": [
    "import function\n",
    "def address(*address):\n",
    "    c=input(\"enter your address::\")\n",
    "    print(\"your address is::\")\n",
    "address()"
   ]
  }
 ],
 "metadata": {
  "kernelspec": {
   "display_name": "Python 3",
   "language": "python",
   "name": "python3"
  },
  "language_info": {
   "codemirror_mode": {
    "name": "ipython",
    "version": 3
   },
   "file_extension": ".py",
   "mimetype": "text/x-python",
   "name": "python",
   "nbconvert_exporter": "python",
   "pygments_lexer": "ipython3",
   "version": "3.7.3"
  }
 },
 "nbformat": 4,
 "nbformat_minor": 2
}
